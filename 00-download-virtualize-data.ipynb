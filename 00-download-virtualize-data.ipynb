{
 "cells": [
  {
   "cell_type": "code",
   "execution_count": null,
   "metadata": {},
   "outputs": [],
   "source": [
    "from pathlib import Path\n",
    "\n",
    "import earthaccess\n",
    "from virtualizarr import open_virtual_dataset"
   ]
  },
  {
   "cell_type": "markdown",
   "metadata": {},
   "source": [
    "### Authenticate via earthaccess"
   ]
  },
  {
   "cell_type": "code",
   "execution_count": null,
   "metadata": {},
   "outputs": [],
   "source": [
    "earthaccess.login()"
   ]
  },
  {
   "cell_type": "markdown",
   "metadata": {},
   "source": [
    "### Download MUR-SST dataset"
   ]
  },
  {
   "cell_type": "code",
   "execution_count": null,
   "metadata": {},
   "outputs": [],
   "source": [
    "results = earthaccess.search_data(\n",
    "    concept_id=\"C1996881146-POCLOUD\", count=1, temporal=(\"2002-06-01\", \"2002-06-01\")\n",
    ")\n",
    "fp = earthaccess.download(results, \"earthaccess_data\")[0]"
   ]
  },
  {
   "cell_type": "markdown",
   "metadata": {},
   "source": [
    "### Virtualize MUR-SST dataset"
   ]
  },
  {
   "cell_type": "code",
   "execution_count": null,
   "metadata": {},
   "outputs": [],
   "source": [
    "def virtualize_dataset(local_fp):\n",
    "    \"\"\"Create a virtual reference file for a dataset\"\"\"\n",
    "\n",
    "    def local_to_s3_url(old_local_path: str) -> str:\n",
    "        \"\"\"Replace local path to s3 uri for all chucks\"\"\"\n",
    "\n",
    "        new_s3_bucket_url = Path(\"/\".join(s3_uri.split(\"/\")[:-1]))\n",
    "\n",
    "        filename = Path(old_local_path).name\n",
    "        return str(new_s3_bucket_url / filename)\n",
    "\n",
    "    s3_uri = results[0].data_links(access=\"direct\")[0]\n",
    "    output_fp = f\"earthaccess_data/{s3_uri.split('/')[-1].strip('.nc')}.json\"\n",
    "    virtual_ds = open_virtual_dataset(str(local_fp), indexes={})\n",
    "    virtual_ds.virtualize.rename_paths(local_to_s3_url)\n",
    "    virtual_ds.virtualize.to_kerchunk(output_fp, format=\"json\")"
   ]
  },
  {
   "cell_type": "code",
   "execution_count": null,
   "metadata": {},
   "outputs": [],
   "source": [
    "virtualize_dataset(fp)"
   ]
  },
  {
   "cell_type": "markdown",
   "metadata": {},
   "source": [
    "### Download GPM-IMERG dataset"
   ]
  },
  {
   "cell_type": "code",
   "execution_count": null,
   "metadata": {},
   "outputs": [],
   "source": [
    "results = earthaccess.search_data(\n",
    "    concept_id=\"C2723754850-GES_DISC\", count=1, temporal=(\"2002-06-01\", \"2002-06-01\")\n",
    ")\n",
    "fp = earthaccess.download(results, \"earthaccess_data\")[0]"
   ]
  },
  {
   "cell_type": "markdown",
   "metadata": {},
   "source": [
    "### Virtualize GPM-IMERG dataset"
   ]
  },
  {
   "cell_type": "code",
   "execution_count": null,
   "metadata": {},
   "outputs": [],
   "source": [
    "virtualize_dataset(fp)"
   ]
  }
 ],
 "metadata": {
  "kernelspec": {
   "display_name": "Python 3 (ipykernel)",
   "language": "python",
   "name": "python3"
  },
  "language_info": {
   "codemirror_mode": {
    "name": "ipython",
    "version": 3
   },
   "file_extension": ".py",
   "mimetype": "text/x-python",
   "name": "python",
   "nbconvert_exporter": "python",
   "pygments_lexer": "ipython3",
   "version": "3.11.9"
  }
 },
 "nbformat": 4,
 "nbformat_minor": 4
}
