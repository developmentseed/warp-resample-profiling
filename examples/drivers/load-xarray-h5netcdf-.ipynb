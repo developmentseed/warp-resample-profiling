{
 "cells": [
  {
   "cell_type": "markdown",
   "metadata": {},
   "source": [
    "## Xarray with h5netcdf and earthaccess"
   ]
  },
  {
   "cell_type": "code",
   "execution_count": null,
   "metadata": {
    "lines_to_next_cell": 2
   },
   "outputs": [],
   "source": [
    "import earthaccess\n",
    "import xarray as xr\n",
    "from common import earthaccess_args"
   ]
  },
  {
   "cell_type": "code",
   "execution_count": null,
   "metadata": {},
   "outputs": [],
   "source": [
    "dataset = \"gpm_imerg\"\n",
    "filename = earthaccess_args[dataset][\"filename\"]\n",
    "bucket = earthaccess_args[dataset][\"bucket\"]\n",
    "folder = earthaccess_args[dataset][\"folder\"]\n",
    "variable = earthaccess_args[dataset][\"variable\"]\n",
    "mask_and_scale = earthaccess_args[dataset][\"mask_and_scale\"]\n",
    "daac = earthaccess_args[dataset][\"daac\"]"
   ]
  },
  {
   "cell_type": "code",
   "execution_count": null,
   "metadata": {},
   "outputs": [],
   "source": [
    "def load_data():\n",
    "    input_uri = f\"{folder}/{filename}\"\n",
    "    src = f\"s3://{bucket}/{input_uri}\"\n",
    "    earthaccess.login()\n",
    "    fs = earthaccess.get_s3fs_session(daac=daac)\n",
    "    fsspec_caching = {\n",
    "        \"cache_type\": \"none\",\n",
    "    }\n",
    "    with fs.open(src, **fsspec_caching) as f:\n",
    "        da = xr.open_dataset(f, engine=\"h5netcdf\", mask_and_scale=mask_and_scale)[\n",
    "            variable\n",
    "        ]\n",
    "        return da.load()"
   ]
  },
  {
   "cell_type": "code",
   "execution_count": null,
   "metadata": {
    "lines_to_next_cell": 2
   },
   "outputs": [],
   "source": [
    "if __name__ == \"__main__\":\n",
    "    da = load_data()"
   ]
  },
  {
   "cell_type": "code",
   "execution_count": null,
   "metadata": {},
   "outputs": [],
   "source": []
  }
 ],
 "metadata": {
  "language_info": {
   "codemirror_mode": {
    "name": "ipython",
    "version": 3
   },
   "file_extension": ".py",
   "mimetype": "text/x-python",
   "name": "python",
   "nbconvert_exporter": "python",
   "pygments_lexer": "ipython3",
   "version": "3.11.9"
  }
 },
 "nbformat": 4,
 "nbformat_minor": 4
}
