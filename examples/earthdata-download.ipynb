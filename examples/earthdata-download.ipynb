{
 "cells": [
  {
   "cell_type": "markdown",
   "id": "3dc3f458",
   "metadata": {},
   "source": [
    "# Download and virtualize MUR-SST data"
   ]
  },
  {
   "cell_type": "code",
   "execution_count": null,
   "id": "74f11323",
   "metadata": {},
   "outputs": [],
   "source": [
    "from pathlib import Path\n",
    "\n",
    "import earthaccess\n",
    "import fsspec\n",
    "import xarray as xr\n",
    "from virtualizarr import open_virtual_dataset"
   ]
  },
  {
   "cell_type": "markdown",
   "id": "78fbe028",
   "metadata": {},
   "source": [
    "### Authenticate via earthaccess"
   ]
  },
  {
   "cell_type": "code",
   "execution_count": null,
   "id": "81c3509c",
   "metadata": {},
   "outputs": [],
   "source": [
    "earthaccess.login()"
   ]
  },
  {
   "cell_type": "markdown",
   "id": "46abc7cd",
   "metadata": {},
   "source": [
    "### Download MUR-SST dataset"
   ]
  },
  {
   "cell_type": "code",
   "execution_count": null,
   "id": "cb5cfc7c",
   "metadata": {},
   "outputs": [],
   "source": [
    "results = earthaccess.search_data(\n",
    "    concept_id=\"C1996881146-POCLOUD\", count=1, temporal=(\"2002-06-01\", \"2002-06-01\")\n",
    ")\n",
    "fp = earthaccess.download(results, \"earthaccess_data\")[0]"
   ]
  },
  {
   "cell_type": "markdown",
   "id": "e06c04e2",
   "metadata": {},
   "source": [
    "### Virtualize MUR-SST dataset"
   ]
  },
  {
   "cell_type": "code",
   "execution_count": null,
   "id": "6f983707",
   "metadata": {},
   "outputs": [],
   "source": [
    "def virtualize_dataset(local_fp):\n",
    "    \"\"\"Create a virtual reference file for a dataset\"\"\"\n",
    "\n",
    "    def local_to_s3_url(old_local_path: str) -> str:\n",
    "        \"\"\"Replace local path to s3 uri for all chucks\"\"\"\n",
    "\n",
    "        new_s3_bucket_url = Path(\"/\".join(s3_uri.split(\"/\")[1:-1]))\n",
    "        filename = Path(old_local_path).name\n",
    "        new_path = f\"s3:/{str(new_s3_bucket_url / filename)}\"\n",
    "        return new_path\n",
    "\n",
    "    s3_uri = results[0].data_links(access=\"direct\")[0]\n",
    "    output_fp = f\"earthaccess_data/{s3_uri.split('/')[-1].strip('.nc')}.json\"\n",
    "    print(output_fp)\n",
    "    virtual_ds = open_virtual_dataset(str(local_fp), indexes={})\n",
    "    virtual_ds = virtual_ds.virtualize.rename_paths(local_to_s3_url)\n",
    "    virtual_ds.virtualize.to_kerchunk(output_fp, format=\"json\")\n",
    "    return output_fp"
   ]
  },
  {
   "cell_type": "code",
   "execution_count": null,
   "id": "6e2b7f77",
   "metadata": {},
   "outputs": [],
   "source": [
    "output_fp = virtualize_dataset(fp)"
   ]
  },
  {
   "cell_type": "markdown",
   "id": "ee572b3d-5124-41ab-8507-d2b96126a900",
   "metadata": {},
   "source": [
    "## Load results"
   ]
  },
  {
   "cell_type": "code",
   "execution_count": null,
   "id": "172deb41-1051-4361-bb14-9caff964e602",
   "metadata": {},
   "outputs": [],
   "source": [
    "output_fp = (\n",
    "    \"earthaccess_data/20020601090000-JPL-L4_GHRSST-SSTfnd-MUR-GLOB-v02.0-fv04.1.json\"\n",
    ")\n",
    "earthaccess.login()\n",
    "s3_fs = earthaccess.get_s3fs_session(daac=\"PODAAC\")\n",
    "storage_options = s3_fs.storage_options.copy()\n",
    "fs = fsspec.filesystem(\"reference\", fo=output_fp)\n",
    "\n",
    "m = fs.get_mapper(\"\")\n",
    "ds = xr.open_dataset(\n",
    "    m, engine=\"kerchunk\", chunks={}, storage_options=storage_options\n",
    ")  # normal xarray.Dataset object, wrapping dask/numpy arrays etc."
   ]
  },
  {
   "cell_type": "code",
   "execution_count": null,
   "id": "78018782-f0f7-4ecf-b40d-e155e9a41711",
   "metadata": {},
   "outputs": [],
   "source": []
  }
 ],
 "metadata": {
  "jupytext": {
   "cell_metadata_filter": "-all",
   "main_language": "python",
   "notebook_metadata_filter": "-all"
  },
  "kernelspec": {
   "display_name": "Python 3 (ipykernel)",
   "language": "python",
   "name": "python3"
  },
  "language_info": {
   "codemirror_mode": {
    "name": "ipython",
    "version": 3
   },
   "file_extension": ".py",
   "mimetype": "text/x-python",
   "name": "python",
   "nbconvert_exporter": "python",
   "pygments_lexer": "ipython3",
   "version": "3.11.9"
  }
 },
 "nbformat": 4,
 "nbformat_minor": 5
}
