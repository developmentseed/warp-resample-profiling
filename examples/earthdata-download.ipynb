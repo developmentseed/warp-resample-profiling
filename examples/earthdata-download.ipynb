{
 "cells": [
  {
   "cell_type": "markdown",
   "id": "0",
   "metadata": {},
   "source": [
    "## Download and virtualize dataset"
   ]
  },
  {
   "cell_type": "code",
   "execution_count": null,
   "id": "1",
   "metadata": {
    "lines_to_next_cell": 2
   },
   "outputs": [],
   "source": [
    "from pathlib import Path\n",
    "\n",
    "import earthaccess\n",
    "from common import earthaccess_args"
   ]
  },
  {
   "cell_type": "markdown",
   "id": "2",
   "metadata": {},
   "source": [
    "### Setup earthaccess query parameters"
   ]
  },
  {
   "cell_type": "code",
   "execution_count": null,
   "id": "3",
   "metadata": {
    "lines_to_next_cell": 2
   },
   "outputs": [],
   "source": [
    "dataset = \"gpm_imerg\"\n",
    "dataset_args = earthaccess_args[dataset]\n",
    "concept_id = dataset_args[\"concept_id\"]\n",
    "filename = dataset_args[\"filename\"]\n",
    "variable = dataset_args[\"variable\"]"
   ]
  },
  {
   "cell_type": "markdown",
   "id": "4",
   "metadata": {},
   "source": [
    "### Authenticate via earthaccess"
   ]
  },
  {
   "cell_type": "code",
   "execution_count": null,
   "id": "5",
   "metadata": {},
   "outputs": [],
   "source": [
    "earthaccess.login()"
   ]
  },
  {
   "cell_type": "markdown",
   "id": "6",
   "metadata": {},
   "source": [
    "### Download dataset"
   ]
  },
  {
   "cell_type": "code",
   "execution_count": null,
   "id": "7",
   "metadata": {},
   "outputs": [],
   "source": [
    "results = earthaccess.search_data(\n",
    "    concept_id=concept_id, count=1, temporal=(\"2002-06-01\", \"2002-06-01\")\n",
    ")\n",
    "fp = earthaccess.download(results, \"earthaccess_data\")[0]"
   ]
  },
  {
   "cell_type": "markdown",
   "id": "8",
   "metadata": {},
   "source": [
    "### Virtualize dataset"
   ]
  },
  {
   "cell_type": "code",
   "execution_count": null,
   "id": "9",
   "metadata": {},
   "outputs": [],
   "source": [
    "from icechunk import (  # noqa\n",
    "    IcechunkStore,\n",
    "    S3Credentials,\n",
    "    StorageConfig,\n",
    "    StoreConfig,\n",
    "    VirtualRefConfig,\n",
    ")\n",
    "from virtualizarr import open_virtual_dataset  # noqa\n",
    "from virtualizarr.writers.icechunk import dataset_to_icechunk  # noqa"
   ]
  },
  {
   "cell_type": "code",
   "execution_count": null,
   "id": "10",
   "metadata": {},
   "outputs": [],
   "source": [
    "def virtualize_dataset(local_fp):\n",
    "    \"\"\"Create a virtual reference file for a dataset\"\"\"\n",
    "\n",
    "    def local_to_s3_url(old_local_path: str) -> str:\n",
    "        \"\"\"Replace local path to s3 uri for all chucks\"\"\"\n",
    "\n",
    "        new_s3_bucket_url = Path(\"/\".join(s3_uri.split(\"/\")[1:-1]))\n",
    "        filename = Path(old_local_path).name\n",
    "        new_path = f\"s3:/{str(new_s3_bucket_url / filename)}\"\n",
    "        return new_path\n",
    "\n",
    "    s3_uri = results[0].data_links(access=\"direct\")[0]\n",
    "    virtual_ds = open_virtual_dataset(str(local_fp), indexes={})\n",
    "    virtual_ds = virtual_ds.virtualize.rename_paths(local_to_s3_url)\n",
    "    virtual_ds = virtual_ds[[variable]]\n",
    "    return virtual_ds.drop_vars(\"time\")"
   ]
  },
  {
   "cell_type": "code",
   "execution_count": null,
   "id": "11",
   "metadata": {},
   "outputs": [],
   "source": [
    "virtual_ds = virtualize_dataset(fp)"
   ]
  },
  {
   "cell_type": "markdown",
   "id": "12",
   "metadata": {},
   "source": [
    "### Store virtual dataset as kerchunk reference\n"
   ]
  },
  {
   "cell_type": "code",
   "execution_count": null,
   "id": "13",
   "metadata": {},
   "outputs": [],
   "source": [
    "s3_uri = results[0].data_links(access=\"direct\")[0]\n",
    "if dataset == \"gpm_merg\":\n",
    "    output_fp = f\"earthaccess_data/{s3_uri.split('/')[-1][:-4]}.json\"\n",
    "else:\n",
    "    output_fp = f\"earthaccess_data/{s3_uri.split('/')[-1][:-3]}.json\"\n",
    "virtual_ds.virtualize.to_kerchunk(output_fp, format=\"json\")"
   ]
  },
  {
   "cell_type": "markdown",
   "id": "14",
   "metadata": {},
   "source": [
    "### Store dataset using icechunk\n"
   ]
  },
  {
   "cell_type": "code",
   "execution_count": null,
   "id": "15",
   "metadata": {},
   "outputs": [],
   "source": [
    "s3_creds = earthaccess.get_s3_credentials(daac=dataset_args[\"daac\"])\n",
    "credentials = S3Credentials(\n",
    "    access_key_id=s3_creds[\"accessKeyId\"],\n",
    "    secret_access_key=s3_creds[\"secretAccessKey\"],\n",
    "    session_token=s3_creds[\"sessionToken\"],\n",
    ")\n",
    "storage = StorageConfig.s3_from_env(\n",
    "    bucket=\"nasa-veda-scratch\",\n",
    "    prefix=\"icechunk/test-weight-caching/reference\",\n",
    "    region=\"us-west-2\",\n",
    ")\n",
    "config = StoreConfig(\n",
    "    virtual_ref_config=VirtualRefConfig.s3_from_config(credentials=credentials),\n",
    ")\n",
    "store = IcechunkStore.open_or_create(storage=storage, config=config, mode=\"w\")\n",
    "dataset_to_icechunk(virtual_ds, store)\n",
    "store.commit(\"Create  IMERG refenence\")"
   ]
  },
  {
   "cell_type": "code",
   "execution_count": null,
   "id": "16",
   "metadata": {},
   "outputs": [],
   "source": []
  }
 ],
 "metadata": {
  "jupytext": {
   "cell_metadata_filter": "-all",
   "main_language": "python",
   "notebook_metadata_filter": "-all"
  },
  "language_info": {
   "codemirror_mode": {
    "name": "ipython",
    "version": 3
   },
   "file_extension": ".py",
   "mimetype": "text/x-python",
   "name": "python",
   "nbconvert_exporter": "python",
   "pygments_lexer": "ipython3",
   "version": "3.11.10"
  }
 },
 "nbformat": 4,
 "nbformat_minor": 5
}
