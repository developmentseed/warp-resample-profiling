{
 "cells": [
  {
   "cell_type": "markdown",
   "id": "3dc3f458",
   "metadata": {},
   "source": [
    "# Download and virtualize MUR-SST data"
   ]
  },
  {
   "cell_type": "code",
   "execution_count": null,
   "id": "74f11323",
   "metadata": {},
   "outputs": [],
   "source": [
    "from pathlib import Path\n",
    "\n",
    "import earthaccess\n",
    "from virtualizarr import open_virtual_dataset"
   ]
  },
  {
   "cell_type": "markdown",
   "id": "78fbe028",
   "metadata": {},
   "source": [
    "### Authenticate via earthaccess"
   ]
  },
  {
   "cell_type": "code",
   "execution_count": null,
   "id": "81c3509c",
   "metadata": {},
   "outputs": [],
   "source": [
    "earthaccess.login()"
   ]
  },
  {
   "cell_type": "markdown",
   "id": "46abc7cd",
   "metadata": {},
   "source": [
    "### Download MUR-SST dataset"
   ]
  },
  {
   "cell_type": "code",
   "execution_count": null,
   "id": "cb5cfc7c",
   "metadata": {},
   "outputs": [],
   "source": [
    "results = earthaccess.search_data(\n",
    "    concept_id=\"C1996881146-POCLOUD\", count=1, temporal=(\"2002-06-01\", \"2002-06-01\")\n",
    ")\n",
    "fp = earthaccess.download(results, \"earthaccess_data\")[0]"
   ]
  },
  {
   "cell_type": "markdown",
   "id": "e06c04e2",
   "metadata": {},
   "source": [
    "### Virtualize MUR-SST dataset"
   ]
  },
  {
   "cell_type": "code",
   "execution_count": null,
   "id": "6f983707",
   "metadata": {},
   "outputs": [],
   "source": [
    "def virtualize_dataset(local_fp):\n",
    "    \"\"\"Create a virtual reference file for a dataset\"\"\"\n",
    "\n",
    "    def local_to_s3_url(old_local_path: str) -> str:\n",
    "        \"\"\"Replace local path to s3 uri for all chucks\"\"\"\n",
    "\n",
    "        new_s3_bucket_url = Path(\"/\".join(s3_uri.split(\"/\")[:-1]))\n",
    "\n",
    "        filename = Path(old_local_path).name\n",
    "        return str(new_s3_bucket_url / filename)\n",
    "\n",
    "    s3_uri = results[0].data_links(access=\"direct\")[0]\n",
    "    output_fp = f\"earthaccess_data/{s3_uri.split('/')[-1].strip('.nc')}.json\"\n",
    "    virtual_ds = open_virtual_dataset(str(local_fp), indexes={})\n",
    "    virtual_ds.virtualize.rename_paths(local_to_s3_url)\n",
    "    virtual_ds.virtualize.to_kerchunk(output_fp, format=\"json\")"
   ]
  },
  {
   "cell_type": "code",
   "execution_count": null,
   "id": "6e2b7f77",
   "metadata": {},
   "outputs": [],
   "source": [
    "virtualize_dataset(fp)"
   ]
  }
 ],
 "metadata": {
  "jupytext": {
   "cell_metadata_filter": "-all",
   "main_language": "python",
   "notebook_metadata_filter": "-all"
  },
  "kernelspec": {
   "display_name": "base",
   "language": "python",
   "name": "python3"
  },
  "language_info": {
   "codemirror_mode": {
    "name": "ipython",
    "version": 3
   },
   "file_extension": ".py",
   "mimetype": "text/x-python",
   "name": "python",
   "nbconvert_exporter": "python",
   "pygments_lexer": "ipython3",
   "version": "3.11.9"
  }
 },
 "nbformat": 4,
 "nbformat_minor": 5
}
