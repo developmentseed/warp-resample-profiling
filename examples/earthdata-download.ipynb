{
 "cells": [
  {
   "cell_type": "markdown",
   "id": "0",
   "metadata": {},
   "source": [
    "## Download and virtualize MUR-SST data"
   ]
  },
  {
   "cell_type": "code",
   "execution_count": null,
   "id": "1",
   "metadata": {
    "lines_to_next_cell": 2
   },
   "outputs": [],
   "source": [
    "from pathlib import Path\n",
    "\n",
    "import earthaccess\n",
    "import fsspec\n",
    "import xarray as xr\n",
    "from common import earthaccess_args"
   ]
  },
  {
   "cell_type": "markdown",
   "id": "2",
   "metadata": {},
   "source": [
    "### Setup earthaccess query parameters"
   ]
  },
  {
   "cell_type": "code",
   "execution_count": null,
   "id": "3",
   "metadata": {
    "lines_to_next_cell": 2
   },
   "outputs": [],
   "source": [
    "dataset = \"gpm_imerg\"\n",
    "dataset_args = earthaccess_args[dataset]\n",
    "concept_id = dataset_args[\"concept_id\"]\n",
    "filename = dataset_args[\"filename\"]\n",
    "variable = dataset_args[\"variable\"]"
   ]
  },
  {
   "cell_type": "markdown",
   "id": "4",
   "metadata": {},
   "source": [
    "### Authenticate via earthaccess"
   ]
  },
  {
   "cell_type": "code",
   "execution_count": null,
   "id": "5",
   "metadata": {},
   "outputs": [],
   "source": [
    "earthaccess.login()"
   ]
  },
  {
   "cell_type": "markdown",
   "id": "6",
   "metadata": {},
   "source": [
    "### Download dataset"
   ]
  },
  {
   "cell_type": "code",
   "execution_count": null,
   "id": "7",
   "metadata": {},
   "outputs": [],
   "source": [
    "results = earthaccess.search_data(\n",
    "    concept_id=concept_id, count=1, temporal=(\"2002-06-01\", \"2002-06-01\")\n",
    ")\n",
    "fp = earthaccess.download(results, \"earthaccess_data\")[0]"
   ]
  },
  {
   "cell_type": "markdown",
   "id": "8",
   "metadata": {},
   "source": [
    "### Virtualize dataset"
   ]
  },
  {
   "cell_type": "code",
   "execution_count": null,
   "id": "9",
   "metadata": {},
   "outputs": [],
   "source": [
    "from virtualizarr import open_virtual_dataset  # noqa"
   ]
  },
  {
   "cell_type": "code",
   "execution_count": null,
   "id": "10",
   "metadata": {},
   "outputs": [],
   "source": [
    "def virtualize_dataset(local_fp):\n",
    "    \"\"\"Create a virtual reference file for a dataset\"\"\"\n",
    "\n",
    "    def local_to_s3_url(old_local_path: str) -> str:\n",
    "        \"\"\"Replace local path to s3 uri for all chucks\"\"\"\n",
    "\n",
    "        new_s3_bucket_url = Path(\"/\".join(s3_uri.split(\"/\")[1:-1]))\n",
    "        filename = Path(old_local_path).name\n",
    "        new_path = f\"s3:/{str(new_s3_bucket_url / filename)}\"\n",
    "        return new_path\n",
    "\n",
    "    s3_uri = results[0].data_links(access=\"direct\")[0]\n",
    "    if \".nc4\" in s3_uri:\n",
    "        output_fp = f\"earthaccess_data/{s3_uri.split('/')[-1][:-4]}.json\"\n",
    "    else:\n",
    "        output_fp = f\"earthaccess_data/{s3_uri.split('/')[-1][:-3]}.json\"\n",
    "    print(output_fp)\n",
    "    virtual_ds = open_virtual_dataset(str(local_fp), indexes={})\n",
    "    virtual_ds = virtual_ds.virtualize.rename_paths(local_to_s3_url)\n",
    "    virtual_ds = virtual_ds[[variable]]\n",
    "    virtual_ds.virtualize.to_kerchunk(output_fp, format=\"json\")\n",
    "    return output_fp"
   ]
  },
  {
   "cell_type": "code",
   "execution_count": null,
   "id": "11",
   "metadata": {},
   "outputs": [],
   "source": [
    "output_fp = virtualize_dataset(fp)"
   ]
  },
  {
   "cell_type": "markdown",
   "id": "12",
   "metadata": {},
   "source": [
    "## Load results"
   ]
  },
  {
   "cell_type": "code",
   "execution_count": null,
   "id": "13",
   "metadata": {},
   "outputs": [],
   "source": [
    "# output_fp = (\n",
    "#     \"earthaccess_data/20020601090000-JPL-L4_GHRSST-SSTfnd-MUR-GLOB-v02.0-fv04.1.json\"\n",
    "# )\n",
    "output_fp = \"earthaccess_data/3B-DAY-E.MS.MRG.3IMERG.20020601-S000000-E235959.V07B.json\"\n",
    "earthaccess.login()\n",
    "s3_fs = earthaccess.get_s3fs_session(daac=\"PODAAC\")\n",
    "storage_options = s3_fs.storage_options.copy()\n",
    "fs = fsspec.filesystem(\"reference\", fo=output_fp)\n",
    "\n",
    "m = fs.get_mapper(\"\")\n",
    "ds = xr.open_dataset(\n",
    "    m, engine=\"kerchunk\", chunks={}, storage_options=storage_options\n",
    ")  # normal xarray.Dataset object, wrapping dask/numpy arrays etc."
   ]
  },
  {
   "cell_type": "code",
   "execution_count": null,
   "id": "14",
   "metadata": {},
   "outputs": [],
   "source": []
  }
 ],
 "metadata": {
  "jupytext": {
   "cell_metadata_filter": "-all",
   "main_language": "python",
   "notebook_metadata_filter": "-all"
  },
  "language_info": {
   "codemirror_mode": {
    "name": "ipython",
    "version": 3
   },
   "file_extension": ".py",
   "mimetype": "text/x-python",
   "name": "python",
   "nbconvert_exporter": "python",
   "pygments_lexer": "ipython3",
   "version": "3.11.9"
  }
 },
 "nbformat": 4,
 "nbformat_minor": 5
}
