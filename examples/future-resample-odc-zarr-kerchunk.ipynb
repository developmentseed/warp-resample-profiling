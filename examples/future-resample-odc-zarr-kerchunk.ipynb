{
 "cells": [
  {
   "cell_type": "markdown",
   "metadata": {},
   "source": [
    "## ODC with Zarr, Kerchunk, and earthaccess"
   ]
  },
  {
   "cell_type": "code",
   "execution_count": null,
   "metadata": {},
   "outputs": [],
   "source": [
    "import earthaccess\n",
    "import fsspec\n",
    "import xarray as xr\n",
    "from odc.geo.geobox import GeoBox\n",
    "from odc.geo.xr import xr_reproject"
   ]
  },
  {
   "cell_type": "code",
   "execution_count": null,
   "metadata": {},
   "outputs": [],
   "source": [
    "def warp_resample():\n",
    "    src = \"earthaccess_data/20020601090000-JPL-L4_GHRSST-SSTfnd-MUR-GLOB-v02.0-fv04.1.json\"\n",
    "    variable = \"analysed_sst\"\n",
    "    dstSRS = \"EPSG:3857\"\n",
    "    srcSRS = \"EPSG:4326\"\n",
    "    width = height = 256\n",
    "    te = [\n",
    "        -20037508.342789244,\n",
    "        -20037508.342789244,\n",
    "        20037508.342789244,\n",
    "        20037508.342789244,\n",
    "    ]\n",
    "    earthaccess.login()\n",
    "    s3_fs = earthaccess.get_s3fs_session(daac=\"PODAAC\")\n",
    "    storage_options = s3_fs.storage_options.copy()\n",
    "    fsspec_caching = {\n",
    "        \"cache_type\": \"none\",\n",
    "    }\n",
    "    fs = fsspec.filesystem(\"reference\", fo=src, **fsspec_caching)\n",
    "    m = fs.get_mapper(\"\")\n",
    "    da = xr.open_dataset(\n",
    "        m, engine=\"kerchunk\", chunks={}, storage_options=storage_options\n",
    "    )[variable]\n",
    "    gbox = GeoBox.from_bbox(te, dstSRS, shape=(height, width))\n",
    "    da = da.odc.assign_crs(srcSRS)\n",
    "    return xr_reproject(da, gbox)"
   ]
  },
  {
   "cell_type": "code",
   "execution_count": null,
   "metadata": {},
   "outputs": [],
   "source": [
    "if __name__ == \"__main__\":\n",
    "    da, gbox = warp_resample()"
   ]
  },
  {
   "cell_type": "code",
   "execution_count": null,
   "metadata": {},
   "outputs": [],
   "source": []
  }
 ],
 "metadata": {
  "language_info": {
   "codemirror_mode": {
    "name": "ipython",
    "version": 3
   },
   "file_extension": ".py",
   "mimetype": "text/x-python",
   "name": "python",
   "nbconvert_exporter": "python",
   "pygments_lexer": "ipython3",
   "version": "3.11.9"
  }
 },
 "nbformat": 4,
 "nbformat_minor": 4
}
