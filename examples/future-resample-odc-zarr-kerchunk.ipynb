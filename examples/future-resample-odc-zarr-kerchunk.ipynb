{
 "cells": [
  {
   "cell_type": "code",
   "execution_count": 1,
   "metadata": {},
   "outputs": [],
   "source": [
    "import earthaccess\n",
    "import fsspec\n",
    "import xarray as xr\n",
    "from odc.geo.geobox import GeoBox\n",
    "from odc.geo.xr import xr_reproject"
   ]
  },
  {
   "cell_type": "code",
   "execution_count": 2,
   "metadata": {},
   "outputs": [],
   "source": [
    "def warp_resample():\n",
    "    src = \"earthaccess_data/20020601090000-JPL-L4_GHRSST-SSTfnd-MUR-GLOB-v02.0-fv04.1.json\"\n",
    "    variable = \"analysed_sst\"\n",
    "    dstSRS = \"EPSG:3857\"\n",
    "    srcSRS = \"EPSG:4326\"\n",
    "    width = height = 256\n",
    "    te = [\n",
    "        -20037508.342789244,\n",
    "        -20037508.342789244,\n",
    "        20037508.342789244,\n",
    "        20037508.342789244,\n",
    "    ]\n",
    "    earthaccess.login()\n",
    "    s3_fs = earthaccess.get_s3fs_session(daac=\"PODAAC\")\n",
    "    storage_options = s3_fs.storage_options.copy()\n",
    "    fsspec_caching = {\n",
    "        \"cache_type\": \"none\",\n",
    "    }\n",
    "    fs = fsspec.filesystem(\"reference\", fo=src, **fsspec_caching)\n",
    "    m = fs.get_mapper(\"\")\n",
    "    da = xr.open_dataset(\n",
    "        m, engine=\"kerchunk\", chunks={}, storage_options=storage_options\n",
    "    )[variable]\n",
    "    gbox = GeoBox.from_bbox(te, dstSRS, shape=(height, width))\n",
    "    da = da.odc.assign_crs(srcSRS)\n",
    "    return xr_reproject(da, gbox)"
   ]
  },
  {
   "cell_type": "code",
   "execution_count": 3,
   "metadata": {},
   "outputs": [
    {
     "ename": "GEOSException",
     "evalue": "TopologyException: side location conflict at 0 -85.287757732815791. This can occur if the input geometry is invalid.",
     "output_type": "error",
     "traceback": [
      "\u001b[0;31m---------------------------------------------------------------------------\u001b[0m",
      "\u001b[0;31mGEOSException\u001b[0m                             Traceback (most recent call last)",
      "Cell \u001b[0;32mIn[3], line 2\u001b[0m\n\u001b[1;32m      1\u001b[0m \u001b[38;5;28;01mif\u001b[39;00m \u001b[38;5;18m__name__\u001b[39m \u001b[38;5;241m==\u001b[39m \u001b[38;5;124m\"\u001b[39m\u001b[38;5;124m__main__\u001b[39m\u001b[38;5;124m\"\u001b[39m:\n\u001b[0;32m----> 2\u001b[0m     da, gbox \u001b[38;5;241m=\u001b[39m \u001b[43mwarp_resample\u001b[49m\u001b[43m(\u001b[49m\u001b[43m)\u001b[49m\n",
      "Cell \u001b[0;32mIn[2], line 24\u001b[0m, in \u001b[0;36mwarp_resample\u001b[0;34m()\u001b[0m\n\u001b[1;32m     22\u001b[0m gbox \u001b[38;5;241m=\u001b[39m GeoBox\u001b[38;5;241m.\u001b[39mfrom_bbox(te, dstSRS, shape\u001b[38;5;241m=\u001b[39m(height, width))\n\u001b[1;32m     23\u001b[0m da \u001b[38;5;241m=\u001b[39m da\u001b[38;5;241m.\u001b[39modc\u001b[38;5;241m.\u001b[39massign_crs(srcSRS)\n\u001b[0;32m---> 24\u001b[0m \u001b[38;5;28;01mreturn\u001b[39;00m \u001b[43mxr_reproject\u001b[49m\u001b[43m(\u001b[49m\u001b[43mda\u001b[49m\u001b[43m,\u001b[49m\u001b[43m \u001b[49m\u001b[43mgbox\u001b[49m\u001b[43m)\u001b[49m\n",
      "File \u001b[0;32m/opt/conda/lib/python3.11/site-packages/odc/geo/_xr_interop.py:744\u001b[0m, in \u001b[0;36mxr_reproject\u001b[0;34m(src, how, resampling, dst_nodata, dtype, resolution, shape, tight, anchor, tol, round_resolution, **kw)\u001b[0m\n\u001b[1;32m    734\u001b[0m kw \u001b[38;5;241m=\u001b[39m {\n\u001b[1;32m    735\u001b[0m     \u001b[38;5;124m\"\u001b[39m\u001b[38;5;124mshape\u001b[39m\u001b[38;5;124m\"\u001b[39m: shape,\n\u001b[1;32m    736\u001b[0m     \u001b[38;5;124m\"\u001b[39m\u001b[38;5;124mresolution\u001b[39m\u001b[38;5;124m\"\u001b[39m: resolution,\n\u001b[0;32m   (...)\u001b[0m\n\u001b[1;32m    741\u001b[0m     \u001b[38;5;241m*\u001b[39m\u001b[38;5;241m*\u001b[39mkw,\n\u001b[1;32m    742\u001b[0m }\n\u001b[1;32m    743\u001b[0m \u001b[38;5;28;01mif\u001b[39;00m \u001b[38;5;28misinstance\u001b[39m(src, xarray\u001b[38;5;241m.\u001b[39mDataArray):\n\u001b[0;32m--> 744\u001b[0m     \u001b[38;5;28;01mreturn\u001b[39;00m \u001b[43m_xr_reproject_da\u001b[49m\u001b[43m(\u001b[49m\n\u001b[1;32m    745\u001b[0m \u001b[43m        \u001b[49m\u001b[43msrc\u001b[49m\u001b[43m,\u001b[49m\u001b[43m \u001b[49m\u001b[43mhow\u001b[49m\u001b[43m,\u001b[49m\u001b[43m \u001b[49m\u001b[43mresampling\u001b[49m\u001b[38;5;241;43m=\u001b[39;49m\u001b[43mresampling\u001b[49m\u001b[43m,\u001b[49m\u001b[43m \u001b[49m\u001b[43mdst_nodata\u001b[49m\u001b[38;5;241;43m=\u001b[39;49m\u001b[43mdst_nodata\u001b[49m\u001b[43m,\u001b[49m\u001b[43m \u001b[49m\u001b[43mdtype\u001b[49m\u001b[38;5;241;43m=\u001b[39;49m\u001b[43mdtype\u001b[49m\u001b[43m,\u001b[49m\u001b[43m \u001b[49m\u001b[38;5;241;43m*\u001b[39;49m\u001b[38;5;241;43m*\u001b[39;49m\u001b[43mkw\u001b[49m\n\u001b[1;32m    746\u001b[0m \u001b[43m    \u001b[49m\u001b[43m)\u001b[49m\n\u001b[1;32m    747\u001b[0m \u001b[38;5;28;01mreturn\u001b[39;00m _xr_reproject_ds(\n\u001b[1;32m    748\u001b[0m     src, how, resampling\u001b[38;5;241m=\u001b[39mresampling, dst_nodata\u001b[38;5;241m=\u001b[39mdst_nodata, dtype\u001b[38;5;241m=\u001b[39mdtype, \u001b[38;5;241m*\u001b[39m\u001b[38;5;241m*\u001b[39mkw\n\u001b[1;32m    749\u001b[0m )\n",
      "File \u001b[0;32m/opt/conda/lib/python3.11/site-packages/odc/geo/_xr_interop.py:849\u001b[0m, in \u001b[0;36m_xr_reproject_da\u001b[0;34m(src, how, resampling, dst_nodata, dtype, **kw)\u001b[0m\n\u001b[1;32m    846\u001b[0m \u001b[38;5;28;01mif\u001b[39;00m is_dask_collection(src):\n\u001b[1;32m    847\u001b[0m     \u001b[38;5;28;01mfrom\u001b[39;00m \u001b[38;5;21;01m.\u001b[39;00m\u001b[38;5;21;01m_dask\u001b[39;00m \u001b[38;5;28;01mimport\u001b[39;00m dask_rio_reproject\n\u001b[0;32m--> 849\u001b[0m     dst: Any \u001b[38;5;241m=\u001b[39m \u001b[43mdask_rio_reproject\u001b[49m\u001b[43m(\u001b[49m\n\u001b[1;32m    850\u001b[0m \u001b[43m        \u001b[49m\u001b[43msrc\u001b[49m\u001b[38;5;241;43m.\u001b[39;49m\u001b[43mdata\u001b[49m\u001b[43m,\u001b[49m\n\u001b[1;32m    851\u001b[0m \u001b[43m        \u001b[49m\u001b[43msrc_gbox\u001b[49m\u001b[43m,\u001b[49m\n\u001b[1;32m    852\u001b[0m \u001b[43m        \u001b[49m\u001b[43mdst_geobox\u001b[49m\u001b[43m,\u001b[49m\n\u001b[1;32m    853\u001b[0m \u001b[43m        \u001b[49m\u001b[43mresampling\u001b[49m\u001b[38;5;241;43m=\u001b[39;49m\u001b[43mresampling\u001b[49m\u001b[43m,\u001b[49m\n\u001b[1;32m    854\u001b[0m \u001b[43m        \u001b[49m\u001b[43msrc_nodata\u001b[49m\u001b[38;5;241;43m=\u001b[39;49m\u001b[43msrc_nodata\u001b[49m\u001b[43m,\u001b[49m\n\u001b[1;32m    855\u001b[0m \u001b[43m        \u001b[49m\u001b[43mdst_nodata\u001b[49m\u001b[38;5;241;43m=\u001b[39;49m\u001b[43mfill_value\u001b[49m\u001b[43m,\u001b[49m\n\u001b[1;32m    856\u001b[0m \u001b[43m        \u001b[49m\u001b[43mydim\u001b[49m\u001b[38;5;241;43m=\u001b[39;49m\u001b[43mydim\u001b[49m\u001b[43m,\u001b[49m\n\u001b[1;32m    857\u001b[0m \u001b[43m        \u001b[49m\u001b[43mdtype\u001b[49m\u001b[38;5;241;43m=\u001b[39;49m\u001b[43mdtype\u001b[49m\u001b[43m,\u001b[49m\n\u001b[1;32m    858\u001b[0m \u001b[43m        \u001b[49m\u001b[38;5;241;43m*\u001b[39;49m\u001b[38;5;241;43m*\u001b[39;49m\u001b[43mkw\u001b[49m\u001b[43m,\u001b[49m\n\u001b[1;32m    859\u001b[0m \u001b[43m    \u001b[49m\u001b[43m)\u001b[49m\n\u001b[1;32m    860\u001b[0m \u001b[38;5;28;01melse\u001b[39;00m:\n\u001b[1;32m    861\u001b[0m     dst \u001b[38;5;241m=\u001b[39m numpy\u001b[38;5;241m.\u001b[39mfull(dst_shape, fill_value, dtype\u001b[38;5;241m=\u001b[39mdtype)\n",
      "File \u001b[0;32m/opt/conda/lib/python3.11/site-packages/odc/geo/_dask.py:97\u001b[0m, in \u001b[0;36mdask_rio_reproject\u001b[0;34m(src, s_gbox, d_gbox, resampling, src_nodata, dst_nodata, ydim, chunks, dtype, **kwargs)\u001b[0m\n\u001b[1;32m     95\u001b[0m gbt_src \u001b[38;5;241m=\u001b[39m GeoboxTiles(s_gbox, src\u001b[38;5;241m.\u001b[39mchunks[ydim : ydim \u001b[38;5;241m+\u001b[39m \u001b[38;5;241m2\u001b[39m])\n\u001b[1;32m     96\u001b[0m gbt_dst \u001b[38;5;241m=\u001b[39m GeoboxTiles(d_gbox, chunks)\n\u001b[0;32m---> 97\u001b[0m d2s_idx \u001b[38;5;241m=\u001b[39m \u001b[43mgbt_dst\u001b[49m\u001b[38;5;241;43m.\u001b[39;49m\u001b[43mgrid_intersect\u001b[49m\u001b[43m(\u001b[49m\u001b[43mgbt_src\u001b[49m\u001b[43m)\u001b[49m\n\u001b[1;32m     99\u001b[0m dst_shape \u001b[38;5;241m=\u001b[39m with_yx(src\u001b[38;5;241m.\u001b[39mshape, d_gbox\u001b[38;5;241m.\u001b[39mshape\u001b[38;5;241m.\u001b[39myx)\n\u001b[1;32m    100\u001b[0m dst_chunks: Tuple[Tuple[\u001b[38;5;28mint\u001b[39m, \u001b[38;5;241m.\u001b[39m\u001b[38;5;241m.\u001b[39m\u001b[38;5;241m.\u001b[39m], \u001b[38;5;241m.\u001b[39m\u001b[38;5;241m.\u001b[39m\u001b[38;5;241m.\u001b[39m] \u001b[38;5;241m=\u001b[39m with_yx(src\u001b[38;5;241m.\u001b[39mchunks, gbt_dst\u001b[38;5;241m.\u001b[39mchunks)\n",
      "File \u001b[0;32m/opt/conda/lib/python3.11/site-packages/odc/geo/geobox.py:1530\u001b[0m, in \u001b[0;36mGeoboxTiles.grid_intersect\u001b[0;34m(self, src)\u001b[0m\n\u001b[1;32m   1526\u001b[0m     src_footprint \u001b[38;5;241m=\u001b[39m src\u001b[38;5;241m.\u001b[39mbase\u001b[38;5;241m.\u001b[39mextent\n\u001b[1;32m   1527\u001b[0m \u001b[38;5;28;01melse\u001b[39;00m:\n\u001b[1;32m   1528\u001b[0m     \u001b[38;5;66;03m# compute \"robust\" source footprint in CRS of self via espg:4326\u001b[39;00m\n\u001b[1;32m   1529\u001b[0m     src_footprint \u001b[38;5;241m=\u001b[39m (\n\u001b[0;32m-> 1530\u001b[0m         \u001b[43msrc\u001b[49m\u001b[38;5;241;43m.\u001b[39;49m\u001b[43mbase\u001b[49m\u001b[38;5;241;43m.\u001b[39;49m\u001b[43mfootprint\u001b[49m\u001b[43m(\u001b[49m\u001b[38;5;241;43m4326\u001b[39;49m\u001b[43m,\u001b[49m\u001b[43m \u001b[49m\u001b[38;5;241;43m2\u001b[39;49m\u001b[43m)\u001b[49m\u001b[43m \u001b[49m\u001b[38;5;241;43m&\u001b[39;49m\u001b[43m \u001b[49m\u001b[38;5;28;43mself\u001b[39;49m\u001b[38;5;241;43m.\u001b[39;49m\u001b[43mbase\u001b[49m\u001b[38;5;241;43m.\u001b[39;49m\u001b[43mfootprint\u001b[49m\u001b[43m(\u001b[49m\u001b[38;5;241;43m4326\u001b[39;49m\u001b[43m,\u001b[49m\u001b[43m \u001b[49m\u001b[38;5;241;43m2\u001b[39;49m\u001b[43m)\u001b[49m\n\u001b[1;32m   1531\u001b[0m     )\u001b[38;5;241m.\u001b[39mto_crs(\u001b[38;5;28mself\u001b[39m\u001b[38;5;241m.\u001b[39mbase\u001b[38;5;241m.\u001b[39mcrs)\n\u001b[1;32m   1533\u001b[0m xy_chunks_with_data \u001b[38;5;241m=\u001b[39m \u001b[38;5;28mlist\u001b[39m(\u001b[38;5;28mself\u001b[39m\u001b[38;5;241m.\u001b[39mtiles(src_footprint))\n\u001b[1;32m   1534\u001b[0m deps: Dict[Tuple[\u001b[38;5;28mint\u001b[39m, \u001b[38;5;28mint\u001b[39m], List[Tuple[\u001b[38;5;28mint\u001b[39m, \u001b[38;5;28mint\u001b[39m]]] \u001b[38;5;241m=\u001b[39m {}\n",
      "File \u001b[0;32m/opt/conda/lib/python3.11/site-packages/odc/geo/geom.py:387\u001b[0m, in \u001b[0;36mwrap_shapely.<locals>.wrapped\u001b[0;34m(*args)\u001b[0m\n\u001b[1;32m    384\u001b[0m     \u001b[38;5;28;01mif\u001b[39;00m first\u001b[38;5;241m.\u001b[39mcrs \u001b[38;5;241m!=\u001b[39m arg\u001b[38;5;241m.\u001b[39mcrs:\n\u001b[1;32m    385\u001b[0m         \u001b[38;5;28;01mraise\u001b[39;00m CRSMismatchError((first\u001b[38;5;241m.\u001b[39mcrs, arg\u001b[38;5;241m.\u001b[39mcrs))\n\u001b[0;32m--> 387\u001b[0m result \u001b[38;5;241m=\u001b[39m \u001b[43mmethod\u001b[49m\u001b[43m(\u001b[49m\u001b[38;5;241;43m*\u001b[39;49m\u001b[43m[\u001b[49m\u001b[43marg\u001b[49m\u001b[38;5;241;43m.\u001b[39;49m\u001b[43mgeom\u001b[49m\u001b[43m \u001b[49m\u001b[38;5;28;43;01mfor\u001b[39;49;00m\u001b[43m \u001b[49m\u001b[43marg\u001b[49m\u001b[43m \u001b[49m\u001b[38;5;129;43;01min\u001b[39;49;00m\u001b[43m \u001b[49m\u001b[43margs\u001b[49m\u001b[43m]\u001b[49m\u001b[43m)\u001b[49m\n\u001b[1;32m    388\u001b[0m \u001b[38;5;28;01mif\u001b[39;00m \u001b[38;5;28misinstance\u001b[39m(result, base\u001b[38;5;241m.\u001b[39mBaseGeometry):\n\u001b[1;32m    389\u001b[0m     \u001b[38;5;28;01mreturn\u001b[39;00m Geometry(result, first\u001b[38;5;241m.\u001b[39mcrs)\n",
      "File \u001b[0;32m/opt/conda/lib/python3.11/site-packages/odc/geo/geom.py:536\u001b[0m, in \u001b[0;36mGeometry.__and__\u001b[0;34m(self, other)\u001b[0m\n\u001b[1;32m    535\u001b[0m \u001b[38;5;129m@wrap_shapely\u001b[39m\n\u001b[0;32m--> 536\u001b[0m \u001b[38;5;28;01mdef\u001b[39;00m \u001b[38;5;21m__and__\u001b[39m(\u001b[38;5;28mself\u001b[39m, other: \u001b[38;5;124m\"\u001b[39m\u001b[38;5;124mGeometry\u001b[39m\u001b[38;5;124m\"\u001b[39m) \u001b[38;5;241m-\u001b[39m\u001b[38;5;241m>\u001b[39m \u001b[38;5;124m\"\u001b[39m\u001b[38;5;124mGeometry\u001b[39m\u001b[38;5;124m\"\u001b[39m: \u001b[38;5;28;01mreturn\u001b[39;00m \u001b[38;5;28;43mself\u001b[39;49m\u001b[38;5;241;43m.\u001b[39;49m\u001b[38;5;21;43m__and__\u001b[39;49m\u001b[43m(\u001b[49m\u001b[43mother\u001b[49m\u001b[43m)\u001b[49m\n",
      "File \u001b[0;32m/opt/conda/lib/python3.11/site-packages/shapely/geometry/base.py:189\u001b[0m, in \u001b[0;36mBaseGeometry.__and__\u001b[0;34m(self, other)\u001b[0m\n\u001b[1;32m    188\u001b[0m \u001b[38;5;28;01mdef\u001b[39;00m \u001b[38;5;21m__and__\u001b[39m(\u001b[38;5;28mself\u001b[39m, other):\n\u001b[0;32m--> 189\u001b[0m     \u001b[38;5;28;01mreturn\u001b[39;00m \u001b[38;5;28;43mself\u001b[39;49m\u001b[38;5;241;43m.\u001b[39;49m\u001b[43mintersection\u001b[49m\u001b[43m(\u001b[49m\u001b[43mother\u001b[49m\u001b[43m)\u001b[49m\n",
      "File \u001b[0;32m/opt/conda/lib/python3.11/site-packages/shapely/geometry/base.py:599\u001b[0m, in \u001b[0;36mBaseGeometry.intersection\u001b[0;34m(self, other, grid_size)\u001b[0m\n\u001b[1;32m    593\u001b[0m \u001b[38;5;28;01mdef\u001b[39;00m \u001b[38;5;21mintersection\u001b[39m(\u001b[38;5;28mself\u001b[39m, other, grid_size\u001b[38;5;241m=\u001b[39m\u001b[38;5;28;01mNone\u001b[39;00m):\n\u001b[1;32m    594\u001b[0m \u001b[38;5;250m    \u001b[39m\u001b[38;5;124;03m\"\"\"\u001b[39;00m\n\u001b[1;32m    595\u001b[0m \u001b[38;5;124;03m    Returns the intersection of the geometries.\u001b[39;00m\n\u001b[1;32m    596\u001b[0m \n\u001b[1;32m    597\u001b[0m \u001b[38;5;124;03m    Refer to `shapely.intersection` for full documentation.\u001b[39;00m\n\u001b[1;32m    598\u001b[0m \u001b[38;5;124;03m    \"\"\"\u001b[39;00m\n\u001b[0;32m--> 599\u001b[0m     \u001b[38;5;28;01mreturn\u001b[39;00m \u001b[43mshapely\u001b[49m\u001b[38;5;241;43m.\u001b[39;49m\u001b[43mintersection\u001b[49m\u001b[43m(\u001b[49m\u001b[38;5;28;43mself\u001b[39;49m\u001b[43m,\u001b[49m\u001b[43m \u001b[49m\u001b[43mother\u001b[49m\u001b[43m,\u001b[49m\u001b[43m \u001b[49m\u001b[43mgrid_size\u001b[49m\u001b[38;5;241;43m=\u001b[39;49m\u001b[43mgrid_size\u001b[49m\u001b[43m)\u001b[49m\n",
      "File \u001b[0;32m/opt/conda/lib/python3.11/site-packages/shapely/decorators.py:77\u001b[0m, in \u001b[0;36mmultithreading_enabled.<locals>.wrapped\u001b[0;34m(*args, **kwargs)\u001b[0m\n\u001b[1;32m     75\u001b[0m     \u001b[38;5;28;01mfor\u001b[39;00m arr \u001b[38;5;129;01min\u001b[39;00m array_args:\n\u001b[1;32m     76\u001b[0m         arr\u001b[38;5;241m.\u001b[39mflags\u001b[38;5;241m.\u001b[39mwriteable \u001b[38;5;241m=\u001b[39m \u001b[38;5;28;01mFalse\u001b[39;00m\n\u001b[0;32m---> 77\u001b[0m     \u001b[38;5;28;01mreturn\u001b[39;00m \u001b[43mfunc\u001b[49m\u001b[43m(\u001b[49m\u001b[38;5;241;43m*\u001b[39;49m\u001b[43margs\u001b[49m\u001b[43m,\u001b[49m\u001b[43m \u001b[49m\u001b[38;5;241;43m*\u001b[39;49m\u001b[38;5;241;43m*\u001b[39;49m\u001b[43mkwargs\u001b[49m\u001b[43m)\u001b[49m\n\u001b[1;32m     78\u001b[0m \u001b[38;5;28;01mfinally\u001b[39;00m:\n\u001b[1;32m     79\u001b[0m     \u001b[38;5;28;01mfor\u001b[39;00m arr, old_flag \u001b[38;5;129;01min\u001b[39;00m \u001b[38;5;28mzip\u001b[39m(array_args, old_flags):\n",
      "File \u001b[0;32m/opt/conda/lib/python3.11/site-packages/shapely/set_operations.py:131\u001b[0m, in \u001b[0;36mintersection\u001b[0;34m(a, b, grid_size, **kwargs)\u001b[0m\n\u001b[1;32m    127\u001b[0m         \u001b[38;5;28;01mraise\u001b[39;00m \u001b[38;5;167;01mValueError\u001b[39;00m(\u001b[38;5;124m\"\u001b[39m\u001b[38;5;124mgrid_size parameter only accepts scalar values\u001b[39m\u001b[38;5;124m\"\u001b[39m)\n\u001b[1;32m    129\u001b[0m     \u001b[38;5;28;01mreturn\u001b[39;00m lib\u001b[38;5;241m.\u001b[39mintersection_prec(a, b, grid_size, \u001b[38;5;241m*\u001b[39m\u001b[38;5;241m*\u001b[39mkwargs)\n\u001b[0;32m--> 131\u001b[0m \u001b[38;5;28;01mreturn\u001b[39;00m \u001b[43mlib\u001b[49m\u001b[38;5;241;43m.\u001b[39;49m\u001b[43mintersection\u001b[49m\u001b[43m(\u001b[49m\u001b[43ma\u001b[49m\u001b[43m,\u001b[49m\u001b[43m \u001b[49m\u001b[43mb\u001b[49m\u001b[43m,\u001b[49m\u001b[43m \u001b[49m\u001b[38;5;241;43m*\u001b[39;49m\u001b[38;5;241;43m*\u001b[39;49m\u001b[43mkwargs\u001b[49m\u001b[43m)\u001b[49m\n",
      "\u001b[0;31mGEOSException\u001b[0m: TopologyException: side location conflict at 0 -85.287757732815791. This can occur if the input geometry is invalid."
     ]
    }
   ],
   "source": [
    "if __name__ == \"__main__\":\n",
    "    da, gbox = warp_resample()"
   ]
  },
  {
   "cell_type": "code",
   "execution_count": null,
   "metadata": {},
   "outputs": [],
   "source": []
  }
 ],
 "metadata": {
  "kernelspec": {
   "display_name": "Python 3 (ipykernel)",
   "language": "python",
   "name": "python3"
  },
  "language_info": {
   "codemirror_mode": {
    "name": "ipython",
    "version": 3
   },
   "file_extension": ".py",
   "mimetype": "text/x-python",
   "name": "python",
   "nbconvert_exporter": "python",
   "pygments_lexer": "ipython3",
   "version": "3.11.9"
  }
 },
 "nbformat": 4,
 "nbformat_minor": 4
}
