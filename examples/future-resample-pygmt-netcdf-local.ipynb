{
 "cells": [
  {
   "cell_type": "markdown",
   "metadata": {},
   "source": [
    "## PyGMT with NetCDF"
   ]
  },
  {
   "cell_type": "code",
   "execution_count": null,
   "metadata": {},
   "outputs": [],
   "source": [
    "import pygmt"
   ]
  },
  {
   "cell_type": "code",
   "execution_count": null,
   "metadata": {},
   "outputs": [],
   "source": [
    "def reproject():\n",
    "    fp = \"earthaccess_data/20020601090000-JPL-L4_GHRSST-SSTfnd-MUR-GLOB-v02.0-fv04.1.nc\"\n",
    "    dstSRS = \"EPSG:3857\"\n",
    "    te = [\n",
    "        -20037508.342789244,\n",
    "        -20037508.342789244,\n",
    "        20037508.342789244,\n",
    "        20037508.342789244,\n",
    "    ]  # %%\n",
    "    return pygmt.grdproject(\n",
    "        grid=fp, region=f\"{te[0]}/{te[2]}/{te[1]}/{te[3]}+ue\", projection=dstSRS\n",
    "    )"
   ]
  },
  {
   "cell_type": "code",
   "execution_count": null,
   "metadata": {},
   "outputs": [],
   "source": [
    "if __name__ == \"__main__\":\n",
    "    reproject()"
   ]
  }
 ],
 "metadata": {
  "language_info": {
   "codemirror_mode": {
    "name": "ipython",
    "version": 3
   },
   "file_extension": ".py",
   "mimetype": "text/x-python",
   "name": "python",
   "nbconvert_exporter": "python",
   "pygments_lexer": "ipython3",
   "version": "3.11.9"
  }
 },
 "nbformat": 4,
 "nbformat_minor": 2
}
