{
 "cells": [
  {
   "cell_type": "markdown",
   "metadata": {},
   "source": [
    "## Xcube with H5NetCDF"
   ]
  },
  {
   "cell_type": "code",
   "execution_count": null,
   "metadata": {},
   "outputs": [],
   "source": [
    "import xarray as xr\n",
    "from xcube.core.gridmapping import GridMapping\n",
    "from xcube.core.resampling import resample_in_space"
   ]
  },
  {
   "cell_type": "code",
   "execution_count": null,
   "metadata": {},
   "outputs": [],
   "source": [
    "def configure_fs_auth():\n",
    "    import earthaccess\n",
    "    import s3fs\n",
    "\n",
    "    auth = earthaccess.login()\n",
    "    s3_credentials = auth.get_s3_credentials(\"PODAAC\")\n",
    "    fs = s3fs.S3FileSystem(\n",
    "        anon=False,\n",
    "        key=s3_credentials[\"accessKeyId\"],\n",
    "        secret=s3_credentials[\"secretAccessKey\"],\n",
    "        token=s3_credentials[\"sessionToken\"],\n",
    "    )\n",
    "    return fs"
   ]
  },
  {
   "cell_type": "code",
   "execution_count": null,
   "metadata": {},
   "outputs": [],
   "source": [
    "def warp_resample():\n",
    "    bucket = \"podaac-ops-cumulus-protected\"\n",
    "    input_uri = \"MUR-JPL-L4-GLOB-v4.1/20020601090000-JPL-L4_GHRSST-SSTfnd-MUR-GLOB-v02.0-fv04.1.nc\"\n",
    "    variable = \"analysed_sst\"\n",
    "    src = f\"s3://{bucket}/{input_uri}\"\n",
    "    dstSRS = \"EPSG:3857\"\n",
    "    srcSRS = \"EPSG:4326\"\n",
    "    width = height = 256\n",
    "    te = [\n",
    "        -20037508.342789244,\n",
    "        -20037508.342789244,\n",
    "        20037508.342789244,\n",
    "        20037508.342789244,\n",
    "    ]\n",
    "    xres = (te[2] - te[0]) / width\n",
    "    yres = (te[3] - te[1]) / width\n",
    "    fs = configure_fs_auth()\n",
    "    fsspec_caching = {\n",
    "        \"cache_type\": \"none\",\n",
    "    }\n",
    "    with fs.open(src, **fsspec_caching) as f:\n",
    "        ds = xr.open_dataset(f, engine=\"h5netcdf\", chunks={})[[variable]]\n",
    "        source_gm = GridMapping.from_coords(\n",
    "            x_coords=ds.lat, y_coords=ds.lon, crs=srcSRS\n",
    "        )\n",
    "        target_gm = GridMapping.regular(\n",
    "            size=[height, width], xy_min=[te[0], te[1]], xy_res=[xres, yres], crs=dstSRS\n",
    "        )\n",
    "        return resample_in_space(ds, source_gm=source_gm, target_gm=target_gm)"
   ]
  },
  {
   "cell_type": "code",
   "execution_count": null,
   "metadata": {},
   "outputs": [],
   "source": [
    "%%time\n",
    "if __name__ == \"__main__\":\n",
    "    da = warp_resample()"
   ]
  },
  {
   "cell_type": "code",
   "execution_count": null,
   "metadata": {},
   "outputs": [],
   "source": []
  }
 ],
 "metadata": {
  "language_info": {
   "codemirror_mode": {
    "name": "ipython",
    "version": 3
   },
   "file_extension": ".py",
   "mimetype": "text/x-python",
   "name": "python",
   "nbconvert_exporter": "python",
   "pygments_lexer": "ipython3",
   "version": "3.11.9"
  }
 },
 "nbformat": 4,
 "nbformat_minor": 4
}
