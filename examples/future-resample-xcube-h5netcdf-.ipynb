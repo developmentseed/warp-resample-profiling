{
 "cells": [
  {
   "cell_type": "markdown",
   "metadata": {},
   "source": [
    "## Xcube with H5NetCDF"
   ]
  },
  {
   "cell_type": "code",
   "execution_count": 1,
   "metadata": {},
   "outputs": [],
   "source": [
    "import xarray as xr\n",
    "from xcube.core.gridmapping import GridMapping\n",
    "from xcube.core.resampling import resample_in_space"
   ]
  },
  {
   "cell_type": "code",
   "execution_count": 2,
   "metadata": {},
   "outputs": [],
   "source": [
    "def configure_fs_auth():\n",
    "    import earthaccess\n",
    "    import s3fs\n",
    "\n",
    "    auth = earthaccess.login()\n",
    "    s3_credentials = auth.get_s3_credentials(\"PODAAC\")\n",
    "    fs = s3fs.S3FileSystem(\n",
    "        anon=False,\n",
    "        key=s3_credentials[\"accessKeyId\"],\n",
    "        secret=s3_credentials[\"secretAccessKey\"],\n",
    "        token=s3_credentials[\"sessionToken\"],\n",
    "    )\n",
    "    return fs"
   ]
  },
  {
   "cell_type": "code",
   "execution_count": 3,
   "metadata": {},
   "outputs": [],
   "source": [
    "def warp_resample():\n",
    "    bucket = \"podaac-ops-cumulus-protected\"\n",
    "    input_uri = \"MUR-JPL-L4-GLOB-v4.1/20020601090000-JPL-L4_GHRSST-SSTfnd-MUR-GLOB-v02.0-fv04.1.nc\"\n",
    "    variable = \"analysed_sst\"\n",
    "    src = f\"s3://{bucket}/{input_uri}\"\n",
    "    dstSRS = \"EPSG:3857\"\n",
    "    srcSRS = \"EPSG:4326\"\n",
    "    width = height = 256\n",
    "    te = [\n",
    "        -20037508.342789244,\n",
    "        -20037508.342789244,\n",
    "        20037508.342789244,\n",
    "        20037508.342789244,\n",
    "    ]\n",
    "    xres = (te[2] - te[0]) / width\n",
    "    yres = (te[3] - te[1]) / width\n",
    "    fs = configure_fs_auth()\n",
    "    fsspec_caching = {\n",
    "        \"cache_type\": \"none\",\n",
    "    }\n",
    "    with fs.open(src, **fsspec_caching) as f:\n",
    "        ds = xr.open_dataset(f, engine=\"h5netcdf\", chunks={})[[variable]]\n",
    "        source_gm = GridMapping.from_coords(\n",
    "            x_coords=ds.lat, y_coords=ds.lon, crs=srcSRS\n",
    "        )\n",
    "        target_gm = GridMapping.regular(\n",
    "            size=[height, width], xy_min=[te[0], te[1]], xy_res=[xres, yres], crs=dstSRS\n",
    "        )\n",
    "        return resample_in_space(ds, source_gm=source_gm, target_gm=target_gm)"
   ]
  },
  {
   "cell_type": "code",
   "execution_count": 4,
   "metadata": {},
   "outputs": [
    {
     "name": "stderr",
     "output_type": "stream",
     "text": [
      "/opt/conda/lib/python3.11/site-packages/dask/core.py:133: RuntimeWarning: invalid value encountered in subtract\n",
      "  return func(*(_execute_task(a, cache) for a in args))\n",
      "/opt/conda/lib/python3.11/site-packages/dask/core.py:133: RuntimeWarning: invalid value encountered in subtract\n",
      "  return func(*(_execute_task(a, cache) for a in args))\n",
      "/opt/conda/lib/python3.11/site-packages/dask/array/reductions.py:1113: RuntimeWarning: All-NaN slice encountered\n",
      "  vals = func(x, axis=arg_axis, keepdims=True)\n"
     ]
    },
    {
     "ename": "OverflowError",
     "evalue": "cannot convert float infinity to integer",
     "output_type": "error",
     "traceback": [
      "\u001b[0;31m---------------------------------------------------------------------------\u001b[0m",
      "\u001b[0;31mOverflowError\u001b[0m                             Traceback (most recent call last)",
      "File \u001b[0;32m<timed exec>:2\u001b[0m\n",
      "Cell \u001b[0;32mIn[3], line 29\u001b[0m, in \u001b[0;36mwarp_resample\u001b[0;34m()\u001b[0m\n\u001b[1;32m     23\u001b[0m source_gm \u001b[38;5;241m=\u001b[39m GridMapping\u001b[38;5;241m.\u001b[39mfrom_coords(\n\u001b[1;32m     24\u001b[0m     x_coords\u001b[38;5;241m=\u001b[39mds\u001b[38;5;241m.\u001b[39mlat, y_coords\u001b[38;5;241m=\u001b[39mds\u001b[38;5;241m.\u001b[39mlon, crs\u001b[38;5;241m=\u001b[39msrcSRS\n\u001b[1;32m     25\u001b[0m )\n\u001b[1;32m     26\u001b[0m target_gm \u001b[38;5;241m=\u001b[39m GridMapping\u001b[38;5;241m.\u001b[39mregular(\n\u001b[1;32m     27\u001b[0m     size\u001b[38;5;241m=\u001b[39m[height, width], xy_min\u001b[38;5;241m=\u001b[39m[te[\u001b[38;5;241m0\u001b[39m], te[\u001b[38;5;241m1\u001b[39m]], xy_res\u001b[38;5;241m=\u001b[39m[xres, yres], crs\u001b[38;5;241m=\u001b[39mdstSRS\n\u001b[1;32m     28\u001b[0m )\n\u001b[0;32m---> 29\u001b[0m \u001b[38;5;28;01mreturn\u001b[39;00m \u001b[43mresample_in_space\u001b[49m\u001b[43m(\u001b[49m\u001b[43mds\u001b[49m\u001b[43m,\u001b[49m\u001b[43m \u001b[49m\u001b[43msource_gm\u001b[49m\u001b[38;5;241;43m=\u001b[39;49m\u001b[43msource_gm\u001b[49m\u001b[43m,\u001b[49m\u001b[43m \u001b[49m\u001b[43mtarget_gm\u001b[49m\u001b[38;5;241;43m=\u001b[39;49m\u001b[43mtarget_gm\u001b[49m\u001b[43m)\u001b[49m\n",
      "File \u001b[0;32m/opt/conda/lib/python3.11/site-packages/xcube/core/resampling/spatial.py:222\u001b[0m, in \u001b[0;36mresample_in_space\u001b[0;34m(source_ds, source_gm, target_gm, ref_ds, var_configs, encode_cf, gm_name, rectify_kwargs)\u001b[0m\n\u001b[1;32m    210\u001b[0m     \u001b[38;5;28;01mreturn\u001b[39;00m rectify_dataset(\n\u001b[1;32m    211\u001b[0m         downscaled_dataset,\n\u001b[1;32m    212\u001b[0m         source_gm\u001b[38;5;241m=\u001b[39mdownscaled_gm,\n\u001b[0;32m   (...)\u001b[0m\n\u001b[1;32m    217\u001b[0m         \u001b[38;5;241m*\u001b[39m\u001b[38;5;241m*\u001b[39m(rectify_kwargs \u001b[38;5;129;01mor\u001b[39;00m {}),\n\u001b[1;32m    218\u001b[0m     )\n\u001b[1;32m    220\u001b[0m \u001b[38;5;66;03m# If CRSes are not both geographic and their CRSes are different\u001b[39;00m\n\u001b[1;32m    221\u001b[0m \u001b[38;5;66;03m# transform the source_gm so its CRS matches the target CRS:\u001b[39;00m\n\u001b[0;32m--> 222\u001b[0m transformed_source_gm \u001b[38;5;241m=\u001b[39m \u001b[43msource_gm\u001b[49m\u001b[38;5;241;43m.\u001b[39;49m\u001b[43mtransform\u001b[49m\u001b[43m(\u001b[49m\u001b[43mtarget_gm\u001b[49m\u001b[38;5;241;43m.\u001b[39;49m\u001b[43mcrs\u001b[49m\u001b[43m)\u001b[49m\n\u001b[1;32m    223\u001b[0m transformed_x, transformed_y \u001b[38;5;241m=\u001b[39m transformed_source_gm\u001b[38;5;241m.\u001b[39mxy_coords\n\u001b[1;32m    224\u001b[0m \u001b[38;5;28;01mreturn\u001b[39;00m resample_in_space(\n\u001b[1;32m    225\u001b[0m     source_ds\u001b[38;5;241m.\u001b[39massign(transformed_x\u001b[38;5;241m=\u001b[39mtransformed_x, transformed_y\u001b[38;5;241m=\u001b[39mtransformed_y),\n\u001b[1;32m    226\u001b[0m     source_gm\u001b[38;5;241m=\u001b[39mtransformed_source_gm,\n\u001b[0;32m   (...)\u001b[0m\n\u001b[1;32m    229\u001b[0m     gm_name\u001b[38;5;241m=\u001b[39mgm_name,\n\u001b[1;32m    230\u001b[0m )\n",
      "File \u001b[0;32m/opt/conda/lib/python3.11/site-packages/xcube/core/gridmapping/base.py:718\u001b[0m, in \u001b[0;36mGridMapping.transform\u001b[0;34m(self, crs, tile_size, xy_var_names, tolerance)\u001b[0m\n\u001b[1;32m    702\u001b[0m \u001b[38;5;250m\u001b[39m\u001b[38;5;124;03m\"\"\"Transform this grid mapping so it uses the given\u001b[39;00m\n\u001b[1;32m    703\u001b[0m \u001b[38;5;124;03mspatial coordinate reference system into another *crs*.\u001b[39;00m\n\u001b[1;32m    704\u001b[0m \n\u001b[0;32m   (...)\u001b[0m\n\u001b[1;32m    714\u001b[0m \u001b[38;5;124;03m    A new grid mapping that uses *crs*.\u001b[39;00m\n\u001b[1;32m    715\u001b[0m \u001b[38;5;124;03m\"\"\"\u001b[39;00m\n\u001b[1;32m    716\u001b[0m \u001b[38;5;28;01mfrom\u001b[39;00m \u001b[38;5;21;01m.\u001b[39;00m\u001b[38;5;21;01mtransform\u001b[39;00m \u001b[38;5;28;01mimport\u001b[39;00m transform_grid_mapping\n\u001b[0;32m--> 718\u001b[0m \u001b[38;5;28;01mreturn\u001b[39;00m \u001b[43mtransform_grid_mapping\u001b[49m\u001b[43m(\u001b[49m\n\u001b[1;32m    719\u001b[0m \u001b[43m    \u001b[49m\u001b[38;5;28;43mself\u001b[39;49m\u001b[43m,\u001b[49m\n\u001b[1;32m    720\u001b[0m \u001b[43m    \u001b[49m\u001b[43mcrs\u001b[49m\u001b[43m,\u001b[49m\n\u001b[1;32m    721\u001b[0m \u001b[43m    \u001b[49m\u001b[43mtile_size\u001b[49m\u001b[38;5;241;43m=\u001b[39;49m\u001b[43mtile_size\u001b[49m\u001b[43m,\u001b[49m\n\u001b[1;32m    722\u001b[0m \u001b[43m    \u001b[49m\u001b[43mxy_var_names\u001b[49m\u001b[38;5;241;43m=\u001b[39;49m\u001b[43mxy_var_names\u001b[49m\u001b[43m,\u001b[49m\n\u001b[1;32m    723\u001b[0m \u001b[43m    \u001b[49m\u001b[43mtolerance\u001b[49m\u001b[38;5;241;43m=\u001b[39;49m\u001b[43mtolerance\u001b[49m\u001b[43m,\u001b[49m\n\u001b[1;32m    724\u001b[0m \u001b[43m\u001b[49m\u001b[43m)\u001b[49m\n",
      "File \u001b[0;32m/opt/conda/lib/python3.11/site-packages/xcube/core/gridmapping/transform.py:83\u001b[0m, in \u001b[0;36mtransform_grid_mapping\u001b[0;34m(grid_mapping, crs, tile_size, xy_var_names, tolerance)\u001b[0m\n\u001b[1;32m     72\u001b[0m xy_var_names \u001b[38;5;241m=\u001b[39m xy_var_names \u001b[38;5;129;01mor\u001b[39;00m (\u001b[38;5;124m\"\u001b[39m\u001b[38;5;124mtransformed_x\u001b[39m\u001b[38;5;124m\"\u001b[39m, \u001b[38;5;124m\"\u001b[39m\u001b[38;5;124mtransformed_y\u001b[39m\u001b[38;5;124m\"\u001b[39m)\n\u001b[1;32m     74\u001b[0m \u001b[38;5;66;03m# TODO: Use a specialized grid mapping here that can store the\u001b[39;00m\n\u001b[1;32m     75\u001b[0m \u001b[38;5;66;03m#   *xy_coords* directly. Splitting the xy_coords dask array into\u001b[39;00m\n\u001b[1;32m     76\u001b[0m \u001b[38;5;66;03m#   x,y components as done here may be very inefficient for larger\u001b[39;00m\n\u001b[0;32m   (...)\u001b[0m\n\u001b[1;32m     80\u001b[0m \u001b[38;5;66;03m#   on x and y arrays, this will take twice as long as if operation\u001b[39;00m\n\u001b[1;32m     81\u001b[0m \u001b[38;5;66;03m#   would be performed on the xy_coords dask array directly.\u001b[39;00m\n\u001b[0;32m---> 83\u001b[0m \u001b[38;5;28;01mreturn\u001b[39;00m \u001b[43mnew_grid_mapping_from_coords\u001b[49m\u001b[43m(\u001b[49m\n\u001b[1;32m     84\u001b[0m \u001b[43m    \u001b[49m\u001b[43mx_coords\u001b[49m\u001b[38;5;241;43m=\u001b[39;49m\u001b[43mxr\u001b[49m\u001b[38;5;241;43m.\u001b[39;49m\u001b[43mDataArray\u001b[49m\u001b[43m(\u001b[49m\u001b[43mxy_coords\u001b[49m\u001b[43m[\u001b[49m\u001b[38;5;241;43m0\u001b[39;49m\u001b[43m]\u001b[49m\u001b[43m,\u001b[49m\u001b[43m \u001b[49m\u001b[43mname\u001b[49m\u001b[38;5;241;43m=\u001b[39;49m\u001b[43mxy_var_names\u001b[49m\u001b[43m[\u001b[49m\u001b[38;5;241;43m0\u001b[39;49m\u001b[43m]\u001b[49m\u001b[43m)\u001b[49m\u001b[43m,\u001b[49m\n\u001b[1;32m     85\u001b[0m \u001b[43m    \u001b[49m\u001b[43my_coords\u001b[49m\u001b[38;5;241;43m=\u001b[39;49m\u001b[43mxr\u001b[49m\u001b[38;5;241;43m.\u001b[39;49m\u001b[43mDataArray\u001b[49m\u001b[43m(\u001b[49m\u001b[43mxy_coords\u001b[49m\u001b[43m[\u001b[49m\u001b[38;5;241;43m1\u001b[39;49m\u001b[43m]\u001b[49m\u001b[43m,\u001b[49m\u001b[43m \u001b[49m\u001b[43mname\u001b[49m\u001b[38;5;241;43m=\u001b[39;49m\u001b[43mxy_var_names\u001b[49m\u001b[43m[\u001b[49m\u001b[38;5;241;43m1\u001b[39;49m\u001b[43m]\u001b[49m\u001b[43m)\u001b[49m\u001b[43m,\u001b[49m\n\u001b[1;32m     86\u001b[0m \u001b[43m    \u001b[49m\u001b[43mcrs\u001b[49m\u001b[38;5;241;43m=\u001b[39;49m\u001b[43mtarget_crs\u001b[49m\u001b[43m,\u001b[49m\n\u001b[1;32m     87\u001b[0m \u001b[43m    \u001b[49m\u001b[43mtile_size\u001b[49m\u001b[38;5;241;43m=\u001b[39;49m\u001b[43mtile_size\u001b[49m\u001b[43m,\u001b[49m\n\u001b[1;32m     88\u001b[0m \u001b[43m    \u001b[49m\u001b[43mtolerance\u001b[49m\u001b[38;5;241;43m=\u001b[39;49m\u001b[43mtolerance\u001b[49m\u001b[43m,\u001b[49m\n\u001b[1;32m     89\u001b[0m \u001b[43m\u001b[49m\u001b[43m)\u001b[49m\n",
      "File \u001b[0;32m/opt/conda/lib/python3.11/site-packages/xcube/core/gridmapping/coords.py:241\u001b[0m, in \u001b[0;36mnew_grid_mapping_from_coords\u001b[0;34m(x_coords, y_coords, crs, tile_size, tolerance)\u001b[0m\n\u001b[1;32m    238\u001b[0m         xy_res \u001b[38;5;241m=\u001b[39m math\u001b[38;5;241m.\u001b[39mdegrees(xy_res \u001b[38;5;241m/\u001b[39m _ER)\n\u001b[1;32m    239\u001b[0m         \u001b[38;5;66;03m# print(f'xy_res in degrees: {xy_res}')\u001b[39;00m\n\u001b[1;32m    240\u001b[0m     \u001b[38;5;66;03m# Because this is an estimation, we can round to a nice number\u001b[39;00m\n\u001b[0;32m--> 241\u001b[0m     xy_res \u001b[38;5;241m=\u001b[39m \u001b[43mround_to_fraction\u001b[49m\u001b[43m(\u001b[49m\u001b[43mxy_res\u001b[49m\u001b[43m,\u001b[49m\u001b[43m \u001b[49m\u001b[43mdigits\u001b[49m\u001b[38;5;241;43m=\u001b[39;49m\u001b[38;5;241;43m1\u001b[39;49m\u001b[43m,\u001b[49m\u001b[43m \u001b[49m\u001b[43mresolution\u001b[49m\u001b[38;5;241;43m=\u001b[39;49m\u001b[38;5;241;43m0.5\u001b[39;49m\u001b[43m)\u001b[49m\n\u001b[1;32m    242\u001b[0m     x_res, y_res \u001b[38;5;241m=\u001b[39m \u001b[38;5;28mfloat\u001b[39m(xy_res), \u001b[38;5;28mfloat\u001b[39m(xy_res)\n\u001b[1;32m    244\u001b[0m \u001b[38;5;28;01mif\u001b[39;00m tile_size \u001b[38;5;129;01mis\u001b[39;00m \u001b[38;5;28;01mNone\u001b[39;00m \u001b[38;5;129;01mand\u001b[39;00m x_coords\u001b[38;5;241m.\u001b[39mchunks \u001b[38;5;129;01mis\u001b[39;00m \u001b[38;5;129;01mnot\u001b[39;00m \u001b[38;5;28;01mNone\u001b[39;00m:\n",
      "File \u001b[0;32m/opt/conda/lib/python3.11/site-packages/xcube/core/gridmapping/helpers.py:169\u001b[0m, in \u001b[0;36mround_to_fraction\u001b[0;34m(value, digits, resolution)\u001b[0m\n\u001b[1;32m    167\u001b[0m     value \u001b[38;5;241m=\u001b[39m \u001b[38;5;241m-\u001b[39mvalue\n\u001b[1;32m    168\u001b[0m resolution, resolution_digits \u001b[38;5;241m=\u001b[39m _RESOLUTIONS[resolution_key]\n\u001b[0;32m--> 169\u001b[0m exponent \u001b[38;5;241m=\u001b[39m \u001b[43mmath\u001b[49m\u001b[38;5;241;43m.\u001b[39;49m\u001b[43mfloor\u001b[49m\u001b[43m(\u001b[49m\u001b[43mmath\u001b[49m\u001b[38;5;241;43m.\u001b[39;49m\u001b[43mlog10\u001b[49m\u001b[43m(\u001b[49m\u001b[43mvalue\u001b[49m\u001b[43m)\u001b[49m\u001b[43m)\u001b[49m \u001b[38;5;241m-\u001b[39m digits \u001b[38;5;241m-\u001b[39m resolution_digits\n\u001b[1;32m    170\u001b[0m \u001b[38;5;28;01mif\u001b[39;00m exponent \u001b[38;5;241m>\u001b[39m\u001b[38;5;241m=\u001b[39m \u001b[38;5;241m0\u001b[39m:\n\u001b[1;32m    171\u001b[0m     magnitude \u001b[38;5;241m=\u001b[39m Fraction(\u001b[38;5;241m10\u001b[39m\u001b[38;5;241m*\u001b[39m\u001b[38;5;241m*\u001b[39mexponent, \u001b[38;5;241m1\u001b[39m)\n",
      "\u001b[0;31mOverflowError\u001b[0m: cannot convert float infinity to integer"
     ]
    }
   ],
   "source": [
    "%%time\n",
    "if __name__ == \"__main__\":\n",
    "    da = warp_resample()"
   ]
  },
  {
   "cell_type": "code",
   "execution_count": null,
   "metadata": {},
   "outputs": [],
   "source": []
  }
 ],
 "metadata": {
  "kernelspec": {
   "display_name": "Python 3 (ipykernel)",
   "language": "python",
   "name": "python3"
  },
  "language_info": {
   "codemirror_mode": {
    "name": "ipython",
    "version": 3
   },
   "file_extension": ".py",
   "mimetype": "text/x-python",
   "name": "python",
   "nbconvert_exporter": "python",
   "pygments_lexer": "ipython3",
   "version": "3.11.9"
  }
 },
 "nbformat": 4,
 "nbformat_minor": 4
}
