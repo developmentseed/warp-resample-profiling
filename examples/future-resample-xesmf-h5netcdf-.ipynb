{
 "cells": [
  {
   "cell_type": "markdown",
   "metadata": {},
   "source": [
    "Requires the upcoming ESMF 8.7 release - https://github.com/pangeo-data/xESMF/issues/380"
   ]
  },
  {
   "cell_type": "code",
   "execution_count": 1,
   "metadata": {},
   "outputs": [],
   "source": [
    "import itertools\n",
    "\n",
    "import fsspec\n",
    "import numpy as np\n",
    "import pyproj\n",
    "import rasterio.transform\n",
    "import xarray as xr\n",
    "import xesmf as xe"
   ]
  },
  {
   "cell_type": "code",
   "execution_count": 2,
   "metadata": {},
   "outputs": [],
   "source": [
    "def make_grid_ds() -> xr.Dataset:\n",
    "    \"\"\"\n",
    "    Modified from ndpyramid - https://github.com/carbonplan/ndpyramid\n",
    "    \"\"\"\n",
    "    dstSRS = \"EPSG:3857\"\n",
    "    width = height = 256\n",
    "    te = [\n",
    "        -20037508.342789244,\n",
    "        -20037508.342789244,\n",
    "        20037508.342789244,\n",
    "        20037508.342789244,\n",
    "    ]\n",
    "\n",
    "    transform = rasterio.transform.Affine.translation(\n",
    "        te[0], te[3]\n",
    "    ) * rasterio.transform.Affine.scale((te[2] * 2) / width, (te[1] * 2) / height)\n",
    "\n",
    "    p = pyproj.Proj(dstSRS)\n",
    "\n",
    "    grid_shape = (height, width)\n",
    "    bounds_shape = (height + 1, width + 1)\n",
    "\n",
    "    xs = np.empty(grid_shape)\n",
    "    ys = np.empty(grid_shape)\n",
    "    lat = np.empty(grid_shape)\n",
    "    lon = np.empty(grid_shape)\n",
    "    lat_b = np.zeros(bounds_shape)\n",
    "    lon_b = np.zeros(bounds_shape)\n",
    "\n",
    "    # calc grid cell center coordinates\n",
    "    ii, jj = np.meshgrid(np.arange(height) + 0.5, np.arange(width) + 0.5)\n",
    "    for i, j in itertools.product(range(grid_shape[0]), range(grid_shape[1])):\n",
    "        locs = [ii[i, j], jj[i, j]]\n",
    "        xs[i, j], ys[i, j] = transform * locs\n",
    "        lon[i, j], lat[i, j] = p(xs[i, j], ys[i, j], inverse=True)\n",
    "\n",
    "    # calc grid cell bounds\n",
    "    iib, jjb = np.meshgrid(np.arange(height + 1), np.arange(width + 1))\n",
    "    for i, j in itertools.product(range(bounds_shape[0]), range(bounds_shape[1])):\n",
    "        locs = [iib[i, j], jjb[i, j]]\n",
    "        x, y = transform * locs\n",
    "        lon_b[i, j], lat_b[i, j] = p(x, y, inverse=True)\n",
    "\n",
    "    return xr.Dataset(\n",
    "        {\n",
    "            \"x\": xr.DataArray(xs[0, :], dims=[\"x\"]),\n",
    "            \"y\": xr.DataArray(ys[:, 0], dims=[\"y\"]),\n",
    "            \"lat\": xr.DataArray(lat, dims=[\"y\", \"x\"]),\n",
    "            \"lon\": xr.DataArray(lon, dims=[\"y\", \"x\"]),\n",
    "            \"lat_b\": xr.DataArray(lat_b, dims=[\"y_b\", \"x_b\"]),\n",
    "            \"lon_b\": xr.DataArray(lon_b, dims=[\"y_b\", \"x_b\"]),\n",
    "        },\n",
    "    )"
   ]
  },
  {
   "cell_type": "code",
   "execution_count": 3,
   "metadata": {},
   "outputs": [],
   "source": [
    "def regrid():\n",
    "    bucket = \"podaac-ops-cumulus-protected\"\n",
    "    input_uri = \"MUR-JPL-L4-GLOB-v4.1/20020601090000-JPL-L4_GHRSST-SSTfnd-MUR-GLOB-v02.0-fv04.1.nc\"\n",
    "    variable = \"analysed_sst\"\n",
    "    src = f\"s3://{bucket}/{input_uri}\"\n",
    "    fs = fsspec.filesystem(\"s3\")\n",
    "    fsspec_caching = {\n",
    "        \"cache_type\": \"none\",\n",
    "    }\n",
    "    target_grid = make_grid_ds()\n",
    "    with fs.open(src, **fsspec_caching) as f:\n",
    "        da = xr.open_dataset(f, engine=\"h5netcdf\")[variable]\n",
    "        regridder = xe.Regridder(\n",
    "            da,\n",
    "            target_grid,\n",
    "            \"nearest_s2d\",\n",
    "            periodic=True,\n",
    "            extrap_method=\"nearest_s2d\",\n",
    "            ignore_degenerate=True,\n",
    "        )\n",
    "        return regridder(da)"
   ]
  },
  {
   "cell_type": "code",
   "execution_count": 4,
   "metadata": {},
   "outputs": [
    {
     "ename": "TypeError",
     "evalue": "buffer is too small for requested array",
     "output_type": "error",
     "traceback": [
      "\u001b[0;31m---------------------------------------------------------------------------\u001b[0m",
      "\u001b[0;31mTypeError\u001b[0m                                 Traceback (most recent call last)",
      "Cell \u001b[0;32mIn[4], line 2\u001b[0m\n\u001b[1;32m      1\u001b[0m \u001b[38;5;28;01mif\u001b[39;00m \u001b[38;5;18m__name__\u001b[39m \u001b[38;5;241m==\u001b[39m \u001b[38;5;124m\"\u001b[39m\u001b[38;5;124m__main__\u001b[39m\u001b[38;5;124m\"\u001b[39m:\n\u001b[0;32m----> 2\u001b[0m     ds \u001b[38;5;241m=\u001b[39m \u001b[43mregrid\u001b[49m\u001b[43m(\u001b[49m\u001b[43m)\u001b[49m\n",
      "Cell \u001b[0;32mIn[3], line 14\u001b[0m, in \u001b[0;36mregrid\u001b[0;34m()\u001b[0m\n\u001b[1;32m     12\u001b[0m \u001b[38;5;28;01mwith\u001b[39;00m fs\u001b[38;5;241m.\u001b[39mopen(src, \u001b[38;5;241m*\u001b[39m\u001b[38;5;241m*\u001b[39mfsspec_caching) \u001b[38;5;28;01mas\u001b[39;00m f:\n\u001b[1;32m     13\u001b[0m     da \u001b[38;5;241m=\u001b[39m xr\u001b[38;5;241m.\u001b[39mopen_dataset(f, engine\u001b[38;5;241m=\u001b[39m\u001b[38;5;124m\"\u001b[39m\u001b[38;5;124mh5netcdf\u001b[39m\u001b[38;5;124m\"\u001b[39m)[variable]\n\u001b[0;32m---> 14\u001b[0m     regridder \u001b[38;5;241m=\u001b[39m \u001b[43mxe\u001b[49m\u001b[38;5;241;43m.\u001b[39;49m\u001b[43mRegridder\u001b[49m\u001b[43m(\u001b[49m\u001b[43mda\u001b[49m\u001b[43m,\u001b[49m\u001b[43m \u001b[49m\u001b[43mtarget_grid\u001b[49m\u001b[43m,\u001b[49m\u001b[43m \u001b[49m\u001b[38;5;124;43m\"\u001b[39;49m\u001b[38;5;124;43mnearest_s2d\u001b[39;49m\u001b[38;5;124;43m\"\u001b[39;49m\u001b[43m,\u001b[49m\u001b[43m \u001b[49m\u001b[43mperiodic\u001b[49m\u001b[38;5;241;43m=\u001b[39;49m\u001b[43m \u001b[49m\u001b[38;5;28;43;01mTrue\u001b[39;49;00m\u001b[43m,\u001b[49m\u001b[43m \u001b[49m\u001b[43mextrap_method\u001b[49m\u001b[38;5;241;43m=\u001b[39;49m\u001b[38;5;124;43m\"\u001b[39;49m\u001b[38;5;124;43mnearest_s2d\u001b[39;49m\u001b[38;5;124;43m\"\u001b[39;49m\u001b[43m,\u001b[49m\u001b[43m \u001b[49m\u001b[43mignore_degenerate\u001b[49m\u001b[38;5;241;43m=\u001b[39;49m\u001b[38;5;28;43;01mTrue\u001b[39;49;00m\u001b[43m)\u001b[49m\n\u001b[1;32m     15\u001b[0m     \u001b[38;5;28;01mreturn\u001b[39;00m regridder(da)\n",
      "File \u001b[0;32m/opt/conda/lib/python3.11/site-packages/xesmf/frontend.py:919\u001b[0m, in \u001b[0;36mRegridder.__init__\u001b[0;34m(self, ds_in, ds_out, method, locstream_in, locstream_out, periodic, parallel, **kwargs)\u001b[0m\n\u001b[1;32m    917\u001b[0m     grid_in, shape_in, input_dims \u001b[38;5;241m=\u001b[39m ds_to_ESMFlocstream(ds_in)\n\u001b[1;32m    918\u001b[0m \u001b[38;5;28;01melse\u001b[39;00m:\n\u001b[0;32m--> 919\u001b[0m     grid_in, shape_in, input_dims \u001b[38;5;241m=\u001b[39m \u001b[43mds_to_ESMFgrid\u001b[49m\u001b[43m(\u001b[49m\n\u001b[1;32m    920\u001b[0m \u001b[43m        \u001b[49m\u001b[43mds_in\u001b[49m\u001b[43m,\u001b[49m\u001b[43m \u001b[49m\u001b[43mneed_bounds\u001b[49m\u001b[38;5;241;43m=\u001b[39;49m\u001b[43mneed_bounds\u001b[49m\u001b[43m,\u001b[49m\u001b[43m \u001b[49m\u001b[43mperiodic\u001b[49m\u001b[38;5;241;43m=\u001b[39;49m\u001b[43mperiodic\u001b[49m\n\u001b[1;32m    921\u001b[0m \u001b[43m    \u001b[49m\u001b[43m)\u001b[49m\n\u001b[1;32m    922\u001b[0m \u001b[38;5;28;01mif\u001b[39;00m locstream_out:\n\u001b[1;32m    923\u001b[0m     grid_out, shape_out, output_dims \u001b[38;5;241m=\u001b[39m ds_to_ESMFlocstream(ds_out)\n",
      "File \u001b[0;32m/opt/conda/lib/python3.11/site-packages/xesmf/frontend.py:164\u001b[0m, in \u001b[0;36mds_to_ESMFgrid\u001b[0;34m(ds, need_bounds, periodic, append)\u001b[0m\n\u001b[1;32m    162\u001b[0m     grid \u001b[38;5;241m=\u001b[39m Grid\u001b[38;5;241m.\u001b[39mfrom_xarray(lon\u001b[38;5;241m.\u001b[39mT, lat\u001b[38;5;241m.\u001b[39mT, periodic\u001b[38;5;241m=\u001b[39mperiodic, mask\u001b[38;5;241m=\u001b[39mmask\u001b[38;5;241m.\u001b[39mT)\n\u001b[1;32m    163\u001b[0m \u001b[38;5;28;01melse\u001b[39;00m:\n\u001b[0;32m--> 164\u001b[0m     grid \u001b[38;5;241m=\u001b[39m \u001b[43mGrid\u001b[49m\u001b[38;5;241;43m.\u001b[39;49m\u001b[43mfrom_xarray\u001b[49m\u001b[43m(\u001b[49m\u001b[43mlon\u001b[49m\u001b[38;5;241;43m.\u001b[39;49m\u001b[43mT\u001b[49m\u001b[43m,\u001b[49m\u001b[43m \u001b[49m\u001b[43mlat\u001b[49m\u001b[38;5;241;43m.\u001b[39;49m\u001b[43mT\u001b[49m\u001b[43m,\u001b[49m\u001b[43m \u001b[49m\u001b[43mperiodic\u001b[49m\u001b[38;5;241;43m=\u001b[39;49m\u001b[43mperiodic\u001b[49m\u001b[43m,\u001b[49m\u001b[43m \u001b[49m\u001b[43mmask\u001b[49m\u001b[38;5;241;43m=\u001b[39;49m\u001b[38;5;28;43;01mNone\u001b[39;49;00m\u001b[43m)\u001b[49m\n\u001b[1;32m    166\u001b[0m \u001b[38;5;28;01mif\u001b[39;00m need_bounds:\n\u001b[1;32m    167\u001b[0m     lon_b, lat_b \u001b[38;5;241m=\u001b[39m _get_lon_lat_bounds(ds)\n",
      "File \u001b[0;32m/opt/conda/lib/python3.11/site-packages/xesmf/backend.py:114\u001b[0m, in \u001b[0;36mGrid.from_xarray\u001b[0;34m(cls, lon, lat, periodic, mask)\u001b[0m\n\u001b[1;32m    108\u001b[0m     num_peri_dims \u001b[38;5;241m=\u001b[39m \u001b[38;5;28;01mNone\u001b[39;00m\n\u001b[1;32m    110\u001b[0m \u001b[38;5;66;03m# ESMPy documentation claims that if staggerloc and coord_sys are None,\u001b[39;00m\n\u001b[1;32m    111\u001b[0m \u001b[38;5;66;03m# they will be set to default values (CENTER and SPH_DEG).\u001b[39;00m\n\u001b[1;32m    112\u001b[0m \u001b[38;5;66;03m# However, they actually need to be set explicitly,\u001b[39;00m\n\u001b[1;32m    113\u001b[0m \u001b[38;5;66;03m# otherwise grid._coord_sys and grid._staggerloc will still be None.\u001b[39;00m\n\u001b[0;32m--> 114\u001b[0m grid \u001b[38;5;241m=\u001b[39m \u001b[38;5;28;43mcls\u001b[39;49m\u001b[43m(\u001b[49m\n\u001b[1;32m    115\u001b[0m \u001b[43m    \u001b[49m\u001b[43mnp\u001b[49m\u001b[38;5;241;43m.\u001b[39;49m\u001b[43marray\u001b[49m\u001b[43m(\u001b[49m\u001b[43mlon\u001b[49m\u001b[38;5;241;43m.\u001b[39;49m\u001b[43mshape\u001b[49m\u001b[43m)\u001b[49m\u001b[43m,\u001b[49m\n\u001b[1;32m    116\u001b[0m \u001b[43m    \u001b[49m\u001b[43mstaggerloc\u001b[49m\u001b[38;5;241;43m=\u001b[39;49m\u001b[43mstaggerloc\u001b[49m\u001b[43m,\u001b[49m\n\u001b[1;32m    117\u001b[0m \u001b[43m    \u001b[49m\u001b[43mcoord_sys\u001b[49m\u001b[38;5;241;43m=\u001b[39;49m\u001b[43mESMF\u001b[49m\u001b[38;5;241;43m.\u001b[39;49m\u001b[43mCoordSys\u001b[49m\u001b[38;5;241;43m.\u001b[39;49m\u001b[43mSPH_DEG\u001b[49m\u001b[43m,\u001b[49m\n\u001b[1;32m    118\u001b[0m \u001b[43m    \u001b[49m\u001b[43mnum_peri_dims\u001b[49m\u001b[38;5;241;43m=\u001b[39;49m\u001b[43mnum_peri_dims\u001b[49m\u001b[43m,\u001b[49m\n\u001b[1;32m    119\u001b[0m \u001b[43m\u001b[49m\u001b[43m)\u001b[49m\n\u001b[1;32m    121\u001b[0m \u001b[38;5;66;03m# The grid object points to the underlying Fortran arrays in ESMF.\u001b[39;00m\n\u001b[1;32m    122\u001b[0m \u001b[38;5;66;03m# To modify lat/lon coordinates, need to get pointers to them\u001b[39;00m\n\u001b[1;32m    123\u001b[0m lon_pointer \u001b[38;5;241m=\u001b[39m grid\u001b[38;5;241m.\u001b[39mget_coords(coord_dim\u001b[38;5;241m=\u001b[39m\u001b[38;5;241m0\u001b[39m, staggerloc\u001b[38;5;241m=\u001b[39mstaggerloc)\n",
      "File \u001b[0;32m/opt/conda/lib/python3.11/site-packages/esmpy/util/decorators.py:59\u001b[0m, in \u001b[0;36minitialize.<locals>.new_func\u001b[0;34m(*args, **kwargs)\u001b[0m\n\u001b[1;32m     56\u001b[0m \u001b[38;5;28;01mfrom\u001b[39;00m \u001b[38;5;21;01mesmpy\u001b[39;00m\u001b[38;5;21;01m.\u001b[39;00m\u001b[38;5;21;01mapi\u001b[39;00m \u001b[38;5;28;01mimport\u001b[39;00m esmpymanager\n\u001b[1;32m     58\u001b[0m esmp \u001b[38;5;241m=\u001b[39m esmpymanager\u001b[38;5;241m.\u001b[39mManager(debug \u001b[38;5;241m=\u001b[39m \u001b[38;5;28;01mFalse\u001b[39;00m)\n\u001b[0;32m---> 59\u001b[0m \u001b[38;5;28;01mreturn\u001b[39;00m \u001b[43mfunc\u001b[49m\u001b[43m(\u001b[49m\u001b[38;5;241;43m*\u001b[39;49m\u001b[43margs\u001b[49m\u001b[43m,\u001b[49m\u001b[43m \u001b[49m\u001b[38;5;241;43m*\u001b[39;49m\u001b[38;5;241;43m*\u001b[39;49m\u001b[43mkwargs\u001b[49m\u001b[43m)\u001b[49m\n",
      "File \u001b[0;32m/opt/conda/lib/python3.11/site-packages/esmpy/api/grid.py:479\u001b[0m, in \u001b[0;36mGrid.__init__\u001b[0;34m(self, max_index, num_peri_dims, periodic_dim, pole_dim, coord_sys, coord_typekind, staggerloc, pole_kind, filename, filetype, reg_decomp, decompflag, is_sphere, add_corner_stagger, add_user_area, add_mask, varname, coord_names, tilesize, regDecompPTile, name)\u001b[0m\n\u001b[1;32m    454\u001b[0m \u001b[38;5;66;03m# if self.decount == 1:\u001b[39;00m\n\u001b[1;32m    455\u001b[0m \u001b[38;5;66;03m# elif self.decount > 1:\u001b[39;00m\n\u001b[1;32m    456\u001b[0m \u001b[38;5;66;03m#     # lower_bounds[de][staggerLoc]\u001b[39;00m\n\u001b[0;32m   (...)\u001b[0m\n\u001b[1;32m    476\u001b[0m \n\u001b[1;32m    477\u001b[0m \u001b[38;5;66;03m# Add coordinates if a staggerloc is specified\u001b[39;00m\n\u001b[1;32m    478\u001b[0m \u001b[38;5;28;01mif\u001b[39;00m \u001b[38;5;129;01mnot\u001b[39;00m \u001b[38;5;28misinstance\u001b[39m(staggerloc, \u001b[38;5;28mtype\u001b[39m(\u001b[38;5;28;01mNone\u001b[39;00m)):\n\u001b[0;32m--> 479\u001b[0m     \u001b[38;5;28;43mself\u001b[39;49m\u001b[38;5;241;43m.\u001b[39;49m\u001b[43madd_coords\u001b[49m\u001b[43m(\u001b[49m\u001b[43mstaggerloc\u001b[49m\u001b[38;5;241;43m=\u001b[39;49m\u001b[43mstaggerloc\u001b[49m\u001b[43m,\u001b[49m\u001b[43m \u001b[49m\u001b[43mfrom_file\u001b[49m\u001b[38;5;241;43m=\u001b[39;49m\u001b[43mfrom_file\u001b[49m\u001b[43m)\u001b[49m\n\u001b[1;32m    481\u001b[0m \u001b[38;5;66;03m# Add items if they are specified, this is done after the\u001b[39;00m\n\u001b[1;32m    482\u001b[0m \u001b[38;5;66;03m# mask and area are initialized\u001b[39;00m\n\u001b[1;32m    483\u001b[0m \u001b[38;5;28;01mif\u001b[39;00m add_user_area:\n",
      "File \u001b[0;32m/opt/conda/lib/python3.11/site-packages/esmpy/api/grid.py:837\u001b[0m, in \u001b[0;36mGrid.add_coords\u001b[0;34m(self, staggerloc, coord_dim, from_file)\u001b[0m\n\u001b[1;32m    834\u001b[0m     ESMP_GridAddCoord(\u001b[38;5;28mself\u001b[39m, staggerloc\u001b[38;5;241m=\u001b[39mstagger)\n\u001b[1;32m    836\u001b[0m \u001b[38;5;66;03m# and now for Python\u001b[39;00m\n\u001b[0;32m--> 837\u001b[0m \u001b[38;5;28;43mself\u001b[39;49m\u001b[38;5;241;43m.\u001b[39;49m\u001b[43m_allocate_coords_\u001b[49m\u001b[43m(\u001b[49m\u001b[43mstagger\u001b[49m\u001b[43m,\u001b[49m\u001b[43m \u001b[49m\u001b[43mfrom_file\u001b[49m\u001b[38;5;241;43m=\u001b[39;49m\u001b[43mfrom_file\u001b[49m\u001b[43m)\u001b[49m\n\u001b[1;32m    839\u001b[0m \u001b[38;5;66;03m# set the staggerlocs to be done\u001b[39;00m\n\u001b[1;32m    840\u001b[0m \u001b[38;5;28mself\u001b[39m\u001b[38;5;241m.\u001b[39mstaggerloc[stagger] \u001b[38;5;241m=\u001b[39m \u001b[38;5;28;01mTrue\u001b[39;00m\n",
      "File \u001b[0;32m/opt/conda/lib/python3.11/site-packages/esmpy/api/grid.py:1062\u001b[0m, in \u001b[0;36mGrid._allocate_coords_\u001b[0;34m(self, stagger, localde, from_file)\u001b[0m\n\u001b[1;32m   1060\u001b[0m \u001b[38;5;28;01mif\u001b[39;00m (\u001b[38;5;28mself\u001b[39m\u001b[38;5;241m.\u001b[39mndims \u001b[38;5;241m==\u001b[39m \u001b[38;5;28mself\u001b[39m\u001b[38;5;241m.\u001b[39mrank) \u001b[38;5;129;01mor\u001b[39;00m (\u001b[38;5;28mself\u001b[39m\u001b[38;5;241m.\u001b[39mndims \u001b[38;5;241m==\u001b[39m \u001b[38;5;241m0\u001b[39m):\n\u001b[1;32m   1061\u001b[0m     \u001b[38;5;28;01mfor\u001b[39;00m xyz \u001b[38;5;129;01min\u001b[39;00m \u001b[38;5;28mrange\u001b[39m(\u001b[38;5;28mself\u001b[39m\u001b[38;5;241m.\u001b[39mrank):\n\u001b[0;32m-> 1062\u001b[0m         \u001b[38;5;28;43mself\u001b[39;49m\u001b[38;5;241;43m.\u001b[39;49m\u001b[43m_link_coord_buffer_\u001b[49m\u001b[43m(\u001b[49m\u001b[43mxyz\u001b[49m\u001b[43m,\u001b[49m\u001b[43m \u001b[49m\u001b[43mstagger\u001b[49m\u001b[43m,\u001b[49m\u001b[43m \u001b[49m\u001b[43mlocalde\u001b[49m\u001b[43m)\u001b[49m\n\u001b[1;32m   1063\u001b[0m \u001b[38;5;66;03m# and this way if we have 1d coordinates\u001b[39;00m\n\u001b[1;32m   1064\u001b[0m \u001b[38;5;28;01melif\u001b[39;00m \u001b[38;5;28mself\u001b[39m\u001b[38;5;241m.\u001b[39mndims \u001b[38;5;241m<\u001b[39m \u001b[38;5;28mself\u001b[39m\u001b[38;5;241m.\u001b[39mrank:\n",
      "File \u001b[0;32m/opt/conda/lib/python3.11/site-packages/esmpy/api/grid.py:1112\u001b[0m, in \u001b[0;36mGrid._link_coord_buffer_\u001b[0;34m(self, coord_dim, stagger, localde)\u001b[0m\n\u001b[1;32m   1109\u001b[0m data \u001b[38;5;241m=\u001b[39m ESMP_GridGetCoordPtr(\u001b[38;5;28mself\u001b[39m, coord_dim, staggerloc\u001b[38;5;241m=\u001b[39mstagger, localde\u001b[38;5;241m=\u001b[39mlocalde)\n\u001b[1;32m   1110\u001b[0m lb, ub \u001b[38;5;241m=\u001b[39m ESMP_GridGetCoordBounds(\u001b[38;5;28mself\u001b[39m, staggerloc\u001b[38;5;241m=\u001b[39mstagger, localde\u001b[38;5;241m=\u001b[39mlocalde)\n\u001b[0;32m-> 1112\u001b[0m gridCoordP \u001b[38;5;241m=\u001b[39m \u001b[43mndarray_from_esmf\u001b[49m\u001b[43m(\u001b[49m\u001b[43mdata\u001b[49m\u001b[43m,\u001b[49m\u001b[43m \u001b[49m\u001b[38;5;28;43mself\u001b[39;49m\u001b[38;5;241;43m.\u001b[39;49m\u001b[43mtype\u001b[49m\u001b[43m,\u001b[49m\u001b[43m \u001b[49m\u001b[43mub\u001b[49m\u001b[38;5;241;43m-\u001b[39;49m\u001b[43mlb\u001b[49m\u001b[43m)\u001b[49m\n\u001b[1;32m   1114\u001b[0m \u001b[38;5;66;03m# alias the coordinates to a grid property\u001b[39;00m\n\u001b[1;32m   1115\u001b[0m \u001b[38;5;28mself\u001b[39m\u001b[38;5;241m.\u001b[39m_coords[stagger][coord_dim] \u001b[38;5;241m=\u001b[39m gridCoordP\n",
      "File \u001b[0;32m/opt/conda/lib/python3.11/site-packages/esmpy/util/esmpyarray.py:38\u001b[0m, in \u001b[0;36mndarray_from_esmf\u001b[0;34m(data, dtype, shape)\u001b[0m\n\u001b[1;32m     33\u001b[0m \u001b[38;5;28;01melse\u001b[39;00m:\n\u001b[1;32m     34\u001b[0m     buffer \u001b[38;5;241m=\u001b[39m np\u001b[38;5;241m.\u001b[39mcore\u001b[38;5;241m.\u001b[39mmultiarray\u001b[38;5;241m.\u001b[39mint_asbuffer(\n\u001b[1;32m     35\u001b[0m         ct\u001b[38;5;241m.\u001b[39maddressof(data\u001b[38;5;241m.\u001b[39mcontents), size)\n\u001b[0;32m---> 38\u001b[0m esmfarray \u001b[38;5;241m=\u001b[39m \u001b[43mnp\u001b[49m\u001b[38;5;241;43m.\u001b[39;49m\u001b[43mndarray\u001b[49m\u001b[43m(\u001b[49m\u001b[38;5;28;43mtuple\u001b[39;49m\u001b[43m(\u001b[49m\u001b[43mshape\u001b[49m\u001b[43m[\u001b[49m\u001b[43m:\u001b[49m\u001b[43m]\u001b[49m\u001b[43m)\u001b[49m\u001b[43m,\u001b[49m\u001b[43m \u001b[49m\u001b[43mconstants\u001b[49m\u001b[38;5;241;43m.\u001b[39;49m\u001b[43m_ESMF2PythonType\u001b[49m\u001b[43m[\u001b[49m\u001b[43mdtype\u001b[49m\u001b[43m]\u001b[49m\u001b[43m,\u001b[49m\n\u001b[1;32m     39\u001b[0m \u001b[43m                       \u001b[49m\u001b[43mbuffer\u001b[49m\u001b[43m,\u001b[49m\u001b[43m \u001b[49m\u001b[43morder\u001b[49m\u001b[38;5;241;43m=\u001b[39;49m\u001b[38;5;124;43m\"\u001b[39;49m\u001b[38;5;124;43mF\u001b[39;49m\u001b[38;5;124;43m\"\u001b[39;49m\u001b[43m)\u001b[49m\n\u001b[1;32m     41\u001b[0m \u001b[38;5;28;01mreturn\u001b[39;00m esmfarray\n",
      "\u001b[0;31mTypeError\u001b[0m: buffer is too small for requested array"
     ]
    }
   ],
   "source": [
    "if __name__ == \"__main__\":\n",
    "    ds = regrid()"
   ]
  },
  {
   "cell_type": "code",
   "execution_count": null,
   "metadata": {},
   "outputs": [],
   "source": []
  }
 ],
 "metadata": {
  "kernelspec": {
   "display_name": "Python 3 (ipykernel)",
   "language": "python",
   "name": "python3"
  },
  "language_info": {
   "codemirror_mode": {
    "name": "ipython",
    "version": 3
   },
   "file_extension": ".py",
   "mimetype": "text/x-python",
   "name": "python",
   "nbconvert_exporter": "python",
   "pygments_lexer": "ipython3",
   "version": "3.11.9"
  }
 },
 "nbformat": 4,
 "nbformat_minor": 4
}
