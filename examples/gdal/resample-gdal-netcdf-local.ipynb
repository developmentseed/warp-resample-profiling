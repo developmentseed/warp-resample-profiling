{
 "cells": [
  {
   "cell_type": "markdown",
   "id": "0",
   "metadata": {},
   "source": [
    "## Resampling with GDAL's Python API (Local storage, NetCDF File, NetCDF4 driver)"
   ]
  },
  {
   "cell_type": "code",
   "execution_count": null,
   "id": "1",
   "metadata": {},
   "outputs": [],
   "source": [
    "import argparse\n",
    "import sys\n",
    "\n",
    "from osgeo import gdal\n",
    "from pyproj.crs import CRS"
   ]
  },
  {
   "cell_type": "code",
   "execution_count": null,
   "id": "2",
   "metadata": {
    "lines_to_next_cell": 1
   },
   "outputs": [],
   "source": [
    "sys.path.append(\"..\")\n",
    "gdal.UseExceptions()"
   ]
  },
  {
   "cell_type": "code",
   "execution_count": null,
   "id": "3",
   "metadata": {},
   "outputs": [],
   "source": [
    "def warp_resample(dataset):\n",
    "    from common import earthaccess_args\n",
    "    from common import target_extent as te\n",
    "\n",
    "    # Define filepath, driver, and variable information\n",
    "    args = earthaccess_args[dataset]\n",
    "    src = f'NETCDF:earthaccess_data/{args[\"filename\"]}:{args[\"variable\"]}'\n",
    "    # Set a memory file as the output format\n",
    "    output = \"\"\n",
    "    output_format = \"MEM\"\n",
    "    # Set web mercator as the output projection\n",
    "    dstSRS = \"EPSG:3857\"\n",
    "    # Define a geotransform for the output tile\n",
    "    width = height = 256\n",
    "    gt = [\n",
    "        te[0],\n",
    "        (te[2] - te[0]) / width,\n",
    "        0,\n",
    "        te[3],\n",
    "        0,\n",
    "        -(te[3] - te[1]) / height,\n",
    "    ]\n",
    "    output_crs = CRS(dstSRS).to_wkt()\n",
    "    # Create a GDAL dataset to store the output\n",
    "    output_ds = gdal.GetDriverByName(output_format).Create(\n",
    "        output, width, height, 1, gdal.GDT_Byte\n",
    "    )\n",
    "    output_ds.SetProjection(output_crs)\n",
    "    output_ds.SetGeoTransform(gt)\n",
    "    # Open the input dataset\n",
    "    input_ds = gdal.Open(src)\n",
    "    # Warp transform the input dataset\n",
    "    return gdal.Warp(output_ds, input_ds)"
   ]
  },
  {
   "cell_type": "code",
   "execution_count": null,
   "id": "4",
   "metadata": {},
   "outputs": [],
   "source": [
    "if __name__ == \"__main__\":\n",
    "    if \"get_ipython\" in dir():\n",
    "        # Just call warp_resample if running as a Jupyter Notebook\n",
    "        da = warp_resample(\"gpm_imerg\")\n",
    "    else:\n",
    "        # Configure dataset via argpase if running via CLI\n",
    "        parser = argparse.ArgumentParser(description=\"Set environment for the script.\")\n",
    "        parser.add_argument(\n",
    "            \"--dataset\",\n",
    "            default=\"mursst\",\n",
    "            help=\"Dataset to resample.\",\n",
    "            choices=[\"mursst\"],\n",
    "        )\n",
    "        user_args = parser.parse_args()\n",
    "        da = warp_resample(user_args.dataset)"
   ]
  }
 ],
 "metadata": {
  "jupytext": {
   "cell_metadata_filter": "-all",
   "main_language": "python",
   "notebook_metadata_filter": "-all"
  },
  "language_info": {
   "codemirror_mode": {
    "name": "ipython",
    "version": 3
   },
   "file_extension": ".py",
   "mimetype": "text/x-python",
   "name": "python",
   "nbconvert_exporter": "python",
   "pygments_lexer": "ipython3",
   "version": "3.11.10"
  }
 },
 "nbformat": 4,
 "nbformat_minor": 5
}
