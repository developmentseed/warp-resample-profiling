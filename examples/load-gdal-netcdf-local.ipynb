{
 "cells": [
  {
   "cell_type": "markdown",
   "id": "d4c760e3",
   "metadata": {},
   "source": [
    "## GDAL with NetCDF"
   ]
  },
  {
   "cell_type": "code",
   "execution_count": null,
   "id": "342d18f0",
   "metadata": {},
   "outputs": [],
   "source": [
    "import numpy as np\n",
    "from common import earthaccess_args\n",
    "from osgeo import gdal"
   ]
  },
  {
   "cell_type": "code",
   "execution_count": null,
   "id": "614c3e7c",
   "metadata": {},
   "outputs": [],
   "source": [
    "gdal.UseExceptions()"
   ]
  },
  {
   "cell_type": "code",
   "execution_count": null,
   "id": "ed81e292",
   "metadata": {},
   "outputs": [],
   "source": [
    "dataset = \"gpm_imerg\"\n",
    "filename = earthaccess_args[dataset][\"filename\"]\n",
    "variable = earthaccess_args[dataset][\"variable\"]\n",
    "scale = earthaccess_args[dataset][\"scale\"]"
   ]
  },
  {
   "cell_type": "code",
   "execution_count": null,
   "id": "7c09a96e",
   "metadata": {},
   "outputs": [],
   "source": [
    "def load_data():\n",
    "    src = f\"NETCDF:earthaccess_data/{filename}:{variable}\"\n",
    "    ds = gdal.Open(src)\n",
    "    band = ds.GetRasterBand(1)\n",
    "    arr = band.ReadAsArray().astype(\"float32\", casting=\"unsafe\")\n",
    "    mask = band.GetMaskBand().ReadAsArray()\n",
    "    ma = np.ma.masked_array(arr, np.logical_not(mask), fill_value=np.nan)\n",
    "    if scale:\n",
    "        np.multiply(ma, band.GetScale(), out=ma, casting=\"unsafe\")\n",
    "        np.add(ma, band.GetOffset(), out=ma, casting=\"unsafe\")\n",
    "    return ma.filled(fill_value=np.nan)"
   ]
  },
  {
   "cell_type": "code",
   "execution_count": null,
   "id": "26d29086",
   "metadata": {},
   "outputs": [],
   "source": [
    "if __name__ == \"__main__\":\n",
    "    arr = load_data()"
   ]
  },
  {
   "cell_type": "code",
   "execution_count": null,
   "id": "b04c8190-9519-4f40-8ab8-60d9890d0660",
   "metadata": {},
   "outputs": [],
   "source": []
  }
 ],
 "metadata": {
  "jupytext": {
   "cell_metadata_filter": "-all",
   "main_language": "python",
   "notebook_metadata_filter": "-all"
  },
  "kernelspec": {
   "display_name": "Python 3 (ipykernel)",
   "language": "python",
   "name": "python3"
  },
  "language_info": {
   "codemirror_mode": {
    "name": "ipython",
    "version": 3
   },
   "file_extension": ".py",
   "mimetype": "text/x-python",
   "name": "python",
   "nbconvert_exporter": "python",
   "pygments_lexer": "ipython3",
   "version": "3.11.9"
  }
 },
 "nbformat": 4,
 "nbformat_minor": 5
}
