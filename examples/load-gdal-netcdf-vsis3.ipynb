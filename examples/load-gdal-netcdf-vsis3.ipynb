{
 "cells": [
  {
   "cell_type": "markdown",
   "id": "0",
   "metadata": {},
   "source": [
    "## GDAL with NetCDF and earthaccess"
   ]
  },
  {
   "cell_type": "code",
   "execution_count": null,
   "id": "1",
   "metadata": {},
   "outputs": [],
   "source": [
    "import numpy as np\n",
    "from common import earthaccess_args\n",
    "from osgeo import gdal"
   ]
  },
  {
   "cell_type": "code",
   "execution_count": null,
   "id": "2",
   "metadata": {},
   "outputs": [],
   "source": [
    "gdal.UseExceptions()"
   ]
  },
  {
   "cell_type": "code",
   "execution_count": null,
   "id": "3",
   "metadata": {},
   "outputs": [],
   "source": [
    "dataset = \"gpm_imerg\"\n",
    "filename = earthaccess_args[dataset][\"filename\"]\n",
    "bucket = earthaccess_args[dataset][\"bucket\"]\n",
    "folder = earthaccess_args[dataset][\"folder\"]\n",
    "variable = earthaccess_args[dataset][\"variable\"]\n",
    "scale = earthaccess_args[dataset][\"scale\"]\n",
    "daac = earthaccess_args[dataset][\"daac\"]"
   ]
  },
  {
   "cell_type": "code",
   "execution_count": null,
   "id": "4",
   "metadata": {},
   "outputs": [],
   "source": [
    "def configure_auth():\n",
    "    import earthaccess\n",
    "\n",
    "    auth = earthaccess.login()\n",
    "    s3_credentials = auth.get_s3_credentials(daac)\n",
    "    gdal.SetConfigOption(\"AWS_REGION\", \"us-west-2\")\n",
    "    gdal.SetConfigOption(\"AWS_SECRET_ACCESS_KEY\", s3_credentials[\"secretAccessKey\"])\n",
    "    gdal.SetConfigOption(\"AWS_ACCESS_KEY_ID\", s3_credentials[\"accessKeyId\"])\n",
    "    gdal.SetConfigOption(\"AWS_SESSION_TOKEN\", s3_credentials[\"sessionToken\"])"
   ]
  },
  {
   "cell_type": "code",
   "execution_count": null,
   "id": "5",
   "metadata": {},
   "outputs": [],
   "source": [
    "def load_data():\n",
    "    src = f\"NETCDF:/vsis3/{bucket}/{folder}/{filename}:{variable}\"\n",
    "    ds = gdal.Open(src)\n",
    "    band = ds.GetRasterBand(1)\n",
    "    arr = band.ReadAsArray().astype(\"float32\", casting=\"unsafe\")\n",
    "    mask = band.GetMaskBand().ReadAsArray()\n",
    "    ma = np.ma.masked_array(arr, np.logical_not(mask), fill_value=np.nan)\n",
    "    if scale:\n",
    "        np.multiply(ma, band.GetScale(), out=ma, casting=\"unsafe\")\n",
    "        np.add(ma, band.GetOffset(), out=ma, casting=\"unsafe\")\n",
    "    return ma.filled(fill_value=np.nan)"
   ]
  },
  {
   "cell_type": "code",
   "execution_count": null,
   "id": "6",
   "metadata": {},
   "outputs": [],
   "source": [
    "if __name__ == \"__main__\":\n",
    "    configure_auth()\n",
    "    da = load_data()"
   ]
  }
 ],
 "metadata": {
  "jupytext": {
   "cell_metadata_filter": "-all",
   "main_language": "python",
   "notebook_metadata_filter": "-all"
  },
  "language_info": {
   "codemirror_mode": {
    "name": "ipython",
    "version": 3
   },
   "file_extension": ".py",
   "mimetype": "text/x-python",
   "name": "python",
   "nbconvert_exporter": "python",
   "pygments_lexer": "ipython3",
   "version": "3.11.9"
  }
 },
 "nbformat": 4,
 "nbformat_minor": 5
}
