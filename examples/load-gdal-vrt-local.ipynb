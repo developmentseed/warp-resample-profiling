{
 "cells": [
  {
   "cell_type": "markdown",
   "id": "0",
   "metadata": {},
   "source": [
    "## GDAL with HDF5 and VRT"
   ]
  },
  {
   "cell_type": "code",
   "execution_count": null,
   "id": "1",
   "metadata": {},
   "outputs": [],
   "source": [
    "import numpy as np\n",
    "from common import earthaccess_args\n",
    "from osgeo import gdal"
   ]
  },
  {
   "cell_type": "code",
   "execution_count": null,
   "id": "2",
   "metadata": {},
   "outputs": [],
   "source": [
    "gdal.UseExceptions()"
   ]
  },
  {
   "cell_type": "code",
   "execution_count": null,
   "id": "3",
   "metadata": {},
   "outputs": [],
   "source": [
    "dataset = \"gpm_imerg\"\n",
    "filename = earthaccess_args[dataset][\"filename\"]\n",
    "variable = earthaccess_args[dataset][\"variable\"]\n",
    "scale = earthaccess_args[dataset][\"scale\"]\n",
    "a_ullr = earthaccess_args[dataset][\"a_ullr\"]"
   ]
  },
  {
   "cell_type": "code",
   "execution_count": null,
   "id": "4",
   "metadata": {},
   "outputs": [],
   "source": [
    "def load_data():\n",
    "    src = f\"vrt://earthaccess_data/{filename}?a_ullr={a_ullr}&sd_name={variable}\"\n",
    "    ds = gdal.Open(src)\n",
    "    band = ds.GetRasterBand(1)\n",
    "    arr = band.ReadAsArray().astype(\"float32\", casting=\"unsafe\")\n",
    "    mask = band.GetMaskBand().ReadAsArray()\n",
    "    ma = np.ma.masked_array(arr, np.logical_not(mask), fill_value=np.nan)\n",
    "    if scale:\n",
    "        np.multiply(ma, band.GetScale(), out=ma, casting=\"unsafe\")\n",
    "        np.add(ma, band.GetOffset(), out=ma, casting=\"unsafe\")\n",
    "    return ma.filled(fill_value=np.nan)"
   ]
  },
  {
   "cell_type": "code",
   "execution_count": null,
   "id": "5",
   "metadata": {},
   "outputs": [],
   "source": [
    "if __name__ == \"__main__\":\n",
    "    da = load_data()"
   ]
  },
  {
   "cell_type": "code",
   "execution_count": null,
   "id": "6",
   "metadata": {},
   "outputs": [],
   "source": []
  },
  {
   "cell_type": "code",
   "execution_count": null,
   "id": "7",
   "metadata": {},
   "outputs": [],
   "source": []
  }
 ],
 "metadata": {
  "jupytext": {
   "cell_metadata_filter": "-all",
   "main_language": "python",
   "notebook_metadata_filter": "-all"
  },
  "language_info": {
   "codemirror_mode": {
    "name": "ipython",
    "version": 3
   },
   "file_extension": ".py",
   "mimetype": "text/x-python",
   "name": "python",
   "nbconvert_exporter": "python",
   "pygments_lexer": "ipython3",
   "version": "3.11.9"
  }
 },
 "nbformat": 4,
 "nbformat_minor": 5
}
