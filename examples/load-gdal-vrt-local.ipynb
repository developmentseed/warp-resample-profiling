{
 "cells": [
  {
   "cell_type": "markdown",
   "id": "d4c760e3",
   "metadata": {},
   "source": [
    "## GDAL with HDF5 and VRT"
   ]
  },
  {
   "cell_type": "code",
   "execution_count": 1,
   "id": "342d18f0",
   "metadata": {},
   "outputs": [],
   "source": [
    "import numpy as np\n",
    "from osgeo import gdal"
   ]
  },
  {
   "cell_type": "code",
   "execution_count": 2,
   "id": "614c3e7c",
   "metadata": {
    "lines_to_next_cell": 1
   },
   "outputs": [],
   "source": [
    "gdal.UseExceptions()"
   ]
  },
  {
   "cell_type": "code",
   "execution_count": 3,
   "id": "7c09a96e",
   "metadata": {},
   "outputs": [],
   "source": [
    "def load_data():\n",
    "    src = \"vrt://earthaccess_data/20020601090000-JPL-L4_GHRSST-SSTfnd-MUR-GLOB-v02.0-fv04.1.nc?a_ullr=-179.995,89.995,180.005,-89.995&sd_name=analysed_sst\"\n",
    "    ds = gdal.Open(src)\n",
    "    band = ds.GetRasterBand(1)\n",
    "    arr = band.ReadAsArray().astype(\"float32\", casting=\"unsafe\")\n",
    "    mask = band.GetMaskBand().ReadAsArray()\n",
    "    ma = np.ma.masked_array(arr, np.logical_not(mask), fill_value=np.nan)\n",
    "    np.multiply(ma, band.GetScale(), out=ma, casting=\"unsafe\")\n",
    "    np.add(ma, band.GetOffset(), out=ma, casting=\"unsafe\")\n",
    "    return ma.filled(fill_value=np.nan)"
   ]
  },
  {
   "cell_type": "code",
   "execution_count": 4,
   "id": "26d29086",
   "metadata": {},
   "outputs": [],
   "source": [
    "if __name__ == \"__main__\":\n",
    "    da = load_data()"
   ]
  },
  {
   "cell_type": "code",
   "execution_count": null,
   "id": "c9421fac",
   "metadata": {},
   "outputs": [],
   "source": []
  }
 ],
 "metadata": {
  "jupytext": {
   "cell_metadata_filter": "-all",
   "main_language": "python",
   "notebook_metadata_filter": "-all"
  },
  "kernelspec": {
   "display_name": "Python 3 (ipykernel)",
   "language": "python",
   "name": "python3"
  },
  "language_info": {
   "codemirror_mode": {
    "name": "ipython",
    "version": 3
   },
   "file_extension": ".py",
   "mimetype": "text/x-python",
   "name": "python",
   "nbconvert_exporter": "python",
   "pygments_lexer": "ipython3",
   "version": "3.11.9"
  }
 },
 "nbformat": 4,
 "nbformat_minor": 5
}
