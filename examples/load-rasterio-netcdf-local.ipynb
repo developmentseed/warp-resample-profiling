{
 "cells": [
  {
   "cell_type": "markdown",
   "metadata": {},
   "source": [
    "## Rasterio with NetCDF, VSIS3, and earthaccess"
   ]
  },
  {
   "cell_type": "code",
   "execution_count": null,
   "metadata": {},
   "outputs": [],
   "source": [
    "import numpy as np\n",
    "import rasterio\n",
    "from common import earthaccess_args"
   ]
  },
  {
   "cell_type": "code",
   "execution_count": null,
   "metadata": {},
   "outputs": [],
   "source": [
    "dataset = \"gpm_imerg\"\n",
    "filename = earthaccess_args[dataset][\"filename\"]\n",
    "bucket = earthaccess_args[dataset][\"bucket\"]\n",
    "folder = earthaccess_args[dataset][\"folder\"]\n",
    "variable = earthaccess_args[dataset][\"variable\"]\n",
    "scale = earthaccess_args[dataset][\"scale\"]\n",
    "daac = earthaccess_args[dataset][\"daac\"]"
   ]
  },
  {
   "cell_type": "code",
   "execution_count": null,
   "metadata": {},
   "outputs": [],
   "source": [
    "def open_data():\n",
    "    src = f\"NETCDF:earthaccess_data/{filename}:{variable}\"\n",
    "    with rasterio.open(src) as src_da:\n",
    "        ma = src_da.read(1, masked=True)\n",
    "        ma = ma.astype(\"float32\", casting=\"unsafe\")\n",
    "        if scale:\n",
    "            np.multiply(ma, src_da.scales[0], out=ma, casting=\"unsafe\")\n",
    "            np.add(ma, src_da.offsets[0], out=ma, casting=\"unsafe\")\n",
    "    return ma.filled(fill_value=np.nan)"
   ]
  },
  {
   "cell_type": "code",
   "execution_count": null,
   "metadata": {
    "lines_to_next_cell": 2
   },
   "outputs": [],
   "source": [
    "if __name__ == \"__main__\":\n",
    "    da = open_data()"
   ]
  },
  {
   "cell_type": "code",
   "execution_count": null,
   "metadata": {},
   "outputs": [],
   "source": []
  }
 ],
 "metadata": {
  "kernelspec": {
   "display_name": "Python 3 (ipykernel)",
   "language": "python",
   "name": "python3"
  },
  "language_info": {
   "codemirror_mode": {
    "name": "ipython",
    "version": 3
   },
   "file_extension": ".py",
   "mimetype": "text/x-python",
   "name": "python",
   "nbconvert_exporter": "python",
   "pygments_lexer": "ipython3",
   "version": "3.11.9"
  }
 },
 "nbformat": 4,
 "nbformat_minor": 4
}
