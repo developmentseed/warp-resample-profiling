{
 "cells": [
  {
   "cell_type": "markdown",
   "metadata": {},
   "source": [
    "## Resampling with ODC-geo (local storage, NetCDF File, H5NetCDF driver)"
   ]
  },
  {
   "cell_type": "code",
   "execution_count": null,
   "metadata": {},
   "outputs": [],
   "source": [
    "import argparse\n",
    "import sys\n",
    "\n",
    "import fsspec\n",
    "import xarray as xr\n",
    "from odc.geo.geobox import GeoBox\n",
    "from odc.geo.xr import xr_reproject"
   ]
  },
  {
   "cell_type": "code",
   "execution_count": null,
   "metadata": {},
   "outputs": [],
   "source": [
    "sys.path.append(\"..\")"
   ]
  },
  {
   "cell_type": "code",
   "execution_count": null,
   "metadata": {},
   "outputs": [],
   "source": [
    "def warp_resample(dataset):\n",
    "    from common import earthaccess_args\n",
    "    from common import target_extent as te\n",
    "\n",
    "    # Define filepath, driver, and variable information\n",
    "    args = earthaccess_args[dataset]\n",
    "    src = f'../earthaccess_data/{args[\"filename\"]}'\n",
    "    # Define source and target projection\n",
    "    dstSRS = \"EPSG:3857\"\n",
    "    srcSRS = \"EPSG:4326\"\n",
    "    width = height = 256\n",
    "    # Specify fsspec caching since default options don't work well for raster data\n",
    "    fsspec_caching = {\n",
    "        \"cache_type\": \"none\",\n",
    "    }\n",
    "    fs = fsspec.filesystem(\"file\")\n",
    "    with fs.open(src, **fsspec_caching) as f:\n",
    "        # Define ODC geobox for target tile\n",
    "        gbox = GeoBox.from_bbox(te, dstSRS, shape=(height, width))\n",
    "        # Open dataset\n",
    "        da = xr.open_dataset(f, engine=\"h5netcdf\")[args[\"variable\"]]\n",
    "        if dataset == \"gpm_imerg\":\n",
    "            # Transpose and rename dataset dims to align with GDAL expectations\n",
    "            da = (\n",
    "                da.rename({\"lon\": \"x\", \"lat\": \"y\"})\n",
    "                .transpose(\"time\", \"y\", \"x\")\n",
    "                .squeeze()\n",
    "            )\n",
    "        # Assign input projection\n",
    "        da = da.odc.assign_crs(srcSRS)\n",
    "        # Reproject dataset\n",
    "        return xr_reproject(da, gbox)"
   ]
  },
  {
   "cell_type": "code",
   "execution_count": null,
   "metadata": {},
   "outputs": [],
   "source": [
    "if __name__ == \"__main__\":\n",
    "    if \"get_ipython\" in dir():\n",
    "        # Just call warp_resample if running as a Jupyter Notebook\n",
    "        da = warp_resample(\"gpm_imerg\")\n",
    "    else:\n",
    "        # Configure dataset via argpase if running via CLI\n",
    "        parser = argparse.ArgumentParser(description=\"Set environment for the script.\")\n",
    "        parser.add_argument(\n",
    "            \"--dataset\",\n",
    "            default=\"mursst\",\n",
    "            help=\"Dataset to resample.\",\n",
    "            choices=[\"gpm_imerg\", \"mursst\"],\n",
    "        )\n",
    "        user_args = parser.parse_args()\n",
    "        da = warp_resample(user_args.dataset)"
   ]
  }
 ],
 "metadata": {
  "jupytext": {
   "main_language": "python"
  },
  "language_info": {
   "codemirror_mode": {
    "name": "ipython",
    "version": 3
   },
   "file_extension": ".py",
   "mimetype": "text/x-python",
   "name": "python",
   "nbconvert_exporter": "python",
   "pygments_lexer": "ipython3",
   "version": "3.11.9"
  }
 },
 "nbformat": 4,
 "nbformat_minor": 4
}
