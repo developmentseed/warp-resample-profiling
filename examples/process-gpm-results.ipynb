{
 "cells": [
  {
   "cell_type": "markdown",
   "metadata": {},
   "source": [
    "## Process results for GPM IMERG"
   ]
  },
  {
   "cell_type": "code",
   "execution_count": null,
   "metadata": {},
   "outputs": [],
   "source": [
    "import hvplot.pandas  # noqa\n",
    "from utils import process_results"
   ]
  },
  {
   "cell_type": "code",
   "execution_count": null,
   "metadata": {},
   "outputs": [],
   "source": [
    "df = process_results(\"results/2024-10-25\").sort_values([\"duration (s)\"])"
   ]
  },
  {
   "cell_type": "markdown",
   "metadata": {},
   "source": [
    "## Show memory and time for warp resampling dataset"
   ]
  },
  {
   "cell_type": "code",
   "execution_count": null,
   "metadata": {},
   "outputs": [],
   "source": [
    "df = df[df[\"task\"] == \"resample\"]\n",
    "df = df[df[\"virtual\"] != \"local\"]\n",
    "df = df[df[\"dataset\"] == \"gpm_imerg\"]\n",
    "df[df[\"zoom\"] == \"0\"].style.background_gradient(cmap=\"YlOrRd\")"
   ]
  },
  {
   "cell_type": "code",
   "execution_count": null,
   "metadata": {},
   "outputs": [],
   "source": [
    "df = df[df[\"task\"] == \"resample\"]\n",
    "df = df[df[\"virtual\"] != \"local\"]\n",
    "df = df[df[\"dataset\"] == \"gpm_imerg\"]\n",
    "df[df[\"zoom\"] == \"1\"].style.background_gradient(cmap=\"YlOrRd\")"
   ]
  },
  {
   "cell_type": "code",
   "execution_count": null,
   "metadata": {},
   "outputs": [],
   "source": [
    "df = df[df[\"task\"] == \"resample\"]\n",
    "df = df[df[\"virtual\"] != \"local\"]\n",
    "df = df[df[\"dataset\"] == \"gpm_imerg\"]\n",
    "df[df[\"zoom\"] == \"2\"].style.background_gradient(cmap=\"YlOrRd\")"
   ]
  },
  {
   "cell_type": "code",
   "execution_count": null,
   "metadata": {},
   "outputs": [],
   "source": []
  }
 ],
 "metadata": {
  "language_info": {
   "codemirror_mode": {
    "name": "ipython",
    "version": 3
   },
   "file_extension": ".py",
   "mimetype": "text/x-python",
   "name": "python",
   "nbconvert_exporter": "python",
   "pygments_lexer": "ipython3",
   "version": "3.11.10"
  }
 },
 "nbformat": 4,
 "nbformat_minor": 4
}
