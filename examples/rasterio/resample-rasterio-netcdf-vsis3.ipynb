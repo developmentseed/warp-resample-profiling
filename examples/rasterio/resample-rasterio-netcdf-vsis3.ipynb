{
 "cells": [
  {
   "cell_type": "markdown",
   "metadata": {},
   "source": [
    "## Resampling with rasterio (S3 storage, NetCDF File, NetCDF4 driver, VSIS3 virtualization, earthaccess auth)"
   ]
  },
  {
   "cell_type": "code",
   "execution_count": null,
   "metadata": {},
   "outputs": [],
   "source": [
    "import argparse\n",
    "import sys\n",
    "\n",
    "import numpy as np\n",
    "import rasterio\n",
    "import rasterio as rio\n",
    "from rasterio.session import AWSSession\n",
    "from rasterio.warp import calculate_default_transform, reproject"
   ]
  },
  {
   "cell_type": "code",
   "execution_count": null,
   "metadata": {},
   "outputs": [],
   "source": [
    "sys.path.append(\"..\")"
   ]
  },
  {
   "cell_type": "code",
   "execution_count": null,
   "metadata": {},
   "outputs": [],
   "source": [
    "def configure_auth(daac):\n",
    "    \"\"\"Authenticate using earthaccess\"\"\"\n",
    "    import boto3\n",
    "    import earthaccess\n",
    "\n",
    "    auth = earthaccess.login()\n",
    "    s3_credentials = auth.get_s3_credentials(daac)\n",
    "    session = boto3.Session(\n",
    "        aws_access_key_id=s3_credentials[\"accessKeyId\"],\n",
    "        aws_secret_access_key=s3_credentials[\"secretAccessKey\"],\n",
    "        aws_session_token=s3_credentials[\"sessionToken\"],\n",
    "        region_name=\"us-west-2\",\n",
    "    )\n",
    "    rio_env = rio.Env(\n",
    "        AWSSession(session),\n",
    "    )\n",
    "    rio_env.__enter__()\n",
    "    return rio_env"
   ]
  },
  {
   "cell_type": "code",
   "execution_count": null,
   "metadata": {},
   "outputs": [],
   "source": [
    "def warp_resample(dataset):\n",
    "    from common import earthaccess_args\n",
    "\n",
    "    # Define filepath, driver, and variable information\n",
    "    args = earthaccess_args[dataset]\n",
    "    src = f'NETCDF:/vsis3/{args[\"bucket\"]}/{args[\"folder\"]}/{args[\"filename\"]}:{args[\"variable\"]}'\n",
    "    # Authenticate with earthaccess\n",
    "    with configure_auth(args[\"daac\"]):\n",
    "        # Define source and target projection\n",
    "        dstSRS = \"EPSG:3857\"\n",
    "        srcSRS = \"EPSG:4326\"\n",
    "        width = height = 256\n",
    "        with rasterio.open(src) as da:\n",
    "            # Define affine transformation from input to output dataset\n",
    "            dst_transform, w, h = calculate_default_transform(\n",
    "                srcSRS,\n",
    "                dstSRS,\n",
    "                da.width,\n",
    "                da.height,\n",
    "                *da.bounds,\n",
    "                dst_width=width,\n",
    "                dst_height=height,\n",
    "            )\n",
    "            # Create array to host results\n",
    "            destination = np.zeros((width, height), np.uint8)\n",
    "            # Reproject dataset\n",
    "            return reproject(\n",
    "                rasterio.band(da, 1),\n",
    "                destination,\n",
    "                dst_crs=dstSRS,\n",
    "                dst_transform=dst_transform,\n",
    "            )"
   ]
  },
  {
   "cell_type": "code",
   "execution_count": null,
   "metadata": {},
   "outputs": [],
   "source": [
    "if __name__ == \"__main__\":\n",
    "    if \"get_ipython\" in dir():\n",
    "        # Just call warp_resample if running as a Jupyter Notebook\n",
    "        da = warp_resample(\"mursst\")\n",
    "    else:\n",
    "        # Configure dataset via argpase if running via CLI\n",
    "        parser = argparse.ArgumentParser(description=\"Set environment for the script.\")\n",
    "        parser.add_argument(\n",
    "            \"--dataset\",\n",
    "            default=\"mursst\",\n",
    "            help=\"Dataset to resample.\",\n",
    "            choices=[\"gpm_imerg\", \"mursst\"],\n",
    "        )\n",
    "        user_args = parser.parse_args()\n",
    "        da = warp_resample(user_args.dataset)"
   ]
  },
  {
   "cell_type": "code",
   "execution_count": null,
   "metadata": {},
   "outputs": [],
   "source": []
  }
 ],
 "metadata": {
  "language_info": {
   "codemirror_mode": {
    "name": "ipython",
    "version": 3
   },
   "file_extension": ".py",
   "mimetype": "text/x-python",
   "name": "python",
   "nbconvert_exporter": "python",
   "pygments_lexer": "ipython3",
   "version": "3.11.10"
  }
 },
 "nbformat": 4,
 "nbformat_minor": 4
}
