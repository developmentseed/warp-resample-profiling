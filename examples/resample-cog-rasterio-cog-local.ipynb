{
 "cells": [
  {
   "cell_type": "markdown",
   "metadata": {},
   "source": [
    "## Resampling with rasterio (Local storage, COG file, COG driver)"
   ]
  },
  {
   "cell_type": "code",
   "execution_count": null,
   "metadata": {},
   "outputs": [],
   "source": [
    "import argparse\n",
    "\n",
    "import numpy as np\n",
    "import rasterio\n",
    "from rasterio.vrt import WarpedVRT"
   ]
  },
  {
   "cell_type": "code",
   "execution_count": null,
   "metadata": {},
   "outputs": [],
   "source": [
    "def warp_resample(dataset, zoom=0):\n",
    "    from common import target_extent\n",
    "\n",
    "    te = target_extent[zoom]\n",
    "\n",
    "    # Define source and target projection\n",
    "    srcSRS = \"EPSG:4326\"\n",
    "    dstSRS = \"EPSG:3857\"\n",
    "    width = height = 256\n",
    "\n",
    "    src = f\"earthaccess_data/{dataset}.tif\"\n",
    "\n",
    "    with rasterio.open(src) as da:\n",
    "        with WarpedVRT(da, src_crs=srcSRS, crs=dstSRS) as vrt:\n",
    "\n",
    "            dst_window = vrt.window(*te)\n",
    "\n",
    "            data = vrt.read(window=dst_window, out_shape=(height, width), masked=True)\n",
    "            # Mask and fill array\n",
    "            data = data.astype(\"float32\", casting=\"unsafe\")\n",
    "            np.multiply(data, da.scales[0], out=data, casting=\"unsafe\")\n",
    "            np.add(data, da.offsets[0], out=data, casting=\"unsafe\")\n",
    "            return data"
   ]
  },
  {
   "cell_type": "code",
   "execution_count": null,
   "metadata": {},
   "outputs": [],
   "source": [
    "%%time\n",
    "if __name__ == \"__main__\":\n",
    "    if \"get_ipython\" in dir():\n",
    "        # Just call warp_resample if running as a Jupyter Notebook\n",
    "        da = warp_resample(\"mursst\")\n",
    "    else:\n",
    "        # Configure dataset via argpase if running via CLI\n",
    "        parser = argparse.ArgumentParser(description=\"Set environment for the script.\")\n",
    "        parser.add_argument(\n",
    "            \"--dataset\",\n",
    "            default=\"mursst\",\n",
    "            help=\"Dataset to resample.\",\n",
    "            choices=[\"mursst\"],\n",
    "        )\n",
    "        parser.add_argument(\n",
    "            \"--zoom\",\n",
    "            default=0,\n",
    "            help=\"Zoom level for tile extent.\",\n",
    "        )\n",
    "        user_args = parser.parse_args()\n",
    "        da = warp_resample(user_args.dataset, int(user_args.zoom))"
   ]
  },
  {
   "cell_type": "code",
   "execution_count": null,
   "metadata": {},
   "outputs": [],
   "source": []
  }
 ],
 "metadata": {
  "language_info": {
   "codemirror_mode": {
    "name": "ipython",
    "version": 3
   },
   "file_extension": ".py",
   "mimetype": "text/x-python",
   "name": "python",
   "nbconvert_exporter": "python",
   "pygments_lexer": "ipython3",
   "version": "3.11.10"
  }
 },
 "nbformat": 4,
 "nbformat_minor": 4
}
