{
 "cells": [
  {
   "cell_type": "markdown",
   "id": "36fd4fa4",
   "metadata": {},
   "source": [
    "## GDAL with NetCDF, VSIS3, and earthaccess"
   ]
  },
  {
   "cell_type": "code",
   "execution_count": 1,
   "id": "342d18f0",
   "metadata": {},
   "outputs": [],
   "source": [
    "from osgeo import gdal\n",
    "from pyproj.crs import CRS"
   ]
  },
  {
   "cell_type": "code",
   "execution_count": 2,
   "id": "614c3e7c",
   "metadata": {
    "lines_to_next_cell": 1
   },
   "outputs": [],
   "source": [
    "gdal.UseExceptions()"
   ]
  },
  {
   "cell_type": "code",
   "execution_count": 3,
   "id": "64273b91",
   "metadata": {},
   "outputs": [],
   "source": [
    "def configure_auth():\n",
    "    import earthaccess\n",
    "\n",
    "    auth = earthaccess.login()\n",
    "    s3_credentials = auth.get_s3_credentials(\"PODAAC\")\n",
    "    gdal.SetConfigOption(\"AWS_REGION\", \"us-west-2\")\n",
    "    gdal.SetConfigOption(\"AWS_SECRET_ACCESS_KEY\", s3_credentials[\"secretAccessKey\"])\n",
    "    gdal.SetConfigOption(\"AWS_ACCESS_KEY_ID\", s3_credentials[\"accessKeyId\"])\n",
    "    gdal.SetConfigOption(\"AWS_SESSION_TOKEN\", s3_credentials[\"sessionToken\"])"
   ]
  },
  {
   "cell_type": "code",
   "execution_count": null,
   "id": "7c09a96e",
   "metadata": {},
   "outputs": [],
   "source": [
    "def warp_resample():\n",
    "    bucket = \"podaac-ops-cumulus-protected\"\n",
    "    input_uri = \"MUR-JPL-L4-GLOB-v4.1/20020601090000-JPL-L4_GHRSST-SSTfnd-MUR-GLOB-v02.0-fv04.1.nc\"\n",
    "    src = f\"NETCDF:/vsis3/{bucket}/{input_uri}:analysed_sst\"\n",
    "    output = \"\"\n",
    "    output_format = \"MEM\"\n",
    "    dstSRS = \"EPSG:3857\"\n",
    "\n",
    "    width = height = 256\n",
    "    te = [\n",
    "        -20037508.342789244,\n",
    "        -20037508.342789244,\n",
    "        20037508.342789244,\n",
    "        20037508.342789244,\n",
    "    ]\n",
    "    gt = [\n",
    "        te[0],\n",
    "        (te[2] - te[0]) / width,\n",
    "        0,\n",
    "        te[3],\n",
    "        0,\n",
    "        -(te[3] - te[1]) / height,\n",
    "    ]\n",
    "    output_crs = CRS(dstSRS).to_wkt()\n",
    "\n",
    "    output_ds = gdal.GetDriverByName(output_format).Create(\n",
    "        output, width, height, 1, gdal.GDT_Byte\n",
    "    )\n",
    "    output_ds.SetProjection(output_crs)\n",
    "    output_ds.SetGeoTransform(gt)\n",
    "    input_ds = gdal.Open(src)\n",
    "    return gdal.Warp(output_ds, input_ds)"
   ]
  },
  {
   "cell_type": "code",
   "execution_count": null,
   "id": "26d29086",
   "metadata": {},
   "outputs": [],
   "source": [
    "if __name__ == \"__main__\":\n",
    "    configure_auth()\n",
    "    warp_resample()"
   ]
  }
 ],
 "metadata": {
  "jupytext": {
   "cell_metadata_filter": "-all",
   "main_language": "python",
   "notebook_metadata_filter": "-all"
  },
  "kernelspec": {
   "display_name": "Python 3 (ipykernel)",
   "language": "python",
   "name": "python3"
  },
  "language_info": {
   "codemirror_mode": {
    "name": "ipython",
    "version": 3
   },
   "file_extension": ".py",
   "mimetype": "text/x-python",
   "name": "python",
   "nbconvert_exporter": "python",
   "pygments_lexer": "ipython3",
   "version": "3.11.9"
  }
 },
 "nbformat": 4,
 "nbformat_minor": 5
}
