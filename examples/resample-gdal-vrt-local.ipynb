{
 "cells": [
  {
   "cell_type": "markdown",
   "id": "7f8e31fb",
   "metadata": {},
   "source": [
    "## GDAL with HDF5 and VRT"
   ]
  },
  {
   "cell_type": "code",
   "execution_count": null,
   "id": "342d18f0",
   "metadata": {},
   "outputs": [],
   "source": [
    "from common import earthaccess_args\n",
    "from osgeo import gdal\n",
    "from pyproj.crs import CRS"
   ]
  },
  {
   "cell_type": "code",
   "execution_count": null,
   "id": "614c3e7c",
   "metadata": {
    "lines_to_next_cell": 1
   },
   "outputs": [],
   "source": [
    "gdal.UseExceptions()"
   ]
  },
  {
   "cell_type": "code",
   "execution_count": null,
   "id": "dd0226d2",
   "metadata": {},
   "outputs": [],
   "source": [
    "dataset = \"gpm_imerg\"\n",
    "filename = earthaccess_args[dataset][\"filename\"]\n",
    "variable = earthaccess_args[dataset][\"variable\"]\n",
    "a_ullr = earthaccess_args[dataset][\"a_ullr\"]"
   ]
  },
  {
   "cell_type": "code",
   "execution_count": null,
   "id": "7c09a96e",
   "metadata": {},
   "outputs": [],
   "source": [
    "def warp_resample():\n",
    "    src = f\"vrt://earthaccess_data/{filename}?a_ullr={a_ullr}&sd_name={variable}\"\n",
    "    output = \"\"\n",
    "    output_format = \"MEM\"\n",
    "    dstSRS = \"EPSG:3857\"\n",
    "\n",
    "    width = height = 256\n",
    "    te = [\n",
    "        -20037508.342789244,\n",
    "        -20037508.342789244,\n",
    "        20037508.342789244,\n",
    "        20037508.342789244,\n",
    "    ]\n",
    "    gt = [\n",
    "        te[0],\n",
    "        (te[2] - te[0]) / width,\n",
    "        0,\n",
    "        te[3],\n",
    "        0,\n",
    "        -(te[3] - te[1]) / height,\n",
    "    ]\n",
    "    output_crs = CRS(dstSRS).to_wkt()\n",
    "\n",
    "    output_ds = gdal.GetDriverByName(output_format).Create(\n",
    "        output, width, height, 1, gdal.GDT_Byte\n",
    "    )\n",
    "    output_ds.SetProjection(output_crs)\n",
    "    output_ds.SetGeoTransform(gt)\n",
    "    input_ds = gdal.Open(src)\n",
    "    return gdal.Warp(output_ds, input_ds)"
   ]
  },
  {
   "cell_type": "code",
   "execution_count": null,
   "id": "26d29086",
   "metadata": {},
   "outputs": [],
   "source": [
    "if __name__ == \"__main__\":\n",
    "    arr = warp_resample()"
   ]
  },
  {
   "cell_type": "code",
   "execution_count": null,
   "id": "fc56f12d",
   "metadata": {},
   "outputs": [],
   "source": []
  }
 ],
 "metadata": {
  "jupytext": {
   "cell_metadata_filter": "-all",
   "main_language": "python",
   "notebook_metadata_filter": "-all"
  },
  "kernelspec": {
   "display_name": "Python 3 (ipykernel)",
   "language": "python",
   "name": "python3"
  },
  "language_info": {
   "codemirror_mode": {
    "name": "ipython",
    "version": 3
   },
   "file_extension": ".py",
   "mimetype": "text/x-python",
   "name": "python",
   "nbconvert_exporter": "python",
   "pygments_lexer": "ipython3",
   "version": "3.11.9"
  }
 },
 "nbformat": 4,
 "nbformat_minor": 5
}
