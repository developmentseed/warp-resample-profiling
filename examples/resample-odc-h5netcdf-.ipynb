{
 "cells": [
  {
   "cell_type": "markdown",
   "metadata": {},
   "source": [
    "## ODC-geo with H5NetCDF and earthaccess\n"
   ]
  },
  {
   "cell_type": "code",
   "execution_count": 1,
   "metadata": {},
   "outputs": [],
   "source": [
    "import earthaccess\n",
    "import xarray as xr\n",
    "from common import earthaccess_args\n",
    "from odc.geo.geobox import GeoBox\n",
    "from odc.geo.xr import xr_reproject"
   ]
  },
  {
   "cell_type": "code",
   "execution_count": null,
   "metadata": {},
   "outputs": [],
   "source": [
    "dataset = \"gpm_imerg\"\n",
    "filename = earthaccess_args[dataset][\"filename\"]\n",
    "bucket = earthaccess_args[dataset][\"bucket\"]\n",
    "folder = earthaccess_args[dataset][\"folder\"]\n",
    "variable = earthaccess_args[dataset][\"variable\"]"
   ]
  },
  {
   "cell_type": "code",
   "execution_count": 2,
   "metadata": {},
   "outputs": [],
   "source": [
    "def warp_resample():\n",
    "    input_uri = f\"{folder}/{filename}\"\n",
    "    src = f\"s3://{bucket}/{input_uri}\"\n",
    "    dstSRS = \"EPSG:3857\"\n",
    "    srcSRS = \"EPSG:4326\"\n",
    "    width = height = 256\n",
    "    te = [\n",
    "        -20037508.342789244,\n",
    "        -20037508.342789244,\n",
    "        20037508.342789244,\n",
    "        20037508.342789244,\n",
    "    ]\n",
    "    earthaccess.login()\n",
    "    fs = earthaccess.get_s3fs_session(daac=\"PODAAC\")\n",
    "    fsspec_caching = {\n",
    "        \"cache_type\": \"none\",\n",
    "    }\n",
    "    gbox = GeoBox.from_bbox(te, dstSRS, shape=(height, width))\n",
    "    f = fs.open(src, **fsspec_caching)\n",
    "    da = xr.open_dataset(f, engine=\"h5netcdf\", chunks={})[variable]\n",
    "    da = da.odc.assign_crs(srcSRS)\n",
    "    return xr_reproject(da, gbox)"
   ]
  },
  {
   "cell_type": "code",
   "execution_count": null,
   "metadata": {},
   "outputs": [],
   "source": [
    "if __name__ == \"__main__\":\n",
    "    da = warp_resample()"
   ]
  }
 ],
 "metadata": {
  "kernelspec": {
   "display_name": "Python 3 (ipykernel)",
   "language": "python",
   "name": "python3"
  },
  "language_info": {
   "codemirror_mode": {
    "name": "ipython",
    "version": 3
   },
   "file_extension": ".py",
   "mimetype": "text/x-python",
   "name": "python",
   "nbconvert_exporter": "python",
   "pygments_lexer": "ipython3",
   "version": "3.11.9"
  }
 },
 "nbformat": 4,
 "nbformat_minor": 4
}
