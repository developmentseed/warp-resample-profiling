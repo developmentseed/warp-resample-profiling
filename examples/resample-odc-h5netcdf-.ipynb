{
 "cells": [
  {
   "cell_type": "code",
   "execution_count": 1,
   "metadata": {},
   "outputs": [],
   "source": [
    "import fsspec\n",
    "import xarray as xr\n",
    "from odc.geo.geobox import GeoBox\n",
    "from odc.geo.xr import xr_reproject"
   ]
  },
  {
   "cell_type": "code",
   "execution_count": 2,
   "metadata": {},
   "outputs": [],
   "source": [
    "def warp_resample():\n",
    "    bucket = \"podaac-ops-cumulus-protected\"\n",
    "    input_uri = \"MUR-JPL-L4-GLOB-v4.1/20020601090000-JPL-L4_GHRSST-SSTfnd-MUR-GLOB-v02.0-fv04.1.nc\"\n",
    "    variable = \"analysed_sst\"\n",
    "    src = f\"s3://{bucket}/{input_uri}\"\n",
    "    dstSRS = \"EPSG:3857\"\n",
    "    srcSRS = \"EPSG:4326\"\n",
    "    width = height = 256\n",
    "    te = [\n",
    "        -20037508.342789244,\n",
    "        -20037508.342789244,\n",
    "        20037508.342789244,\n",
    "        20037508.342789244,\n",
    "    ]\n",
    "    fs = fsspec.filesystem(\"s3\")\n",
    "    fsspec_caching = {\n",
    "        \"cache_type\": \"none\",\n",
    "    }\n",
    "    gbox = GeoBox.from_bbox(te, dstSRS, shape=(height, width))\n",
    "    f = fs.open(src, **fsspec_caching)\n",
    "    da = xr.open_dataset(f, engine=\"h5netcdf\")[variable]\n",
    "    da = da.odc.assign_crs(srcSRS)\n",
    "    return xr_reproject(da, gbox)"
   ]
  },
  {
   "cell_type": "code",
   "execution_count": null,
   "metadata": {},
   "outputs": [],
   "source": [
    "if __name__ == \"__main__\":\n",
    "    da = warp_resample()"
   ]
  }
 ],
 "metadata": {
  "kernelspec": {
   "display_name": "Python 3 (ipykernel)",
   "language": "python",
   "name": "python3"
  },
  "language_info": {
   "codemirror_mode": {
    "name": "ipython",
    "version": 3
   },
   "file_extension": ".py",
   "mimetype": "text/x-python",
   "name": "python",
   "nbconvert_exporter": "python",
   "pygments_lexer": "ipython3",
   "version": "3.11.9"
  }
 },
 "nbformat": 4,
 "nbformat_minor": 4
}
