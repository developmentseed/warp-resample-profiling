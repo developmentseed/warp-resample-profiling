{
 "cells": [
  {
   "cell_type": "markdown",
   "metadata": {},
   "source": [
    "## Resampling with ODC-geo (S3 storage, NetCDF file, Zarr reader, icechunk virtualization)"
   ]
  },
  {
   "cell_type": "code",
   "execution_count": null,
   "metadata": {},
   "outputs": [],
   "source": [
    "import argparse\n",
    "\n",
    "import xarray as xr\n",
    "from icechunk import IcechunkStore, StorageConfig\n",
    "from odc.geo.geobox import GeoBox\n",
    "from odc.geo.geom import Geometry\n",
    "from odc.geo.xr import crop, xr_reproject\n",
    "from shapely.geometry import box"
   ]
  },
  {
   "cell_type": "code",
   "execution_count": null,
   "metadata": {},
   "outputs": [],
   "source": [
    "def warp_resample(dataset):\n",
    "    from common import earthaccess_args\n",
    "    from common import target_extent as te\n",
    "\n",
    "    # Define filepath, driver, and variable information\n",
    "    args = earthaccess_args[dataset]\n",
    "    # Open dataset\n",
    "    storage = StorageConfig.s3_from_env(\n",
    "        bucket=\"nasa-veda-scratch\",\n",
    "        prefix=f\"resampling/icechunk/{dataset}-reference\",\n",
    "        region=\"us-west-2\",\n",
    "    )\n",
    "    store = IcechunkStore.open_existing(storage=storage, mode=\"r\")\n",
    "    da = xr.open_zarr(store, zarr_version=3, consolidated=False)[args[\"variable\"]]\n",
    "    # Define source and target projection\n",
    "    dstSRS = \"EPSG:3857\"\n",
    "    srcSRS = \"EPSG:4326\"\n",
    "    width = height = 256\n",
    "    # Define ODC geobox for target tile\n",
    "    gbox = GeoBox.from_bbox(te, dstSRS, shape=(height, width))\n",
    "    if dataset == \"gpm_imerg\":\n",
    "        # Transpose and rename dataset dims to align with GDAL expectations\n",
    "        da = da.rename({\"lon\": \"x\", \"lat\": \"y\"}).transpose(\"time\", \"y\", \"x\").squeeze()\n",
    "    # Assign input projection\n",
    "    da = da.odc.assign_crs(srcSRS)\n",
    "    # Crop dataset to tile bounds\n",
    "    bbox = box(*te)\n",
    "    geom = Geometry(bbox, \"EPSG:3857\")\n",
    "    da = crop(da, geom)\n",
    "    if dataset == \"gpm_imerg\":\n",
    "        # Load into memory to avoid topology error\n",
    "        da.load()\n",
    "    # Reproject dataset\n",
    "    return xr_reproject(da, gbox, tight=True).load()"
   ]
  },
  {
   "cell_type": "code",
   "execution_count": null,
   "metadata": {},
   "outputs": [],
   "source": [
    "if __name__ == \"__main__\":\n",
    "    if \"get_ipython\" in dir():\n",
    "        # Just call warp_resample if running as a Jupyter Notebook\n",
    "        da = warp_resample(\"mursst\")\n",
    "    else:\n",
    "        # Configure dataset via argpase if running via CLI\n",
    "        parser = argparse.ArgumentParser(description=\"Set environment for the script.\")\n",
    "        parser.add_argument(\n",
    "            \"--dataset\",\n",
    "            default=\"mursst\",\n",
    "            help=\"Dataset to resample.\",\n",
    "            choices=[\"gpm_imerg\", \"mursst\"],\n",
    "        )\n",
    "        user_args = parser.parse_args()\n",
    "        da = warp_resample(user_args.dataset)"
   ]
  },
  {
   "cell_type": "code",
   "execution_count": null,
   "metadata": {},
   "outputs": [],
   "source": []
  }
 ],
 "metadata": {
  "jupytext": {
   "main_language": "python"
  },
  "language_info": {
   "codemirror_mode": {
    "name": "ipython",
    "version": 3
   },
   "file_extension": ".py",
   "mimetype": "text/x-python",
   "name": "python",
   "nbconvert_exporter": "python",
   "pygments_lexer": "ipython3",
   "version": "3.11.10"
  }
 },
 "nbformat": 4,
 "nbformat_minor": 4
}
