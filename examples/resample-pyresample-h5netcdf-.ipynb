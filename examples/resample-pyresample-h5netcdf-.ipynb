{
 "cells": [
  {
   "cell_type": "code",
   "execution_count": null,
   "metadata": {},
   "outputs": [],
   "source": [
    "import earthaccess\n",
    "import xarray as xr\n",
    "from pyresample.area_config import create_area_def\n",
    "from pyresample.gradient import block_nn_interpolator, gradient_resampler_indices_block\n",
    "from pyresample.resampler import resample_blocks"
   ]
  },
  {
   "cell_type": "code",
   "execution_count": null,
   "metadata": {},
   "outputs": [],
   "source": [
    "def warp_resample():\n",
    "    bucket = \"podaac-ops-cumulus-protected\"\n",
    "    input_uri = \"MUR-JPL-L4-GLOB-v4.1/20020601090000-JPL-L4_GHRSST-SSTfnd-MUR-GLOB-v02.0-fv04.1.nc\"\n",
    "    variable = \"analysed_sst\"\n",
    "    src = f\"s3://{bucket}/{input_uri}\"\n",
    "    dstSRS = \"EPSG:3857\"\n",
    "    srcSRS = \"EPSG:4326\"\n",
    "    width = height = 256\n",
    "    te = [\n",
    "        -20037508.342789244,\n",
    "        -20037508.342789244,\n",
    "        20037508.342789244,\n",
    "        20037508.342789244,\n",
    "    ]\n",
    "    earthaccess.login()\n",
    "    fs = earthaccess.get_s3fs_session(daac=\"PODAAC\")\n",
    "    fsspec_caching = {\n",
    "        \"cache_type\": \"none\",\n",
    "    }\n",
    "    with fs.open(src, **fsspec_caching) as f:\n",
    "        da = xr.open_dataset(f, engine=\"h5netcdf\")[variable]\n",
    "        da = da.chunk({\"time\": -1, \"lat\": 4000, \"lon\": 4000})\n",
    "        target_area_def = create_area_def(\n",
    "            area_id=1,\n",
    "            projection=dstSRS,\n",
    "            shape=(height, width),\n",
    "            area_extent=te,\n",
    "        )\n",
    "        source_area_def = create_area_def(\n",
    "            area_id=2,\n",
    "            projection=srcSRS,\n",
    "            shape=(da.sizes[\"lat\"], da.sizes[\"lon\"]),\n",
    "            area_extent=[-179.995, 89.995, 180.005, -89.995],\n",
    "        )\n",
    "        indices_xy = resample_blocks(\n",
    "            gradient_resampler_indices_block,\n",
    "            source_area_def,\n",
    "            [],\n",
    "            target_area_def,\n",
    "            chunk_size=(1, height, width),\n",
    "            dtype=float,\n",
    "        )\n",
    "        resampled = resample_blocks(\n",
    "            block_nn_interpolator,\n",
    "            source_area_def,\n",
    "            [da.data],\n",
    "            target_area_def,\n",
    "            dst_arrays=[indices_xy],\n",
    "            chunk_size=(1, height, width),\n",
    "            dtype=da.dtype,\n",
    "        )\n",
    "        return resampled.compute()"
   ]
  },
  {
   "cell_type": "code",
   "execution_count": null,
   "metadata": {},
   "outputs": [],
   "source": [
    "if __name__ == \"__main__\":\n",
    "    warp_resample()"
   ]
  },
  {
   "cell_type": "code",
   "execution_count": null,
   "metadata": {},
   "outputs": [],
   "source": []
  }
 ],
 "metadata": {
  "kernelspec": {
   "display_name": "Python 3 (ipykernel)",
   "language": "python",
   "name": "python3"
  },
  "language_info": {
   "codemirror_mode": {
    "name": "ipython",
    "version": 3
   },
   "file_extension": ".py",
   "mimetype": "text/x-python",
   "name": "python",
   "nbconvert_exporter": "python",
   "pygments_lexer": "ipython3",
   "version": "3.11.9"
  }
 },
 "nbformat": 4,
 "nbformat_minor": 4
}
