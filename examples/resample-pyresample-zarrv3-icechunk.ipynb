{
 "cells": [
  {
   "cell_type": "markdown",
   "metadata": {},
   "source": [
    "## Resampling with pyresample (S3 storage, Zarr V3 store, Zarr reader with icechunk)¶"
   ]
  },
  {
   "cell_type": "code",
   "execution_count": null,
   "metadata": {},
   "outputs": [],
   "source": [
    "import argparse\n",
    "\n",
    "import xarray as xr\n",
    "from icechunk import IcechunkStore, StorageConfig\n",
    "from pyresample.area_config import create_area_def\n",
    "from pyresample.gradient import block_nn_interpolator, gradient_resampler_indices_block\n",
    "from pyresample.resampler import resample_blocks"
   ]
  },
  {
   "cell_type": "code",
   "execution_count": null,
   "metadata": {},
   "outputs": [],
   "source": [
    "def warp_resample(dataset):\n",
    "    from common import earthaccess_args\n",
    "    from common import target_extent as te\n",
    "\n",
    "    # Define filepath, driver, and variable information\n",
    "    args = earthaccess_args[dataset]\n",
    "    # Open dataset\n",
    "    storage = StorageConfig.s3_from_env(\n",
    "        bucket=\"nasa-veda-scratch\",\n",
    "        prefix=f\"resampling/icechunk/{dataset}\",\n",
    "        region=\"us-west-2\",\n",
    "    )\n",
    "    store = IcechunkStore.open_existing(storage=storage, mode=\"r\")\n",
    "    da = xr.open_zarr(store, zarr_version=3, consolidated=False)[args[\"variable\"]]\n",
    "    # Define source and target projection\n",
    "    dstSRS = \"EPSG:3857\"\n",
    "    srcSRS = \"EPSG:4326\"\n",
    "    width = height = 256\n",
    "    # Rechunk MURSST to operate on fewer chunks\n",
    "    if dataset == \"mursst\":\n",
    "        da = da.chunk({\"lat\": 4000, \"lon\": 4000})\n",
    "    elif dataset == \"gpm_imerg\":\n",
    "        # Transpose dims to align with pyresample expectations\n",
    "        da = da.squeeze()\n",
    "    # Create area definition for the target dataset\n",
    "    target_area_def = create_area_def(\n",
    "        area_id=1,\n",
    "        projection=dstSRS,\n",
    "        shape=(height, width),\n",
    "        area_extent=te,\n",
    "    )\n",
    "    # Create area definition for the source dataset\n",
    "    source_area_def = create_area_def(\n",
    "        area_id=2,\n",
    "        projection=srcSRS,\n",
    "        shape=(da.sizes[\"lat\"], da.sizes[\"lon\"]),\n",
    "        area_extent=[-179.995, 89.995, 180.005, -89.995],\n",
    "    )\n",
    "    # Compute indices for resampling\n",
    "    indices_xy = resample_blocks(\n",
    "        gradient_resampler_indices_block,\n",
    "        source_area_def,\n",
    "        [],\n",
    "        target_area_def,\n",
    "        chunk_size=(1, height, width),\n",
    "        dtype=float,\n",
    "    )\n",
    "    # Apply resampler\n",
    "    resampled = resample_blocks(\n",
    "        block_nn_interpolator,\n",
    "        source_area_def,\n",
    "        [da.data],\n",
    "        target_area_def,\n",
    "        dst_arrays=[indices_xy],\n",
    "        chunk_size=(1, height, width),\n",
    "        dtype=da.dtype,\n",
    "    )\n",
    "    # Reproject dataset\n",
    "    return resampled.compute()"
   ]
  },
  {
   "cell_type": "code",
   "execution_count": null,
   "metadata": {},
   "outputs": [],
   "source": [
    "if __name__ == \"__main__\":\n",
    "    if \"get_ipython\" in dir():\n",
    "        # Just call warp_resample if running as a Jupyter Notebook\n",
    "        da = warp_resample(\"gpm_imerg\")\n",
    "    else:\n",
    "        # Configure dataset via argpase if running via CLI\n",
    "        parser = argparse.ArgumentParser(description=\"Set environment for the script.\")\n",
    "        parser.add_argument(\n",
    "            \"--dataset\",\n",
    "            default=\"mursst\",\n",
    "            help=\"Dataset to resample.\",\n",
    "            choices=[\"gpm_imerg\", \"mursst\"],\n",
    "        )\n",
    "        user_args = parser.parse_args()\n",
    "        da = warp_resample(user_args.dataset)"
   ]
  },
  {
   "cell_type": "code",
   "execution_count": null,
   "metadata": {},
   "outputs": [],
   "source": []
  }
 ],
 "metadata": {
  "language_info": {
   "codemirror_mode": {
    "name": "ipython",
    "version": 3
   },
   "file_extension": ".py",
   "mimetype": "text/x-python",
   "name": "python",
   "nbconvert_exporter": "python",
   "pygments_lexer": "ipython3",
   "version": "3.11.10"
  }
 },
 "nbformat": 4,
 "nbformat_minor": 4
}
