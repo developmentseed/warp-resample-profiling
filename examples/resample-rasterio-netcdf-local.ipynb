{
 "cells": [
  {
   "cell_type": "markdown",
   "metadata": {},
   "source": [
    "## Resampling with rasterio (Local storage, NetCDF File, NetCDF4 driver)"
   ]
  },
  {
   "cell_type": "code",
   "execution_count": null,
   "metadata": {},
   "outputs": [],
   "source": [
    "import argparse\n",
    "import json\n",
    "\n",
    "import geopandas as gpd\n",
    "import numpy as np\n",
    "import rasterio\n",
    "from rasterio.mask import mask\n",
    "from rasterio.warp import reproject\n",
    "from shapely.geometry import box"
   ]
  },
  {
   "cell_type": "code",
   "execution_count": null,
   "metadata": {},
   "outputs": [],
   "source": [
    "def warp_resample(dataset):\n",
    "    from common import earthaccess_args\n",
    "    from common import target_extent as te\n",
    "\n",
    "    # Define filepath, driver, and variable information\n",
    "    args = earthaccess_args[dataset]\n",
    "    src = f'NETCDF:earthaccess_data/{args[\"filename\"]}:{args[\"variable\"]}'\n",
    "    # Define source and target projection\n",
    "    dstSRS = \"EPSG:3857\"\n",
    "    srcSRS = \"EPSG:4326\"\n",
    "    width = height = 256\n",
    "    with rasterio.open(src) as da:\n",
    "        # Clip dataset to bounds of Web Mercator tile\n",
    "        bbox = box(*te)\n",
    "        geo = gpd.GeoDataFrame(\n",
    "            {\"geometry\": bbox}, index=[0], crs=int(dstSRS.split(\":\")[1])\n",
    "        )\n",
    "        geo = geo.to_crs(crs=srcSRS)\n",
    "        coords = [json.loads(geo.to_json())[\"features\"][0][\"geometry\"]]\n",
    "        arr, src_transform = mask(da, shapes=coords, crop=True)\n",
    "        # Mask and fill array\n",
    "        ma = arr.astype(\"float32\", casting=\"unsafe\")\n",
    "        np.multiply(ma, da.scales[0], out=ma, casting=\"unsafe\")\n",
    "        np.add(ma, da.offsets[0], out=ma, casting=\"unsafe\")\n",
    "        # Define affine transformation from input to output dataset\n",
    "        dst_transform = rasterio.transform.from_bounds(*te, width, height)\n",
    "        # Create array to host results\n",
    "        destination = np.zeros((height, width), np.float32)\n",
    "        # Reproject dataset\n",
    "        _, transform = reproject(\n",
    "            ma.squeeze(),\n",
    "            destination,\n",
    "            src_crs=srcSRS,\n",
    "            src_transform=src_transform,\n",
    "            dst_crs=dstSRS,\n",
    "            dst_transform=dst_transform,\n",
    "        )\n",
    "        return destination"
   ]
  },
  {
   "cell_type": "code",
   "execution_count": null,
   "metadata": {},
   "outputs": [],
   "source": [
    "if __name__ == \"__main__\":\n",
    "    if \"get_ipython\" in dir():\n",
    "        # Just call warp_resample if running as a Jupyter Notebook\n",
    "        da = warp_resample(\"mursst\")\n",
    "    else:\n",
    "        # Configure dataset via argpase if running via CLI\n",
    "        parser = argparse.ArgumentParser(description=\"Set environment for the script.\")\n",
    "        parser.add_argument(\n",
    "            \"--dataset\",\n",
    "            default=\"mursst\",\n",
    "            help=\"Dataset to resample.\",\n",
    "            choices=[\"mursst\"],\n",
    "        )\n",
    "        user_args = parser.parse_args()\n",
    "        da = warp_resample(user_args.dataset)"
   ]
  }
 ],
 "metadata": {
  "language_info": {
   "codemirror_mode": {
    "name": "ipython",
    "version": 3
   },
   "file_extension": ".py",
   "mimetype": "text/x-python",
   "name": "python",
   "nbconvert_exporter": "python",
   "pygments_lexer": "ipython3",
   "version": "3.11.10"
  }
 },
 "nbformat": 4,
 "nbformat_minor": 4
}
