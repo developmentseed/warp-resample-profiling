{
 "cells": [
  {
   "cell_type": "code",
   "execution_count": null,
   "metadata": {},
   "outputs": [],
   "source": [
    "import rasterio as rio\n",
    "import rioxarray as rx\n",
    "from rasterio.session import AWSSession\n",
    "from rasterio.warp import calculate_default_transform"
   ]
  },
  {
   "cell_type": "code",
   "execution_count": null,
   "metadata": {},
   "outputs": [],
   "source": [
    "def configure_auth():\n",
    "    import boto3\n",
    "    import earthaccess\n",
    "\n",
    "    auth = earthaccess.login()\n",
    "    s3_credentials = auth.get_s3_credentials(\"PODAAC\")\n",
    "    session = boto3.Session(\n",
    "        aws_access_key_id=s3_credentials[\"accessKeyId\"],\n",
    "        aws_secret_access_key=s3_credentials[\"secretAccessKey\"],\n",
    "        aws_session_token=s3_credentials[\"sessionToken\"],\n",
    "        region_name=\"us-west-2\",\n",
    "    )\n",
    "    rio_env = rio.Env(\n",
    "        AWSSession(session),\n",
    "    )\n",
    "    rio_env.__enter__()\n",
    "    return rio_env"
   ]
  },
  {
   "cell_type": "code",
   "execution_count": null,
   "metadata": {},
   "outputs": [],
   "source": [
    "def warp_resample():\n",
    "    bucket = \"podaac-ops-cumulus-protected\"\n",
    "    input_uri = \"MUR-JPL-L4-GLOB-v4.1/20020601090000-JPL-L4_GHRSST-SSTfnd-MUR-GLOB-v02.0-fv04.1.nc\"\n",
    "    src = f\"NETCDF:/vsis3/{bucket}/{input_uri}:analysed_sst\"\n",
    "    dstSRS = \"EPSG:3857\"\n",
    "    srcSRS = \"EPSG:4326\"\n",
    "    width = height = 256\n",
    "    te = [\n",
    "        -20037508.342789244,\n",
    "        -20037508.342789244,\n",
    "        20037508.342789244,\n",
    "        20037508.342789244,\n",
    "    ]\n",
    "\n",
    "    da = rx.open_rasterio(src)  # , mask_and_scale=True)\n",
    "    da = da.rio.write_crs(srcSRS)\n",
    "    da = da.rio.clip_box(\n",
    "        *te,\n",
    "        crs=dstSRS,\n",
    "    )\n",
    "    dst_transform, w, h = calculate_default_transform(\n",
    "        srcSRS,\n",
    "        dstSRS,\n",
    "        da.rio.width,\n",
    "        da.rio.height,\n",
    "        *da.rio.bounds(),\n",
    "        dst_width=width,\n",
    "        dst_height=height,\n",
    "    )\n",
    "    return da.rio.reproject(dstSRS, shape=(h, w), transform=dst_transform)"
   ]
  },
  {
   "cell_type": "code",
   "execution_count": null,
   "metadata": {},
   "outputs": [],
   "source": [
    "if __name__ == \"__main__\":\n",
    "    # rio_env = configure_auth()\n",
    "    warp_resample()\n",
    "    # rio_env.__exit__()"
   ]
  }
 ],
 "metadata": {
  "kernelspec": {
   "display_name": "Python 3 (ipykernel)",
   "language": "python",
   "name": "python3"
  },
  "language_info": {
   "codemirror_mode": {
    "name": "ipython",
    "version": 3
   },
   "file_extension": ".py",
   "mimetype": "text/x-python",
   "name": "python",
   "nbconvert_exporter": "python",
   "pygments_lexer": "ipython3",
   "version": "3.11.9"
  }
 },
 "nbformat": 4,
 "nbformat_minor": 4
}
