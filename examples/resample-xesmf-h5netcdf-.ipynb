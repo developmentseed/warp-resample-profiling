{
 "cells": [
  {
   "cell_type": "markdown",
   "metadata": {},
   "source": [
    "## XESMF with H5NetCDF and earthaccess\n",
    "\n",
    "Requires the upcoming ESMF 8.7 release - https://github.com/pangeo-data/xESMF/issues/380"
   ]
  },
  {
   "cell_type": "code",
   "execution_count": null,
   "metadata": {
    "lines_to_next_cell": 2
   },
   "outputs": [],
   "source": [
    "import argparse\n",
    "import itertools\n",
    "\n",
    "import earthaccess\n",
    "import numpy as np\n",
    "import pyproj\n",
    "import rasterio.transform\n",
    "import xarray as xr\n",
    "import xesmf as xe\n",
    "from common import earthaccess_args"
   ]
  },
  {
   "cell_type": "code",
   "execution_count": null,
   "metadata": {},
   "outputs": [],
   "source": [
    "def make_grid_ds() -> xr.Dataset:\n",
    "    \"\"\"\n",
    "    Modified from ndpyramid - https://github.com/carbonplan/ndpyramid\n",
    "    \"\"\"\n",
    "    dstSRS = \"EPSG:3857\"\n",
    "    width = height = 256\n",
    "    te = [\n",
    "        -20037508.342789244,\n",
    "        -20037508.342789244,\n",
    "        20037508.342789244,\n",
    "        20037508.342789244,\n",
    "    ]\n",
    "\n",
    "    transform = rasterio.transform.Affine.translation(\n",
    "        te[0], te[3]\n",
    "    ) * rasterio.transform.Affine.scale((te[2] * 2) / width, (te[1] * 2) / height)\n",
    "\n",
    "    p = pyproj.Proj(dstSRS)\n",
    "\n",
    "    grid_shape = (height, width)\n",
    "    bounds_shape = (height + 1, width + 1)\n",
    "\n",
    "    xs = np.empty(grid_shape)\n",
    "    ys = np.empty(grid_shape)\n",
    "    lat = np.empty(grid_shape)\n",
    "    lon = np.empty(grid_shape)\n",
    "    lat_b = np.zeros(bounds_shape)\n",
    "    lon_b = np.zeros(bounds_shape)\n",
    "\n",
    "    # calc grid cell center coordinates\n",
    "    ii, jj = np.meshgrid(np.arange(height) + 0.5, np.arange(width) + 0.5)\n",
    "    for i, j in itertools.product(range(grid_shape[0]), range(grid_shape[1])):\n",
    "        locs = [ii[i, j], jj[i, j]]\n",
    "        xs[i, j], ys[i, j] = transform * locs\n",
    "        lon[i, j], lat[i, j] = p(xs[i, j], ys[i, j], inverse=True)\n",
    "\n",
    "    # calc grid cell bounds\n",
    "    iib, jjb = np.meshgrid(np.arange(height + 1), np.arange(width + 1))\n",
    "    for i, j in itertools.product(range(bounds_shape[0]), range(bounds_shape[1])):\n",
    "        locs = [iib[i, j], jjb[i, j]]\n",
    "        x, y = transform * locs\n",
    "        lon_b[i, j], lat_b[i, j] = p(x, y, inverse=True)\n",
    "\n",
    "    return xr.Dataset(\n",
    "        {\n",
    "            \"x\": xr.DataArray(xs[0, :], dims=[\"x\"]),\n",
    "            \"y\": xr.DataArray(ys[:, 0], dims=[\"y\"]),\n",
    "            \"lat\": xr.DataArray(lat, dims=[\"y\", \"x\"]),\n",
    "            \"lon\": xr.DataArray(lon, dims=[\"y\", \"x\"]),\n",
    "            \"lat_b\": xr.DataArray(lat_b, dims=[\"y_b\", \"x_b\"]),\n",
    "            \"lon_b\": xr.DataArray(lon_b, dims=[\"y_b\", \"x_b\"]),\n",
    "        },\n",
    "    )"
   ]
  },
  {
   "cell_type": "code",
   "execution_count": null,
   "metadata": {},
   "outputs": [],
   "source": [
    "def regrid(dataset):\n",
    "    args = earthaccess_args[dataset]\n",
    "    input_uri = f'{args[\"folder\"]}/{args[\"filename\"]}'\n",
    "    src = f's3://{args[\"bucket\"]}/{input_uri}'\n",
    "    target_grid = make_grid_ds()\n",
    "    fs = earthaccess.get_s3fs_session(daac=args[\"daac\"])\n",
    "    fsspec_caching = {\n",
    "        \"cache_type\": \"none\",\n",
    "    }\n",
    "    with fs.open(src, **fsspec_caching) as f:\n",
    "        da = xr.open_dataset(f, engine=\"h5netcdf\", mask_and_scale=True)[\n",
    "            args[\"variable\"]\n",
    "        ]\n",
    "        regridder = xe.Regridder(\n",
    "            da,\n",
    "            target_grid,\n",
    "            \"nearest_s2d\",\n",
    "            periodic=True,\n",
    "            extrap_method=\"nearest_s2d\",\n",
    "            ignore_degenerate=True,\n",
    "        )\n",
    "        return regridder(da)"
   ]
  },
  {
   "cell_type": "code",
   "execution_count": null,
   "metadata": {},
   "outputs": [],
   "source": [
    "if __name__ == \"__main__\":\n",
    "    parser = argparse.ArgumentParser(description=\"Set environment for the script.\")\n",
    "    parser.add_argument(\n",
    "        \"--dataset\",\n",
    "        default=\"mursst\",\n",
    "        help=\"Dataset to resample.\",\n",
    "        choices=[\"gpm_imerg\", \"mursst\"],\n",
    "    )\n",
    "    user_args = parser.parse_args()\n",
    "    da = regrid(user_args.dataset)"
   ]
  },
  {
   "cell_type": "code",
   "execution_count": null,
   "metadata": {},
   "outputs": [],
   "source": []
  }
 ],
 "metadata": {
  "language_info": {
   "codemirror_mode": {
    "name": "ipython",
    "version": 3
   },
   "file_extension": ".py",
   "mimetype": "text/x-python",
   "name": "python",
   "nbconvert_exporter": "python",
   "pygments_lexer": "ipython3",
   "version": "3.11.9"
  }
 },
 "nbformat": 4,
 "nbformat_minor": 4
}
