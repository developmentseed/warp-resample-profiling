{
 "cells": [
  {
   "cell_type": "markdown",
   "metadata": {},
   "source": [
    "## Resampling with Rioxarray (S3 storage, NetCDF file, H5NetCDF driver, earthaccess auth)"
   ]
  },
  {
   "cell_type": "code",
   "execution_count": null,
   "metadata": {},
   "outputs": [],
   "source": [
    "import argparse\n",
    "import sys\n",
    "\n",
    "import earthaccess\n",
    "import xarray as xr\n",
    "from rasterio.warp import calculate_default_transform"
   ]
  },
  {
   "cell_type": "code",
   "execution_count": null,
   "metadata": {},
   "outputs": [],
   "source": [
    "sys.path.append(\"..\")"
   ]
  },
  {
   "cell_type": "code",
   "execution_count": null,
   "metadata": {},
   "outputs": [],
   "source": [
    "def warp_resample(dataset):\n",
    "    from common import earthaccess_args\n",
    "    from common import target_extent as te\n",
    "\n",
    "    # Define filepath, driver, and variable information\n",
    "    args = earthaccess_args[dataset]\n",
    "    input_uri = f'{args[\"folder\"]}/{args[\"filename\"]}'\n",
    "    src = f's3://{args[\"bucket\"]}/{input_uri}'\n",
    "    # Define source and target projection\n",
    "    dstSRS = \"EPSG:3857\"\n",
    "    srcSRS = \"EPSG:4326\"\n",
    "    width = height = 256\n",
    "    # Authenticate with earthaccess\n",
    "    fs = earthaccess.get_s3_filesystem(daac=args[\"daac\"])\n",
    "    # Specify fsspec caching since default options don't work well for raster data\n",
    "    fsspec_caching = {\n",
    "        \"cache_type\": \"none\",\n",
    "    }\n",
    "    with fs.open(src, **fsspec_caching) as f:\n",
    "        # Open dataset\n",
    "        da = xr.open_dataset(f, engine=\"h5netcdf\", mask_and_scale=True)[\n",
    "            args[\"variable\"]\n",
    "        ]\n",
    "        if dataset == \"gpm_imerg\":\n",
    "            # Transpose and rename dims to align with rioxarray expectations\n",
    "            da = da.rename({\"lon\": \"x\", \"lat\": \"y\"}).transpose(\"time\", \"y\", \"x\")\n",
    "        # Set input dataset projection\n",
    "        da = da.rio.write_crs(srcSRS)\n",
    "        da = da.rio.clip_box(\n",
    "            *te,\n",
    "            crs=dstSRS,\n",
    "        )\n",
    "        # Define affine transformation from input to output dataset\n",
    "        dst_transform, w, h = calculate_default_transform(\n",
    "            srcSRS,\n",
    "            dstSRS,\n",
    "            da.rio.width,\n",
    "            da.rio.height,\n",
    "            *da.rio.bounds(),\n",
    "            dst_width=width,\n",
    "            dst_height=height,\n",
    "        )\n",
    "        # Reproject dataset\n",
    "        return da.rio.reproject(dstSRS, shape=(h, w), transform=dst_transform)"
   ]
  },
  {
   "cell_type": "code",
   "execution_count": null,
   "metadata": {},
   "outputs": [],
   "source": [
    "if __name__ == \"__main__\":\n",
    "    if \"get_ipython\" in dir():\n",
    "        # Just call warp_resample if running as a Jupyter Notebook\n",
    "        da = warp_resample(\"gpm_imerg\")\n",
    "    else:\n",
    "        # Configure dataset via argpase if running via CLI\n",
    "        parser = argparse.ArgumentParser(description=\"Set environment for the script.\")\n",
    "        parser.add_argument(\n",
    "            \"--dataset\",\n",
    "            default=\"mursst\",\n",
    "            help=\"Dataset to resample.\",\n",
    "            choices=[\"gpm_imerg\", \"mursst\"],\n",
    "        )\n",
    "        user_args = parser.parse_args()\n",
    "        da = warp_resample(user_args.dataset)"
   ]
  },
  {
   "cell_type": "code",
   "execution_count": null,
   "metadata": {},
   "outputs": [],
   "source": []
  }
 ],
 "metadata": {
  "language_info": {
   "codemirror_mode": {
    "name": "ipython",
    "version": 3
   },
   "file_extension": ".py",
   "mimetype": "text/x-python",
   "name": "python",
   "nbconvert_exporter": "python",
   "pygments_lexer": "ipython3",
   "version": "3.11.10"
  }
 },
 "nbformat": 4,
 "nbformat_minor": 4
}
