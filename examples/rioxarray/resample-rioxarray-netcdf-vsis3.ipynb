{
 "cells": [
  {
   "cell_type": "markdown",
   "metadata": {},
   "source": [
    "## Resampling with Rioxarray (S3 storage, NetCDF File, NetCDF4 driver, VSIS3 virtualization, earthaccess auth)"
   ]
  },
  {
   "cell_type": "code",
   "execution_count": null,
   "metadata": {},
   "outputs": [],
   "source": [
    "import argparse\n",
    "import sys\n",
    "\n",
    "import rasterio as rio\n",
    "import rioxarray as rx\n",
    "from rasterio.session import AWSSession\n",
    "from rasterio.warp import calculate_default_transform"
   ]
  },
  {
   "cell_type": "code",
   "execution_count": null,
   "metadata": {},
   "outputs": [],
   "source": [
    "sys.path.append(\"..\")"
   ]
  },
  {
   "cell_type": "code",
   "execution_count": null,
   "metadata": {},
   "outputs": [],
   "source": [
    "def configure_auth(daac):\n",
    "    \"\"\"Authenticate using earthaccess\"\"\"\n",
    "    import boto3\n",
    "    import earthaccess\n",
    "\n",
    "    auth = earthaccess.login()\n",
    "    s3_credentials = auth.get_s3_credentials(daac)\n",
    "    session = boto3.Session(\n",
    "        aws_access_key_id=s3_credentials[\"accessKeyId\"],\n",
    "        aws_secret_access_key=s3_credentials[\"secretAccessKey\"],\n",
    "        aws_session_token=s3_credentials[\"sessionToken\"],\n",
    "        region_name=\"us-west-2\",\n",
    "    )\n",
    "    rio_env = rio.Env(\n",
    "        AWSSession(session),\n",
    "    )\n",
    "    rio_env.__enter__()\n",
    "    return rio_env"
   ]
  },
  {
   "cell_type": "code",
   "execution_count": null,
   "metadata": {},
   "outputs": [],
   "source": [
    "def warp_resample(dataset):\n",
    "    from common import earthaccess_args\n",
    "    from common import target_extent as te\n",
    "\n",
    "    # Define filepath, driver, and variable information\n",
    "    args = earthaccess_args[dataset]\n",
    "    input_uri = f'{args[\"folder\"]}/{args[\"filename\"]}'\n",
    "    src = f'NETCDF:/vsis3/{args[\"bucket\"]}/{input_uri}:{args[\"variable\"]}'\n",
    "    # Define source and target projection\n",
    "    dstSRS = \"EPSG:3857\"\n",
    "    srcSRS = \"EPSG:4326\"\n",
    "    width = height = 256\n",
    "    with configure_auth(args[\"daac\"]):\n",
    "        # Open dataset\n",
    "        da = rx.open_rasterio(src, mask_and_scale=True)\n",
    "        # Set input dataset projection\n",
    "        da = da.rio.write_crs(srcSRS)\n",
    "        da = da.rio.clip_box(\n",
    "            *te,\n",
    "            crs=dstSRS,\n",
    "        )\n",
    "        # Define affine transformation from input to output dataset\n",
    "        dst_transform, w, h = calculate_default_transform(\n",
    "            srcSRS,\n",
    "            dstSRS,\n",
    "            da.rio.width,\n",
    "            da.rio.height,\n",
    "            *da.rio.bounds(),\n",
    "            dst_width=width,\n",
    "            dst_height=height,\n",
    "        )\n",
    "        # Reproject dataset\n",
    "        return da.rio.reproject(dstSRS, shape=(h, w), transform=dst_transform)"
   ]
  },
  {
   "cell_type": "code",
   "execution_count": null,
   "metadata": {},
   "outputs": [],
   "source": [
    "if __name__ == \"__main__\":\n",
    "    if \"get_ipython\" in dir():\n",
    "        # Just call warp_resample if running as a Jupyter Notebook\n",
    "        da = warp_resample(\"mursst\")\n",
    "    else:\n",
    "        # Configure dataset via argpase if running via CLI\n",
    "        parser = argparse.ArgumentParser(description=\"Set environment for the script.\")\n",
    "        parser.add_argument(\n",
    "            \"--dataset\",\n",
    "            default=\"mursst\",\n",
    "            help=\"Dataset to resample.\",\n",
    "            choices=[\"mursst\"],\n",
    "        )\n",
    "        user_args = parser.parse_args()\n",
    "        da = warp_resample(user_args.dataset)"
   ]
  },
  {
   "cell_type": "code",
   "execution_count": null,
   "metadata": {},
   "outputs": [],
   "source": []
  }
 ],
 "metadata": {
  "language_info": {
   "codemirror_mode": {
    "name": "ipython",
    "version": 3
   },
   "file_extension": ".py",
   "mimetype": "text/x-python",
   "name": "python",
   "nbconvert_exporter": "python",
   "pygments_lexer": "ipython3",
   "version": "3.11.9"
  }
 },
 "nbformat": 4,
 "nbformat_minor": 4
}
