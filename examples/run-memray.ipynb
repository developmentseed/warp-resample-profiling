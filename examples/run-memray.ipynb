{
 "cells": [
  {
   "cell_type": "code",
   "execution_count": null,
   "metadata": {},
   "outputs": [],
   "source": [
    "import subprocess\n",
    "from datetime import datetime\n",
    "from pathlib import Path\n",
    "\n",
    "import fsspec\n",
    "from utils import sync_notebook"
   ]
  },
  {
   "cell_type": "code",
   "execution_count": null,
   "metadata": {},
   "outputs": [],
   "source": [
    "fs = fsspec.filesystem(\"file\")\n",
    "current_date = datetime.today().strftime(\"%Y-%m-%d\")\n",
    "output_folder = f\"results/{current_date}/\"\n",
    "files = fs.glob(f\"{output_folder}memray-*.json\")\n",
    "fs.rm(files)\n",
    "fs.mkdirs(output_folder, exist_ok=True)"
   ]
  },
  {
   "cell_type": "code",
   "execution_count": null,
   "metadata": {},
   "outputs": [],
   "source": [
    "dataset = \"gpm_imerg\""
   ]
  },
  {
   "cell_type": "code",
   "execution_count": null,
   "metadata": {},
   "outputs": [],
   "source": [
    "def run_memray(file: str):\n",
    "    output_file = output_folder + \"memray-\" + dataset + \"-\" + Path(file).stem + \".bin\"\n",
    "    summary_file = output_folder + \"memray-\" + dataset + \"-\" + Path(file).stem + \".json\"\n",
    "    command = [\n",
    "        \"memray\",\n",
    "        \"run\",\n",
    "        \"--force\",\n",
    "        \"--output\",\n",
    "        output_file,\n",
    "        file,\n",
    "        \"--dataset\",\n",
    "        dataset,\n",
    "    ]\n",
    "    subprocess.run(command)\n",
    "    summary_command = [\n",
    "        \"memray\",\n",
    "        \"stats\",\n",
    "        \"--force\",\n",
    "        \"--json\",\n",
    "        \"--output\",\n",
    "        summary_file,\n",
    "        output_file,\n",
    "    ]\n",
    "    subprocess.run(summary_command)"
   ]
  },
  {
   "cell_type": "code",
   "execution_count": null,
   "metadata": {},
   "outputs": [],
   "source": [
    "input_methods = [\"resample-rioxarray-h5netcdf\", \"resample-odc\", \"resample-xesmf\"]"
   ]
  },
  {
   "cell_type": "code",
   "execution_count": null,
   "metadata": {},
   "outputs": [],
   "source": [
    "notebooks = []\n",
    "for fp in input_methods:\n",
    "    notebooks.extend(fs.glob(f\"{fp}*.ipynb\"))"
   ]
  },
  {
   "cell_type": "code",
   "execution_count": null,
   "metadata": {},
   "outputs": [],
   "source": [
    "for file in notebooks:\n",
    "    sync_notebook(file)"
   ]
  },
  {
   "cell_type": "code",
   "execution_count": null,
   "metadata": {},
   "outputs": [],
   "source": [
    "modules = []\n",
    "for fp in input_methods:\n",
    "    modules.extend(fs.glob(f\"{fp}*.py\"))\n",
    "for file in modules:\n",
    "    run_memray(file)"
   ]
  },
  {
   "cell_type": "code",
   "execution_count": null,
   "metadata": {},
   "outputs": [],
   "source": []
  }
 ],
 "metadata": {
  "language_info": {
   "codemirror_mode": {
    "name": "ipython",
    "version": 3
   },
   "file_extension": ".py",
   "mimetype": "text/x-python",
   "name": "python",
   "nbconvert_exporter": "python",
   "pygments_lexer": "ipython3",
   "version": "3.11.9"
  }
 },
 "nbformat": 4,
 "nbformat_minor": 4
}
