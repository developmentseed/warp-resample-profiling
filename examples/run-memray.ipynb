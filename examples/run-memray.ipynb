{
 "cells": [
  {
   "cell_type": "code",
   "execution_count": 1,
   "metadata": {},
   "outputs": [],
   "source": [
    "import subprocess\n",
    "from pathlib import Path\n",
    "\n",
    "import fsspec\n",
    "from utils import sync_notebook"
   ]
  },
  {
   "cell_type": "code",
   "execution_count": 2,
   "metadata": {},
   "outputs": [],
   "source": [
    "def run_memray(file: str):\n",
    "    output_file = \"results/memray-\" + Path(file).stem + \".bin\"\n",
    "    summary_file = \"results/memray-\" + Path(file).stem + \".json\"\n",
    "    command = [\"memray\", \"run\", \"--force\", \"--output\", output_file, file]\n",
    "    subprocess.run(command)\n",
    "    summary_command = [\n",
    "        \"memray\",\n",
    "        \"stats\",\n",
    "        \"--force\",\n",
    "        \"--json\",\n",
    "        \"--output\",\n",
    "        summary_file,\n",
    "        output_file,\n",
    "    ]\n",
    "    subprocess.run(summary_command)"
   ]
  },
  {
   "cell_type": "code",
   "execution_count": 3,
   "metadata": {},
   "outputs": [],
   "source": [
    "fs = fsspec.filesystem(\"file\")"
   ]
  },
  {
   "cell_type": "code",
   "execution_count": 4,
   "metadata": {},
   "outputs": [
    {
     "name": "stdout",
     "output_type": "stream",
     "text": [
      "[jupytext] Reading /home/jovyan/Code/developmentseed/warp-resample-profiling/examples/resample-gdal-netcdf-local.ipynb in format ipynb\n",
      "[jupytext] Loading /home/jovyan/Code/developmentseed/warp-resample-profiling/examples/resample-gdal-netcdf-local.py\n",
      "[jupytext] Unchanged /home/jovyan/Code/developmentseed/warp-resample-profiling/examples/resample-gdal-netcdf-local.ipynb\n",
      "[jupytext] Unchanged /home/jovyan/Code/developmentseed/warp-resample-profiling/examples/resample-gdal-netcdf-local.py\n",
      "[jupytext] Reading /home/jovyan/Code/developmentseed/warp-resample-profiling/examples/resample-gdal-netcdf-vsis3.ipynb in format ipynb\n",
      "[jupytext] Loading /home/jovyan/Code/developmentseed/warp-resample-profiling/examples/resample-gdal-netcdf-vsis3.py\n",
      "[jupytext] Unchanged /home/jovyan/Code/developmentseed/warp-resample-profiling/examples/resample-gdal-netcdf-vsis3.ipynb\n",
      "[jupytext] Unchanged /home/jovyan/Code/developmentseed/warp-resample-profiling/examples/resample-gdal-netcdf-vsis3.py\n",
      "[jupytext] Reading /home/jovyan/Code/developmentseed/warp-resample-profiling/examples/resample-gdal-vrt-local.ipynb in format ipynb\n",
      "[jupytext] Loading /home/jovyan/Code/developmentseed/warp-resample-profiling/examples/resample-gdal-vrt-local.py\n",
      "[jupytext] Unchanged /home/jovyan/Code/developmentseed/warp-resample-profiling/examples/resample-gdal-vrt-local.ipynb\n",
      "[jupytext] Unchanged /home/jovyan/Code/developmentseed/warp-resample-profiling/examples/resample-gdal-vrt-local.py\n",
      "[jupytext] Reading /home/jovyan/Code/developmentseed/warp-resample-profiling/examples/resample-odc-h5netcdf-.ipynb in format ipynb\n",
      "[jupytext] Unchanged /home/jovyan/Code/developmentseed/warp-resample-profiling/examples/resample-odc-h5netcdf-.ipynb\n",
      "[jupytext] Updating /home/jovyan/Code/developmentseed/warp-resample-profiling/examples/resample-odc-h5netcdf-.py\n",
      "[jupytext] Reading /home/jovyan/Code/developmentseed/warp-resample-profiling/examples/resample-pyresample-h5netcdf-.ipynb in format ipynb\n",
      "[jupytext] Unchanged /home/jovyan/Code/developmentseed/warp-resample-profiling/examples/resample-pyresample-h5netcdf-.ipynb\n",
      "[jupytext] Updating /home/jovyan/Code/developmentseed/warp-resample-profiling/examples/resample-pyresample-h5netcdf-.py\n",
      "[jupytext] Reading /home/jovyan/Code/developmentseed/warp-resample-profiling/examples/resample-rasterio-netcdf-vsis3.ipynb in format ipynb\n",
      "[jupytext] Loading /home/jovyan/Code/developmentseed/warp-resample-profiling/examples/resample-rasterio-netcdf-vsis3.py\n",
      "[jupytext] Unchanged /home/jovyan/Code/developmentseed/warp-resample-profiling/examples/resample-rasterio-netcdf-vsis3.ipynb\n",
      "[jupytext] Unchanged /home/jovyan/Code/developmentseed/warp-resample-profiling/examples/resample-rasterio-netcdf-vsis3.py\n",
      "[jupytext] Reading /home/jovyan/Code/developmentseed/warp-resample-profiling/examples/resample-rioxarray-netcdf-vsis3.ipynb in format ipynb\n",
      "[jupytext] Loading /home/jovyan/Code/developmentseed/warp-resample-profiling/examples/resample-rioxarray-netcdf-vsis3.py\n",
      "[jupytext] Unchanged /home/jovyan/Code/developmentseed/warp-resample-profiling/examples/resample-rioxarray-netcdf-vsis3.ipynb\n",
      "[jupytext] Unchanged /home/jovyan/Code/developmentseed/warp-resample-profiling/examples/resample-rioxarray-netcdf-vsis3.py\n"
     ]
    }
   ],
   "source": [
    "files = fs.glob(\"resample-*.ipynb\")\n",
    "for file in files:\n",
    "    sync_notebook(file)"
   ]
  },
  {
   "cell_type": "code",
   "execution_count": 5,
   "metadata": {},
   "outputs": [
    {
     "name": "stdout",
     "output_type": "stream",
     "text": [
      "Writing profile results into results/memray-resample-gdal-netcdf-local.bin\n",
      "[memray] Successfully generated profile results.\n",
      "\n",
      "You can now generate reports from the stored allocation records.\n",
      "Some example commands to generate reports:\n",
      "\n",
      "/opt/conda/bin/python -m memray flamegraph results/memray-resample-gdal-netcdf-local.bin\n",
      "\u001b[2K  \u001b[36mComputing statistics...\u001b[0m \u001b[90m━━━━━━━━━━━━━━━━━━━━━━━━━━━━━━━━━━━━━━━━\u001b[0m \u001b[35m100%\u001b[0m \u001b[36m0:00:00\u001b[0m5m 28%\u001b[0m \u001b[36m-:--:--\u001b[0m\n",
      "\u001b[1A\u001b[2KWrote results/memray-resample-gdal-netcdf-local.json\n",
      "Writing profile results into results/memray-resample-gdal-netcdf-vsis3.bin\n",
      "[memray] Successfully generated profile results.\n",
      "\n",
      "You can now generate reports from the stored allocation records.\n",
      "Some example commands to generate reports:\n",
      "\n",
      "/opt/conda/bin/python -m memray flamegraph results/memray-resample-gdal-netcdf-vsis3.bin\n",
      "\u001b[2K  \u001b[36mComputing statistics...\u001b[0m \u001b[90m━━━━━━━━━━━━━━━━━━━━━━━━━━━━━━━━━━━━━━━━\u001b[0m \u001b[35m100%\u001b[0m \u001b[36m0:00:00\u001b[0m5m 93%\u001b[0m \u001b[36m0:00:01\u001b[0m\n",
      "\u001b[1A\u001b[2KWrote results/memray-resample-gdal-netcdf-vsis3.json\n",
      "Writing profile results into results/memray-resample-gdal-vrt-local.bin\n",
      "[memray] Successfully generated profile results.\n",
      "\n",
      "You can now generate reports from the stored allocation records.\n",
      "Some example commands to generate reports:\n",
      "\n",
      "/opt/conda/bin/python -m memray flamegraph results/memray-resample-gdal-vrt-local.bin\n",
      "\u001b[2K  \u001b[36mComputing statistics...\u001b[0m \u001b[90m━━━━━━━━━━━━━━━━━━━━━━━━━━━━━━━━━━━━━━━━\u001b[0m \u001b[35m100%\u001b[0m \u001b[36m0:00:00\u001b[0m5m 42%\u001b[0m \u001b[36m-:--:--\u001b[0m\n",
      "\u001b[1A\u001b[2KWrote results/memray-resample-gdal-vrt-local.json\n",
      "Writing profile results into results/memray-resample-odc-h5netcdf-.bin\n",
      "[memray] Successfully generated profile results.\n",
      "\n",
      "You can now generate reports from the stored allocation records.\n",
      "Some example commands to generate reports:\n",
      "\n",
      "/opt/conda/bin/python -m memray flamegraph results/memray-resample-odc-h5netcdf-.bin\n",
      "\u001b[2K  \u001b[36mComputing statistics...\u001b[0m \u001b[90m━━━━━━━━━━━━━━━━━━━━━━━━━━━━━━━━━━━━━━━━\u001b[0m \u001b[35m100%\u001b[0m \u001b[36m0:00:00\u001b[0m5m 79%\u001b[0m \u001b[36m0:00:01\u001b[0m\n",
      "\u001b[1A\u001b[2KWrote results/memray-resample-odc-h5netcdf-.json\n"
     ]
    },
    {
     "name": "stderr",
     "output_type": "stream",
     "text": [
      "The input area chunks are large. This usually means that the input area is of much higher resolution than the output area. You can reduce the chunks passed, and ponder whether you are using the right resampler for the job.\n",
      "The input area chunks are large. This usually means that the input area is of much higher resolution than the output area. You can reduce the chunks passed, and ponder whether you are using the right resampler for the job.\n"
     ]
    },
    {
     "name": "stdout",
     "output_type": "stream",
     "text": [
      "Writing profile results into results/memray-resample-pyresample-h5netcdf-.bin\n",
      "[memray] Successfully generated profile results.\n",
      "\n",
      "You can now generate reports from the stored allocation records.\n",
      "Some example commands to generate reports:\n",
      "\n",
      "/opt/conda/bin/python -m memray flamegraph results/memray-resample-pyresample-h5netcdf-.bin\n",
      "\u001b[2K  \u001b[36mComputing statistics...\u001b[0m \u001b[90m━━━━━━━━━━━━━━━━━━━━━━━━━━━━━━━━━━━━━━━━\u001b[0m \u001b[35m100%\u001b[0m \u001b[36m0:00:00\u001b[0m5m 95%\u001b[0m \u001b[36m0:00:01\u001b[0m\n",
      "\u001b[1A\u001b[2KWrote results/memray-resample-pyresample-h5netcdf-.json\n",
      "Writing profile results into results/memray-resample-rasterio-netcdf-vsis3.bin\n",
      "[memray] Successfully generated profile results.\n",
      "\n",
      "You can now generate reports from the stored allocation records.\n",
      "Some example commands to generate reports:\n",
      "\n",
      "/opt/conda/bin/python -m memray flamegraph results/memray-resample-rasterio-netcdf-vsis3.bin\n",
      "\u001b[2K  \u001b[36mComputing statistics...\u001b[0m \u001b[90m━━━━━━━━━━━━━━━━━━━━━━━━━━━━━━━━━━━━━━━━\u001b[0m \u001b[35m100%\u001b[0m \u001b[36m0:00:00\u001b[0mm \u001b[36m0:00:01\u001b[0m00:01\u001b[0m\n",
      "\u001b[1A\u001b[2KWrote results/memray-resample-rasterio-netcdf-vsis3.json\n",
      "Writing profile results into results/memray-resample-rioxarray-netcdf-vsis3.bin\n",
      "[memray] Successfully generated profile results.\n",
      "\n",
      "You can now generate reports from the stored allocation records.\n",
      "Some example commands to generate reports:\n",
      "\n",
      "/opt/conda/bin/python -m memray flamegraph results/memray-resample-rioxarray-netcdf-vsis3.bin\n",
      "\u001b[2K  \u001b[36mComputing statistics...\u001b[0m \u001b[90m━━━━━━━━━━━━━━━━━━━━━━━━━━━━━━━━━━━━━━━━\u001b[0m \u001b[35m100%\u001b[0m \u001b[36m0:00:00\u001b[0mm \u001b[36m0:00:01\u001b[0m00:01\u001b[0m\n",
      "\u001b[1A\u001b[2KWrote results/memray-resample-rioxarray-netcdf-vsis3.json\n"
     ]
    }
   ],
   "source": [
    "files = fs.glob(\"resample-*.py\")\n",
    "for file in files:\n",
    "    run_memray(file)"
   ]
  },
  {
   "cell_type": "code",
   "execution_count": null,
   "metadata": {},
   "outputs": [],
   "source": []
  }
 ],
 "metadata": {
  "kernelspec": {
   "display_name": "Python 3 (ipykernel)",
   "language": "python",
   "name": "python3"
  },
  "language_info": {
   "codemirror_mode": {
    "name": "ipython",
    "version": 3
   },
   "file_extension": ".py",
   "mimetype": "text/x-python",
   "name": "python",
   "nbconvert_exporter": "python",
   "pygments_lexer": "ipython3",
   "version": "3.11.9"
  }
 },
 "nbformat": 4,
 "nbformat_minor": 4
}
