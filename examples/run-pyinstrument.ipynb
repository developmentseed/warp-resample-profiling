{
 "cells": [
  {
   "cell_type": "code",
   "execution_count": null,
   "metadata": {},
   "outputs": [],
   "source": [
    "import subprocess\n",
    "from datetime import datetime\n",
    "from pathlib import Path\n",
    "from typing import Literal\n",
    "\n",
    "import fsspec\n",
    "from utils import sync_notebook"
   ]
  },
  {
   "cell_type": "code",
   "execution_count": null,
   "metadata": {},
   "outputs": [],
   "source": [
    "fs = fsspec.filesystem(\"file\")\n",
    "current_date = datetime.today().strftime(\"%Y-%m-%d\")\n",
    "output_folder = f\"results/{current_date}/\"\n",
    "fs.mkdirs(output_folder, exist_ok=True)"
   ]
  },
  {
   "cell_type": "code",
   "execution_count": null,
   "metadata": {},
   "outputs": [],
   "source": [
    "dataset = \"gpm_imerg\""
   ]
  },
  {
   "cell_type": "code",
   "execution_count": null,
   "metadata": {},
   "outputs": [],
   "source": [
    "def run_pyinstrument(file: str, zoom: str, output_format: Literal[\"json\", \"html\"]):\n",
    "    output_file = f\"{output_folder}pyinstrument-{dataset}-{Path(file).stem}-{zoom}.{output_format}\"\n",
    "    command = [\n",
    "        \"pyinstrument\",\n",
    "        \"--outfile\",\n",
    "        output_file,\n",
    "        \"-r\",\n",
    "        output_format,\n",
    "        file,\n",
    "        \"--dataset\",\n",
    "        dataset,\n",
    "        \"--zoom\",\n",
    "        zoom,\n",
    "    ]\n",
    "    subprocess.run(command)"
   ]
  },
  {
   "cell_type": "code",
   "execution_count": null,
   "metadata": {},
   "outputs": [],
   "source": [
    "def sync_and_run(zoom, input_methods):\n",
    "    notebooks = []\n",
    "    for fp in input_methods:\n",
    "        notebooks.extend(fs.glob(f\"resample-*-{fp}*.ipynb\"))\n",
    "    for file in notebooks:\n",
    "        sync_notebook(file)\n",
    "    modules = []\n",
    "    for fp in input_methods:\n",
    "        modules.extend(fs.glob(f\"resample-*-{fp}*.py\"))\n",
    "    for file in modules:\n",
    "        # Skip kerchunk since it requires a different image build due to incompatibility with Zarr V3\n",
    "        if \"kerchunk\" not in file:\n",
    "            run_pyinstrument(file, zoom, \"json\")"
   ]
  },
  {
   "cell_type": "code",
   "execution_count": null,
   "metadata": {
    "lines_to_next_cell": 2
   },
   "outputs": [],
   "source": [
    "if dataset == \"gpm_imerg\":\n",
    "    input_methods = [\"rioxarray\", \"odc\", \"pyresample\", \"rioxarray\", \"xesmf\", \"sparse\"]\n",
    "    zoom_levels = [\"0\", \"1\", \"2\"]\n",
    "elif dataset == \"mursst\":\n",
    "    input_methods = [\"odc\", \"pyresample\", \"rioxarray\", \"rasterio\"]\n",
    "    zoom_levels = [\"0\", \"1\", \"2\", \"3\", \"4\", \"5\", \"6\"]"
   ]
  },
  {
   "cell_type": "code",
   "execution_count": null,
   "metadata": {},
   "outputs": [],
   "source": [
    "for zoom in zoom_levels:\n",
    "    sync_and_run(zoom, input_methods)"
   ]
  },
  {
   "cell_type": "code",
   "execution_count": null,
   "metadata": {},
   "outputs": [],
   "source": []
  }
 ],
 "metadata": {
  "language_info": {
   "codemirror_mode": {
    "name": "ipython",
    "version": 3
   },
   "file_extension": ".py",
   "mimetype": "text/x-python",
   "name": "python",
   "nbconvert_exporter": "python",
   "pygments_lexer": "ipython3",
   "version": "3.11.10"
  }
 },
 "nbformat": 4,
 "nbformat_minor": 4
}
