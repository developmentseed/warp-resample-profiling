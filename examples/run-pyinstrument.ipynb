{
 "cells": [
  {
   "cell_type": "code",
   "execution_count": null,
   "metadata": {},
   "outputs": [],
   "source": [
    "import subprocess\n",
    "from datetime import datetime\n",
    "from pathlib import Path\n",
    "from typing import Literal\n",
    "\n",
    "import fsspec\n",
    "from utils import sync_notebook"
   ]
  },
  {
   "cell_type": "code",
   "execution_count": null,
   "metadata": {},
   "outputs": [],
   "source": [
    "fs = fsspec.filesystem(\"file\")\n",
    "current_date = datetime.today().strftime(\"%Y-%m-%d\")\n",
    "output_folder = f\"results/{current_date}/\"\n",
    "fs.mkdirs(output_folder, exist_ok=True)"
   ]
  },
  {
   "cell_type": "code",
   "execution_count": null,
   "metadata": {},
   "outputs": [],
   "source": [
    "dataset = \"mursst\""
   ]
  },
  {
   "cell_type": "code",
   "execution_count": null,
   "metadata": {},
   "outputs": [],
   "source": [
    "def run_pyinstrument(file: str, output_format: Literal[\"json\", \"html\"]):\n",
    "    output_file = (\n",
    "        output_folder\n",
    "        + \"pyinstrument-\"\n",
    "        + dataset\n",
    "        + \"-\"\n",
    "        + Path(file).stem\n",
    "        + \".\"\n",
    "        + output_format\n",
    "    )\n",
    "    command = [\n",
    "        \"pyinstrument\",\n",
    "        \"--outfile\",\n",
    "        output_file,\n",
    "        \"-r\",\n",
    "        output_format,\n",
    "        file,\n",
    "        \"--dataset\",\n",
    "        dataset,\n",
    "    ]\n",
    "    subprocess.run(command)"
   ]
  },
  {
   "cell_type": "code",
   "execution_count": null,
   "metadata": {
    "lines_to_next_cell": 2
   },
   "outputs": [],
   "source": [
    "if dataset == \"gpm_imerg\":\n",
    "    input_methods = [\"rioxarray\", \"odc\", \"pyresample\", \"rioxarray\", \"xesmf\"]\n",
    "elif dataset == \"mursst\":\n",
    "    input_methods = [\"odc\", \"pyresample\", \"rioxarray\", \"rasterio\"]"
   ]
  },
  {
   "cell_type": "code",
   "execution_count": null,
   "metadata": {},
   "outputs": [],
   "source": [
    "notebooks = []\n",
    "for fp in input_methods:\n",
    "    notebooks.extend(fs.glob(f\"resample-{fp}*.ipynb\"))"
   ]
  },
  {
   "cell_type": "code",
   "execution_count": null,
   "metadata": {},
   "outputs": [],
   "source": [
    "for file in notebooks:\n",
    "    sync_notebook(file)"
   ]
  },
  {
   "cell_type": "code",
   "execution_count": null,
   "metadata": {},
   "outputs": [],
   "source": [
    "modules = []\n",
    "for fp in input_methods:\n",
    "    modules.extend(fs.glob(f\"resample-{fp}*.py\"))\n",
    "for file in modules:\n",
    "    # Skip kerchunk since it requires a different image build due to incompatibility with Zarr V3\n",
    "    if \"kerchunk\" not in file:\n",
    "        run_pyinstrument(file, \"json\")"
   ]
  },
  {
   "cell_type": "code",
   "execution_count": null,
   "metadata": {},
   "outputs": [],
   "source": [
    "modules"
   ]
  },
  {
   "cell_type": "code",
   "execution_count": null,
   "metadata": {},
   "outputs": [],
   "source": []
  }
 ],
 "metadata": {
  "language_info": {
   "codemirror_mode": {
    "name": "ipython",
    "version": 3
   },
   "file_extension": ".py",
   "mimetype": "text/x-python",
   "name": "python",
   "nbconvert_exporter": "python",
   "pygments_lexer": "ipython3",
   "version": "3.11.10"
  }
 },
 "nbformat": 4,
 "nbformat_minor": 4
}
