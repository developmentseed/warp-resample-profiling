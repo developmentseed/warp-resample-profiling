{
 "cells": [
  {
   "cell_type": "markdown",
   "metadata": {},
   "source": [
    "## GeoUtils with NetCDF, VSIS3, and earthaccess"
   ]
  },
  {
   "cell_type": "code",
   "execution_count": null,
   "metadata": {},
   "outputs": [],
   "source": [
    "import rasterio as rio\n",
    "from geoutils import Raster"
   ]
  },
  {
   "cell_type": "code",
   "execution_count": null,
   "metadata": {},
   "outputs": [],
   "source": [
    "def configure_auth():\n",
    "    import boto3\n",
    "    import earthaccess\n",
    "    from rasterio.session import AWSSession\n",
    "\n",
    "    auth = earthaccess.login()\n",
    "    s3_credentials = auth.get_s3_credentials(\"PODAAC\")\n",
    "    session = boto3.Session(\n",
    "        aws_access_key_id=s3_credentials[\"accessKeyId\"],\n",
    "        aws_secret_access_key=s3_credentials[\"secretAccessKey\"],\n",
    "        aws_session_token=s3_credentials[\"sessionToken\"],\n",
    "        region_name=\"us-west-2\",\n",
    "    )\n",
    "    rio_env = rio.Env(\n",
    "        AWSSession(session),\n",
    "    )\n",
    "    rio_env.__enter__()\n",
    "    return rio_env"
   ]
  },
  {
   "cell_type": "code",
   "execution_count": null,
   "metadata": {},
   "outputs": [],
   "source": [
    "def load_data():\n",
    "    bucket = \"podaac-ops-cumulus-protected\"\n",
    "    input_uri = \"MUR-JPL-L4-GLOB-v4.1/20020601090000-JPL-L4_GHRSST-SSTfnd-MUR-GLOB-v02.0-fv04.1.nc\"\n",
    "    src = f\"NETCDF:/vsis3/{bucket}/{input_uri}:analysed_sst\"\n",
    "    da = rio.open(src)\n",
    "    da = Raster(da)\n",
    "    return da.load()"
   ]
  },
  {
   "cell_type": "code",
   "execution_count": null,
   "metadata": {},
   "outputs": [],
   "source": [
    "if __name__ == \"__main__\":\n",
    "    rio_env = configure_auth()\n",
    "    da = load_data()\n",
    "    rio_env.__exit__()"
   ]
  },
  {
   "cell_type": "code",
   "execution_count": null,
   "metadata": {},
   "outputs": [],
   "source": []
  }
 ],
 "metadata": {
  "language_info": {
   "codemirror_mode": {
    "name": "ipython",
    "version": 3
   },
   "file_extension": ".py",
   "mimetype": "text/x-python",
   "name": "python",
   "nbconvert_exporter": "python",
   "pygments_lexer": "ipython3",
   "version": "3.11.9"
  }
 },
 "nbformat": 4,
 "nbformat_minor": 4
}
