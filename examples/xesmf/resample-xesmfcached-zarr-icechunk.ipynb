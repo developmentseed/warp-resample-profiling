{
 "cells": [
  {
   "cell_type": "markdown",
   "metadata": {},
   "source": [
    "## Resampling with XESMF (S3 storage, NetCDF file, Zarr reader, icechunk virtualization, and pre-generated weights)"
   ]
  },
  {
   "cell_type": "code",
   "execution_count": null,
   "metadata": {},
   "outputs": [],
   "source": [
    "import argparse\n",
    "import sys\n",
    "\n",
    "import numpy as np\n",
    "import xarray as xr\n",
    "import xesmf as xe\n",
    "from icechunk import IcechunkStore, StorageConfig"
   ]
  },
  {
   "cell_type": "code",
   "execution_count": null,
   "metadata": {},
   "outputs": [],
   "source": [
    "sys.path.append(\"..\")"
   ]
  },
  {
   "cell_type": "code",
   "execution_count": null,
   "metadata": {},
   "outputs": [],
   "source": [
    "def _reconstruct_xesmf_weights(ds_w):\n",
    "    \"\"\"\n",
    "    Reconstruct weights into format that xESMF understands\n",
    "\n",
    "    Notes\n",
    "    -----\n",
    "    From ndpyramid - https://github.com/carbonplan/ndpyramid\n",
    "    \"\"\"\n",
    "    import sparse\n",
    "    import xarray as xr\n",
    "\n",
    "    col = ds_w[\"col\"].values - 1\n",
    "    row = ds_w[\"row\"].values - 1\n",
    "    s = ds_w[\"S\"].values\n",
    "    n_out, n_in = ds_w.attrs[\"n_out\"], ds_w.attrs[\"n_in\"]\n",
    "    crds = np.stack([row, col])\n",
    "    return xr.DataArray(\n",
    "        sparse.COO(crds, s, (n_out, n_in)), dims=(\"out_dim\", \"in_dim\"), name=\"weights\"\n",
    "    )"
   ]
  },
  {
   "cell_type": "code",
   "execution_count": null,
   "metadata": {},
   "outputs": [],
   "source": [
    "def regrid(dataset):\n",
    "    from common import earthaccess_args  # noqa: 402\n",
    "\n",
    "    args = earthaccess_args[dataset]\n",
    "    # Load pre-generated weights and target dataset\n",
    "    weights_storage = StorageConfig.s3_from_env(\n",
    "        bucket=\"nasa-veda-scratch\",\n",
    "        prefix=f\"resampling/test-weight-caching/{dataset}-weights\",\n",
    "        region=\"us-west-2\",\n",
    "    )\n",
    "    target_storage = StorageConfig.s3_from_env(\n",
    "        bucket=\"nasa-veda-scratch\",\n",
    "        prefix=f\"resampling/test-weight-caching/{dataset}-target\",\n",
    "        region=\"us-west-2\",\n",
    "    )\n",
    "    weights_store = IcechunkStore.open_existing(storage=weights_storage, mode=\"r\")\n",
    "    target_store = IcechunkStore.open_existing(storage=target_storage, mode=\"r\")\n",
    "    weights = _reconstruct_xesmf_weights(\n",
    "        xr.open_zarr(weights_store, zarr_version=3, consolidated=False)\n",
    "    )\n",
    "    grid = xr.open_zarr(target_store, zarr_version=3, consolidated=False)\n",
    "    # Open dataset\n",
    "    storage = StorageConfig.s3_from_env(\n",
    "        bucket=\"nasa-veda-scratch\",\n",
    "        prefix=f\"resampling/icechunk/{dataset}-reference\",\n",
    "        region=\"us-west-2\",\n",
    "    )\n",
    "    store = IcechunkStore.open_existing(storage=storage, mode=\"r\")\n",
    "    da = xr.open_zarr(store, zarr_version=3, consolidated=False)[args[\"variable\"]]\n",
    "    # Create XESMF regridder\n",
    "    regridder = xe.Regridder(\n",
    "        da,\n",
    "        grid,\n",
    "        \"nearest_s2d\",\n",
    "        periodic=True,\n",
    "        extrap_method=\"nearest_s2d\",\n",
    "        ignore_degenerate=True,\n",
    "        reuse_weights=True,\n",
    "        weights=weights,\n",
    "    )\n",
    "    # Regrid dataset\n",
    "    return regridder(da)"
   ]
  },
  {
   "cell_type": "code",
   "execution_count": null,
   "metadata": {},
   "outputs": [],
   "source": [
    "if __name__ == \"__main__\":\n",
    "    if \"get_ipython\" in dir():\n",
    "        # Just call warp_resample if running as a Jupyter Notebook\n",
    "        da = regrid(\"gpm_imerg\")\n",
    "    else:\n",
    "        # Configure dataset via argpase if running via CLI\n",
    "        parser = argparse.ArgumentParser(description=\"Set environment for the script.\")\n",
    "        parser.add_argument(\n",
    "            \"--dataset\",\n",
    "            default=\"gpm_imerg\",\n",
    "            help=\"Dataset to resample.\",\n",
    "            choices=[\"gpm_imerg\", \"mursst\"],\n",
    "        )\n",
    "        user_args = parser.parse_args()\n",
    "        da = regrid(user_args.dataset)"
   ]
  },
  {
   "cell_type": "code",
   "execution_count": null,
   "metadata": {},
   "outputs": [],
   "source": []
  }
 ],
 "metadata": {
  "jupytext": {
   "main_language": "python"
  },
  "language_info": {
   "codemirror_mode": {
    "name": "ipython",
    "version": 3
   },
   "file_extension": ".py",
   "mimetype": "text/x-python",
   "name": "python",
   "nbconvert_exporter": "python",
   "pygments_lexer": "ipython3",
   "version": "3.11.10"
  }
 },
 "nbformat": 4,
 "nbformat_minor": 4
}
