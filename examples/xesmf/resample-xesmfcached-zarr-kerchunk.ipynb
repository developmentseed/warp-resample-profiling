{
 "cells": [
  {
   "cell_type": "markdown",
   "metadata": {},
   "source": [
    "## Resampling with XESMF (S3 storage, NetCDF file, Zarr reader, kerchunk virtualization, and pre-generated weights)"
   ]
  },
  {
   "cell_type": "code",
   "execution_count": null,
   "metadata": {},
   "outputs": [],
   "source": [
    "import argparse\n",
    "import sys\n",
    "\n",
    "import earthaccess\n",
    "import fsspec\n",
    "import numpy as np\n",
    "import xarray as xr\n",
    "import xesmf as xe"
   ]
  },
  {
   "cell_type": "code",
   "execution_count": null,
   "metadata": {},
   "outputs": [],
   "source": [
    "sys.path.append(\"..\")"
   ]
  },
  {
   "cell_type": "code",
   "execution_count": null,
   "metadata": {},
   "outputs": [],
   "source": [
    "def _reconstruct_xesmf_weights(ds_w):\n",
    "    \"\"\"\n",
    "    Reconstruct weights into format that xESMF understands\n",
    "\n",
    "    Notes\n",
    "    -----\n",
    "    From ndpyramid - https://github.com/carbonplan/ndpyramid\n",
    "    \"\"\"\n",
    "    import sparse\n",
    "    import xarray as xr\n",
    "\n",
    "    col = ds_w[\"col\"].values - 1\n",
    "    row = ds_w[\"row\"].values - 1\n",
    "    s = ds_w[\"S\"].values\n",
    "    n_out, n_in = ds_w.attrs[\"n_out\"], ds_w.attrs[\"n_in\"]\n",
    "    crds = np.stack([row, col])\n",
    "    return xr.DataArray(\n",
    "        sparse.COO(crds, s, (n_out, n_in)), dims=(\"out_dim\", \"in_dim\"), name=\"weights\"\n",
    "    )\n",
    "\n",
    "\n",
    "def reconstruct_weights(weights_fp):\n",
    "    \"\"\"\n",
    "    Reconstruct weights into format that xESMF understands\n",
    "\n",
    "    Notes\n",
    "    -----\n",
    "    From ndpyramid - https://github.com/carbonplan/ndpyramid\n",
    "    \"\"\"\n",
    "    return _reconstruct_xesmf_weights(xr.open_zarr(weights_fp))"
   ]
  },
  {
   "cell_type": "code",
   "execution_count": null,
   "metadata": {},
   "outputs": [],
   "source": [
    "def regrid(dataset):\n",
    "    from common import earthaccess_args  # noqa: 402\n",
    "\n",
    "    args = earthaccess_args[dataset]\n",
    "    # Load pre-generated weights and target dataset\n",
    "    weights_fp = (\n",
    "        \"s3://nasa-veda-scratch/resampling/test-weight-caching/\"\n",
    "        + dataset\n",
    "        + \"-weights.zarr\"\n",
    "    )\n",
    "    target_grid_fp = (\n",
    "        \"s3://nasa-veda-scratch/resampling/test-weight-caching/\"\n",
    "        + dataset\n",
    "        + \"-target.zarr\"\n",
    "    )\n",
    "    weights = reconstruct_weights(weights_fp)\n",
    "    grid = xr.open_zarr(target_grid_fp)\n",
    "    if dataset == \"gpm_imerg\":\n",
    "        src = f'../earthaccess_data/{args[\"filename\"][:-4]}.json'\n",
    "    else:\n",
    "        src = f'../earthaccess_data/{args[\"filename\"][:-3]}.json'\n",
    "    # Authenticate with earthaccess\n",
    "    s3_fs = earthaccess.get_s3fs_session(daac=args[\"daac\"])\n",
    "    storage_options = s3_fs.storage_options.copy()\n",
    "    # Specify fsspec caching since default options don't work well for raster data\n",
    "    fsspec_caching = {\n",
    "        \"cache_type\": \"none\",\n",
    "    }\n",
    "    # Open dataset using kerchunk\n",
    "    fs = fsspec.filesystem(\"reference\", fo=src, **fsspec_caching)\n",
    "    m = fs.get_mapper(\"\")\n",
    "    da = xr.open_dataset(\n",
    "        m,\n",
    "        engine=\"kerchunk\",\n",
    "        chunks={},\n",
    "        storage_options=storage_options,\n",
    "    )[args[\"variable\"]]\n",
    "    # Create XESMF regridder\n",
    "    regridder = xe.Regridder(\n",
    "        da,\n",
    "        grid,\n",
    "        \"nearest_s2d\",\n",
    "        periodic=True,\n",
    "        extrap_method=\"nearest_s2d\",\n",
    "        ignore_degenerate=True,\n",
    "        reuse_weights=True,\n",
    "        weights=weights,\n",
    "    )\n",
    "    # Regrid dataset\n",
    "    return regridder(da).load()"
   ]
  },
  {
   "cell_type": "code",
   "execution_count": null,
   "metadata": {},
   "outputs": [],
   "source": [
    "if __name__ == \"__main__\":\n",
    "    if \"get_ipython\" in dir():\n",
    "        # Just call warp_resample if running as a Jupyter Notebook\n",
    "        da = regrid(\"gpm_imerg\")\n",
    "    else:\n",
    "        # Configure dataset via argpase if running via CLI\n",
    "        parser = argparse.ArgumentParser(description=\"Set environment for the script.\")\n",
    "        parser.add_argument(\n",
    "            \"--dataset\",\n",
    "            default=\"gpm_imerg\",\n",
    "            help=\"Dataset to resample.\",\n",
    "            choices=[\"gpm_imerg\", \"mursst\"],\n",
    "        )\n",
    "        user_args = parser.parse_args()\n",
    "        da = regrid(user_args.dataset)"
   ]
  }
 ],
 "metadata": {
  "jupytext": {
   "main_language": "python"
  },
  "language_info": {
   "codemirror_mode": {
    "name": "ipython",
    "version": 3
   },
   "file_extension": ".py",
   "mimetype": "text/x-python",
   "name": "python",
   "nbconvert_exporter": "python",
   "pygments_lexer": "ipython3",
   "version": "3.11.10"
  }
 },
 "nbformat": 4,
 "nbformat_minor": 4
}
